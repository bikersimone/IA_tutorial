{
 "cells": [
  {
   "cell_type": "markdown",
   "metadata": {
    "slideshow": {
     "slide_type": "slide"
    }
   },
   "source": [
    "<img src=\"cover.png\">"
   ]
  },
  {
   "cell_type": "markdown",
   "metadata": {
    "slideshow": {
     "slide_type": "slide"
    }
   },
   "source": [
    "# LEZIONE 1\n",
    "\n",
    "\n",
    "28 Maggio 2018"
   ]
  },
  {
   "cell_type": "markdown",
   "metadata": {
    "slideshow": {
     "slide_type": "slide"
    }
   },
   "source": [
    "### Python\n",
    "<img src=\"python-logo.png\">\n",
    "Python is an interpreted high-level programming language for general-purpose programming. Created by Guido van Rossum and first released in 1991, Python has a design philosophy that emphasizes code readability, notably using significant whitespace. It provides constructs that enable clear programming on both small and large scales.\n",
    "\n",
    "Python features a dynamic type system and automatic memory management. It supports multiple programming paradigms, including object-oriented, imperative, functional and procedural, and has a large and comprehensive standard library.\n",
    "\n",
    "As of March 2018, the Python Package Index (PyPI), the official repository for third-party Python software, contains over 130,000 packages with a wide range of functionality, including:"
   ]
  },
  {
   "cell_type": "markdown",
   "metadata": {
    "slideshow": {
     "slide_type": "subslide"
    }
   },
   "source": [
    "*    Graphical user interfaces\n",
    "*    Web frameworks\n",
    "*    Multimedia\n",
    "*    Databases\n",
    "*    Networking\n",
    "*    Test frameworks\n",
    "*    Automation\n",
    "*    Web scraping\n",
    "*    Documentation\n",
    "*    System administration\n",
    "*    Scientific computing\n",
    "*    Text processing\n",
    "*    Image processing"
   ]
  },
  {
   "cell_type": "markdown",
   "metadata": {
    "slideshow": {
     "slide_type": "slide"
    }
   },
   "source": [
    "### Anaconda\n",
    "<img src=\"Anaconda_Logo.png\">\n",
    "Anaconda is a free and open source distribution of the Python and R programming languages for data science and machine learning related applications (large-scale data processing, predictive analytics, scientific computing), that aims to simplify package management and deployment. Package versions are managed by the package management system conda.The Anaconda distribution is used by over 6 million users, and it includes more than 250 popular data science packages suitable for Windows, Linux, and MacOS.\n",
    "\n",
    "https://www.anaconda.com/download/"
   ]
  },
  {
   "cell_type": "markdown",
   "metadata": {
    "slideshow": {
     "slide_type": "slide"
    }
   },
   "source": [
    "### Jupyter\n",
    "<img src=\"jupyterlogo.png\">\n",
    "The Jupyter Notebook is an open-source web application that allows you to create and share documents that contain live code, equations, visualizations and narrative text. Uses include: data cleaning and transformation, numerical simulation, statistical modeling, data visualization, machine learning, and much more.\n",
    "\n",
    "http://jupyter.org/\n",
    "\n",
    "https://hub.packtpub.com/10-reasons-data-scientists-love-jupyter-notebooks/\n"
   ]
  },
  {
   "cell_type": "markdown",
   "metadata": {
    "slideshow": {
     "slide_type": "slide"
    }
   },
   "source": [
    "## Il linguaggio Python\n",
    "\n",
    "Serpente? No. Il nome deriva da “Monty Python's Flying Circus” (gruppo di comici inglese)\n",
    "Show BBC ma anche film: ricordiamo tra gli altri \"Brian di Nazareth\", \"Il Senso della Vita\"...\n",
    "\n",
    "Guido van Rossum (padre di Python) è un fan..\n",
    "\n",
    "Sito ufficiale del linguaggio: interprete linux / win / MacOS (ultima versione 2.5), IDE per Win, tutorial, reference: http://www.python.org\n",
    "\n",
    "“Dive into Python” (free book molto completo)\n",
    "http://diveintopython.org/index.html\n",
    "\n",
    "\"How to Think Like a Computer Scientist with Python“ (più introduttivo) http://greenteapress.com/thinkpython\n",
    "\n",
    "Python è un linguaggio multi-paradigma, che ha tra i principali obiettivi dinamicità, semplicità e flessibilità. Supporta il paradigma object oriented, la programmazione strutturata e molte caratteristiche di programmazione funzionale e riflessione. "
   ]
  },
  {
   "cell_type": "markdown",
   "metadata": {
    "slideshow": {
     "slide_type": "subslide"
    }
   },
   "source": [
    "Perchè Python in IA?\n",
    "Python è circa 40 volte più lento di C o C++!!!\n",
    "\n",
    "Nonostante la penalizzazione in performance, Python è il linguaggio più popolare al mondo negli ambiti di Data Science e Machine Learning!\n",
    "\n",
    "La ragione sta nel come si integra Python con i framework utilizzati. Gran parte dei framework per Data Science o IA sono scritti in linguaggi come C, C++ o Cython per cui sono molto performanti.\n",
    "\n",
    "Questo significa che Python deve essere utilizzato come un linguaggio **Dichiarativo**!\n",
    "\n",
    "I linguaggi dichiarativi pongono il focus su cosa dovrebbe essere calcolato evitando di entrare nei dettagli di come farlo. In pratica questo signifca evitare le espressioni di controllo di flusso: loop e statement condizionali. Questi ultimi saranno rimpiazzati da costrutti di livello più alto che descrivono la logica di cosa si vuole calcolare sfruttando tutti i benefici del linguaggio Python."
   ]
  },
  {
   "cell_type": "markdown",
   "metadata": {
    "slideshow": {
     "slide_type": "subslide"
    }
   },
   "source": [
    "Python è una sorta di super collante tra le libreri di Data Science o Machine Learning.\n",
    "\n",
    "Molte delle libreri di Data Science o Machine Learning adottano API che permettono di dichiarare le operazioni che si vogliono eseguire e la libreria esegue queste dichiarazioni in maniera efficiente in un lingiaggio di livello più basso.\n",
    "\n",
    "Questo è vincente perchè sfrutta il meglio di entrambi i mondi, codice facile da scrivere in Python e codice che esegue veloce come in C o C++."
   ]
  },
  {
   "cell_type": "code",
   "execution_count": 1,
   "metadata": {
    "slideshow": {
     "slide_type": "slide"
    }
   },
   "outputs": [
    {
     "data": {
      "text/html": [
       "\n",
       "        <iframe\n",
       "            width=\"900\"\n",
       "            height=\"800\"\n",
       "            src=\"Python.pdf\"\n",
       "            frameborder=\"0\"\n",
       "            allowfullscreen\n",
       "        ></iframe>\n",
       "        "
      ],
      "text/plain": [
       "<IPython.lib.display.IFrame at 0x107b20690>"
      ]
     },
     "execution_count": 1,
     "metadata": {},
     "output_type": "execute_result"
    }
   ],
   "source": [
    "from IPython.display import IFrame\n",
    "IFrame(\"Python.pdf\", width=900, height=800)"
   ]
  },
  {
   "cell_type": "markdown",
   "metadata": {
    "slideshow": {
     "slide_type": "slide"
    }
   },
   "source": [
    "### Python\n",
    "Python, a differenza di C/C++, è interpretato (anche se poi molte implementazioni lo compilano per motivi di efficienza): si può interagire con una macchina virtuale Python in maniera interattiva oppure come nel nostro caso attravero un notebook Jupyter."
   ]
  },
  {
   "cell_type": "code",
   "execution_count": 21,
   "metadata": {
    "slideshow": {
     "slide_type": "fragment"
    }
   },
   "outputs": [
    {
     "data": {
      "text/plain": [
       "4"
      ]
     },
     "execution_count": 21,
     "metadata": {},
     "output_type": "execute_result"
    }
   ],
   "source": [
    "#sono un commento\n",
    "2+2"
   ]
  },
  {
   "cell_type": "code",
   "execution_count": 22,
   "metadata": {
    "slideshow": {
     "slide_type": "fragment"
    }
   },
   "outputs": [
    {
     "data": {
      "text/plain": [
       "3"
      ]
     },
     "execution_count": 22,
     "metadata": {},
     "output_type": "execute_result"
    }
   ],
   "source": [
    "10/3 #divisione intera"
   ]
  },
  {
   "cell_type": "code",
   "execution_count": 3,
   "metadata": {
    "slideshow": {
     "slide_type": "fragment"
    }
   },
   "outputs": [
    {
     "data": {
      "text/plain": [
       "'ciao'"
      ]
     },
     "execution_count": 3,
     "metadata": {},
     "output_type": "execute_result"
    }
   ],
   "source": [
    "pippo = 7\n",
    "pippo = 'ciao'\n",
    "pippo"
   ]
  },
  {
   "cell_type": "code",
   "execution_count": 4,
   "metadata": {
    "slideshow": {
     "slide_type": "fragment"
    }
   },
   "outputs": [],
   "source": [
    "a = b = c = 1.1"
   ]
  },
  {
   "cell_type": "code",
   "execution_count": 5,
   "metadata": {
    "slideshow": {
     "slide_type": "fragment"
    }
   },
   "outputs": [
    {
     "data": {
      "text/plain": [
       "1.1"
      ]
     },
     "execution_count": 5,
     "metadata": {},
     "output_type": "execute_result"
    }
   ],
   "source": [
    "b"
   ]
  },
  {
   "cell_type": "markdown",
   "metadata": {
    "slideshow": {
     "slide_type": "slide"
    }
   },
   "source": [
    "### Stringhe\n"
   ]
  },
  {
   "cell_type": "code",
   "execution_count": 23,
   "metadata": {
    "slideshow": {
     "slide_type": "fragment"
    }
   },
   "outputs": [
    {
     "data": {
      "text/plain": [
       "'sono una stringa'"
      ]
     },
     "execution_count": 23,
     "metadata": {},
     "output_type": "execute_result"
    }
   ],
   "source": [
    "\"sono una stringa\""
   ]
  },
  {
   "cell_type": "code",
   "execution_count": 24,
   "metadata": {
    "slideshow": {
     "slide_type": "fragment"
    }
   },
   "outputs": [
    {
     "data": {
      "text/plain": [
       "'sono una stringa'"
      ]
     },
     "execution_count": 24,
     "metadata": {},
     "output_type": "execute_result"
    }
   ],
   "source": [
    "'sono una stringa'"
   ]
  },
  {
   "cell_type": "code",
   "execution_count": 27,
   "metadata": {
    "slideshow": {
     "slide_type": "fragment"
    }
   },
   "outputs": [
    {
     "data": {
      "text/plain": [
       "'ciao mondo'"
      ]
     },
     "execution_count": 27,
     "metadata": {},
     "output_type": "execute_result"
    }
   ],
   "source": [
    "stringa = 'ciao'\n",
    "stringa + ' mondo'"
   ]
  },
  {
   "cell_type": "code",
   "execution_count": 28,
   "metadata": {
    "slideshow": {
     "slide_type": "fragment"
    }
   },
   "outputs": [
    {
     "data": {
      "text/plain": [
       "'ciaociaociaociao'"
      ]
     },
     "execution_count": 28,
     "metadata": {},
     "output_type": "execute_result"
    }
   ],
   "source": [
    "stringa*4"
   ]
  },
  {
   "cell_type": "markdown",
   "metadata": {
    "slideshow": {
     "slide_type": "slide"
    }
   },
   "source": [
    "### Stringhe"
   ]
  },
  {
   "cell_type": "code",
   "execution_count": 11,
   "metadata": {
    "slideshow": {
     "slide_type": "fragment"
    }
   },
   "outputs": [
    {
     "data": {
      "text/plain": [
       "'esta lezione mi sta annoiando parecch'"
      ]
     },
     "execution_count": 11,
     "metadata": {},
     "output_type": "execute_result"
    }
   ],
   "source": [
    "\"Questa lezione mi sta annoiando parecchio\"[2:-2] #uno slice!"
   ]
  },
  {
   "cell_type": "code",
   "execution_count": 29,
   "metadata": {
    "slideshow": {
     "slide_type": "fragment"
    }
   },
   "outputs": [
    {
     "ename": "TypeError",
     "evalue": "'str' object does not support item assignment",
     "output_type": "error",
     "traceback": [
      "\u001b[0;31m---------------------------------------------------------------------------\u001b[0m",
      "\u001b[0;31mTypeError\u001b[0m                                 Traceback (most recent call last)",
      "\u001b[0;32m<ipython-input-29-8f71e5412286>\u001b[0m in \u001b[0;36m<module>\u001b[0;34m()\u001b[0m\n\u001b[1;32m      1\u001b[0m \u001b[0mcasa\u001b[0m \u001b[0;34m=\u001b[0m \u001b[0;34m\"voglio andare a casa\"\u001b[0m \u001b[0;31m#le stringhe non sono modificabili!\u001b[0m\u001b[0;34m\u001b[0m\u001b[0m\n\u001b[0;32m----> 2\u001b[0;31m \u001b[0mcasa\u001b[0m\u001b[0;34m[\u001b[0m\u001b[0;36m3\u001b[0m\u001b[0;34m]\u001b[0m\u001b[0;34m=\u001b[0m\u001b[0;34m'A'\u001b[0m\u001b[0;34m\u001b[0m\u001b[0m\n\u001b[0m",
      "\u001b[0;31mTypeError\u001b[0m: 'str' object does not support item assignment"
     ]
    }
   ],
   "source": [
    "casa = \"voglio andare a casa\" #le stringhe non sono modificabili!\n",
    "casa[3]='A'"
   ]
  },
  {
   "cell_type": "code",
   "execution_count": 30,
   "metadata": {
    "slideshow": {
     "slide_type": "fragment"
    }
   },
   "outputs": [
    {
     "data": {
      "text/plain": [
       "'voAio andare a casa'"
      ]
     },
     "execution_count": 30,
     "metadata": {},
     "output_type": "execute_result"
    }
   ],
   "source": [
    "casetta = casa[0:2] + 'A' + casa[4:]\n",
    "casetta"
   ]
  },
  {
   "cell_type": "code",
   "execution_count": 31,
   "metadata": {
    "slideshow": {
     "slide_type": "fragment"
    }
   },
   "outputs": [],
   "source": [
    "casa, casett = casetta, casa"
   ]
  },
  {
   "cell_type": "code",
   "execution_count": 32,
   "metadata": {
    "slideshow": {
     "slide_type": "fragment"
    }
   },
   "outputs": [
    {
     "data": {
      "text/plain": [
       "'voAio andare a casa'"
      ]
     },
     "execution_count": 32,
     "metadata": {},
     "output_type": "execute_result"
    }
   ],
   "source": [
    "casa"
   ]
  },
  {
   "cell_type": "markdown",
   "metadata": {
    "slideshow": {
     "slide_type": "slide"
    }
   },
   "source": [
    "### Stringhe\n",
    "<img src=\"casa.png\">"
   ]
  },
  {
   "cell_type": "code",
   "execution_count": 33,
   "metadata": {
    "slideshow": {
     "slide_type": "fragment"
    }
   },
   "outputs": [
    {
     "data": {
      "text/plain": [
       "'ca'"
      ]
     },
     "execution_count": 33,
     "metadata": {},
     "output_type": "execute_result"
    }
   ],
   "source": [
    "parola = 'casa'\n",
    "parola[:2]"
   ]
  },
  {
   "cell_type": "code",
   "execution_count": 35,
   "metadata": {
    "slideshow": {
     "slide_type": "fragment"
    }
   },
   "outputs": [
    {
     "data": {
      "text/plain": [
       "'sa'"
      ]
     },
     "execution_count": 35,
     "metadata": {},
     "output_type": "execute_result"
    }
   ],
   "source": [
    "parola[2:]"
   ]
  },
  {
   "cell_type": "code",
   "execution_count": 36,
   "metadata": {
    "slideshow": {
     "slide_type": "fragment"
    }
   },
   "outputs": [
    {
     "data": {
      "text/plain": [
       "'casa'"
      ]
     },
     "execution_count": 36,
     "metadata": {},
     "output_type": "execute_result"
    }
   ],
   "source": [
    "parola[:] #è una copia!"
   ]
  },
  {
   "cell_type": "code",
   "execution_count": 38,
   "metadata": {
    "slideshow": {
     "slide_type": "fragment"
    }
   },
   "outputs": [
    {
     "data": {
      "text/plain": [
       "4"
      ]
     },
     "execution_count": 38,
     "metadata": {},
     "output_type": "execute_result"
    }
   ],
   "source": [
    "len(parola)"
   ]
  },
  {
   "cell_type": "markdown",
   "metadata": {
    "slideshow": {
     "slide_type": "slide"
    }
   },
   "source": [
    "### Liste\n",
    "* Fondamentali e molto usate in Python\n",
    "* Sono sequenze, come le stringhe (ergo: indici, slice, len)\n",
    "* Però sono modificabili\n",
    "* Sono la generalizzazione degli array in altri linguaggi"
   ]
  },
  {
   "cell_type": "code",
   "execution_count": 40,
   "metadata": {
    "slideshow": {
     "slide_type": "fragment"
    }
   },
   "outputs": [
    {
     "data": {
      "text/plain": [
       "['ciao', 3, 4.3234, 'pippo']"
      ]
     },
     "execution_count": 40,
     "metadata": {},
     "output_type": "execute_result"
    }
   ],
   "source": [
    "lista = ['ciao', 3, 4.3234, \"pippo\"]\n",
    "lista"
   ]
  },
  {
   "cell_type": "code",
   "execution_count": 41,
   "metadata": {
    "slideshow": {
     "slide_type": "fragment"
    }
   },
   "outputs": [
    {
     "data": {
      "text/plain": [
       "4"
      ]
     },
     "execution_count": 41,
     "metadata": {},
     "output_type": "execute_result"
    }
   ],
   "source": [
    "len(lista)"
   ]
  },
  {
   "cell_type": "code",
   "execution_count": 42,
   "metadata": {
    "slideshow": {
     "slide_type": "fragment"
    }
   },
   "outputs": [
    {
     "data": {
      "text/plain": [
       "['ciao', 3, 4.3234, 'pippo', 8]"
      ]
     },
     "execution_count": 42,
     "metadata": {},
     "output_type": "execute_result"
    }
   ],
   "source": [
    "lista.append(8)\n",
    "lista"
   ]
  },
  {
   "cell_type": "markdown",
   "metadata": {
    "slideshow": {
     "slide_type": "slide"
    }
   },
   "source": [
    "### Ciclo while (e come si delimitano i blocchi di istruzioni in Python)\n",
    "In Python, a differenza della stragrande maggioranza degli altri linguaggi, il corpo del while (un blocco in generale) è delimitato per mezzo della indentazione! (posso usare spazi o tab, basta che siano lo stesso numero)\n",
    "<img src=\"blocchi.png\">"
   ]
  },
  {
   "cell_type": "code",
   "execution_count": 43,
   "metadata": {
    "slideshow": {
     "slide_type": "fragment"
    }
   },
   "outputs": [
    {
     "name": "stdout",
     "output_type": "stream",
     "text": [
      "1 1 2 3 5 8\n"
     ]
    }
   ],
   "source": [
    "a, b = 0, 1    # assegnamento con tupla (detto multiplo)!\n",
    "while b < 10:\n",
    "    print b, # \",\" serve ad evitare \\n finale\n",
    "    a, b = b, a+b"
   ]
  },
  {
   "cell_type": "markdown",
   "metadata": {
    "slideshow": {
     "slide_type": "slide"
    }
   },
   "source": [
    "### IF\n",
    "La forma più generale:"
   ]
  },
  {
   "cell_type": "code",
   "execution_count": null,
   "metadata": {
    "slideshow": {
     "slide_type": "fragment"
    }
   },
   "outputs": [],
   "source": [
    "if cond1 :\n",
    "    # cond1 vera\n",
    "elif cond2 :\n",
    "    # cond2 vera\n",
    "elif cond3 :\n",
    "    # cond3 vera\n",
    "else:\n",
    "    # nemmeno una vera!"
   ]
  },
  {
   "cell_type": "markdown",
   "metadata": {
    "slideshow": {
     "slide_type": "slide"
    }
   },
   "source": [
    "### FOR\n",
    "Il for, a differenza del C, itera su sequenze (es. stringhe o liste)\n",
    "\n",
    "In pratica:\n",
    "\n",
    "for i in seq:\n",
    "> fai qualcosa con i"
   ]
  },
  {
   "cell_type": "code",
   "execution_count": 49,
   "metadata": {
    "slideshow": {
     "slide_type": "fragment"
    }
   },
   "outputs": [
    {
     "name": "stdout",
     "output_type": "stream",
     "text": [
      "Ma questa è 1 lista?\n"
     ]
    }
   ],
   "source": [
    "for i in ['Ma questa', 'è', 1, 'lista?'] :\n",
    "    print i,"
   ]
  },
  {
   "cell_type": "code",
   "execution_count": 51,
   "metadata": {
    "slideshow": {
     "slide_type": "fragment"
    }
   },
   "outputs": [
    {
     "name": "stdout",
     "output_type": "stream",
     "text": [
      "0 1 2 3 4 5\n"
     ]
    }
   ],
   "source": [
    "for i in range(0,6):\n",
    "    print i,"
   ]
  },
  {
   "cell_type": "markdown",
   "metadata": {
    "slideshow": {
     "slide_type": "slide"
    }
   },
   "source": [
    "### Costruttori di liste\n",
    "Assomigliano molto alla notazione insiemistica, per es. un analogo di {(x,y) | x ∈ A, y ∈ B, x ≠ y} si può scrivere come:                        "
   ]
  },
  {
   "cell_type": "code",
   "execution_count": 53,
   "metadata": {
    "slideshow": {
     "slide_type": "fragment"
    }
   },
   "outputs": [
    {
     "data": {
      "text/plain": [
       "[(1, 'a'),\n",
       " (1, 'b'),\n",
       " (1, 'c'),\n",
       " (2, 'a'),\n",
       " (2, 'b'),\n",
       " (2, 'c'),\n",
       " (3, 'a'),\n",
       " (3, 'b'),\n",
       " (3, 'c')]"
      ]
     },
     "execution_count": 53,
     "metadata": {},
     "output_type": "execute_result"
    }
   ],
   "source": [
    "A = [1,2,3]\n",
    "B = ['a', 'b', 'c']\n",
    "[(x,y) for x in A for y in B if x != y]"
   ]
  },
  {
   "cell_type": "markdown",
   "metadata": {
    "slideshow": {
     "slide_type": "fragment"
    }
   },
   "source": [
    "A proposito, (x,y) è un esempio di tupla (come in matematica) – in Python è una sequenza immutabile e\n",
    "si può usare come alternativa più efficiente alle liste, se non si devono modificare dati\n",
    "Attenzione! E' comunque una lista, non un insieme (è un insieme totalmente ordinato che ammette più occorrenze dello stesso elemento)..."
   ]
  },
  {
   "cell_type": "markdown",
   "metadata": {
    "slideshow": {
     "slide_type": "slide"
    }
   },
   "source": [
    "### Le funzioni"
   ]
  },
  {
   "cell_type": "code",
   "execution_count": 54,
   "metadata": {
    "slideshow": {
     "slide_type": "fragment"
    }
   },
   "outputs": [],
   "source": [
    "def f(n) :\n",
    "    \"\"\"Be' se proprio voglio qui ci metto la stringa di\n",
    "    documentazione\"\"\"\n",
    "    if n == 0:\n",
    "        return 1\n",
    "    else:\n",
    "        return n*f(n-1)"
   ]
  },
  {
   "cell_type": "code",
   "execution_count": 58,
   "metadata": {
    "slideshow": {
     "slide_type": "fragment"
    }
   },
   "outputs": [
    {
     "data": {
      "text/plain": [
       "24"
      ]
     },
     "execution_count": 58,
     "metadata": {},
     "output_type": "execute_result"
    }
   ],
   "source": [
    "f(4)"
   ]
  },
  {
   "cell_type": "code",
   "execution_count": 63,
   "metadata": {
    "slideshow": {
     "slide_type": "fragment"
    }
   },
   "outputs": [
    {
     "data": {
      "text/plain": [
       "['banale', 2, 3]"
      ]
     },
     "execution_count": 63,
     "metadata": {},
     "output_type": "execute_result"
    }
   ],
   "source": [
    "def incipitizza(seq, incipit = 'banale'):  #argomenti di default\n",
    "    seq[0] = incipit\n",
    "    return seq\n",
    "\n",
    "a = [1,2,3]\n",
    "incipitizza(a)"
   ]
  },
  {
   "cell_type": "code",
   "execution_count": 64,
   "metadata": {
    "slideshow": {
     "slide_type": "fragment"
    }
   },
   "outputs": [
    {
     "data": {
      "text/plain": [
       "[1, 2, 3]"
      ]
     },
     "execution_count": 64,
     "metadata": {},
     "output_type": "execute_result"
    }
   ],
   "source": [
    "incipitizza(a,1)"
   ]
  },
  {
   "cell_type": "markdown",
   "metadata": {
    "slideshow": {
     "slide_type": "slide"
    }
   },
   "source": [
    "#### Argomenti con parole chiave\n",
    "Sono molto usati!"
   ]
  },
  {
   "cell_type": "code",
   "execution_count": 66,
   "metadata": {
    "slideshow": {
     "slide_type": "fragment"
    }
   },
   "outputs": [],
   "source": [
    "def parrot(voltage, state='a stiff', action='voom', type='Norwegian Blue'):\n",
    "    print \"-- This parrot wouldn't\", action,\n",
    "    print \"if you put\", voltage, \"Volts through it.\"\n",
    "    print \"-- Lovely plumage, the\", type\n",
    "    print \"-- It's\", state, \"!\""
   ]
  },
  {
   "cell_type": "code",
   "execution_count": 67,
   "metadata": {
    "slideshow": {
     "slide_type": "fragment"
    }
   },
   "outputs": [
    {
     "name": "stdout",
     "output_type": "stream",
     "text": [
      "-- This parrot wouldn't voom if you put 1000 Volts through it.\n",
      "-- Lovely plumage, the Norwegian Blue\n",
      "-- It's a stiff !\n"
     ]
    }
   ],
   "source": [
    "parrot(1000)"
   ]
  },
  {
   "cell_type": "code",
   "execution_count": 68,
   "metadata": {
    "slideshow": {
     "slide_type": "fragment"
    }
   },
   "outputs": [
    {
     "name": "stdout",
     "output_type": "stream",
     "text": [
      "-- This parrot wouldn't VOOOOOM if you put 1000000 Volts through it.\n",
      "-- Lovely plumage, the Norwegian Blue\n",
      "-- It's a stiff !\n"
     ]
    }
   ],
   "source": [
    "parrot(action = 'VOOOOOM', voltage = 1000000)"
   ]
  },
  {
   "cell_type": "code",
   "execution_count": 69,
   "metadata": {
    "slideshow": {
     "slide_type": "fragment"
    }
   },
   "outputs": [
    {
     "name": "stdout",
     "output_type": "stream",
     "text": [
      "-- This parrot wouldn't voom if you put a thousand Volts through it.\n",
      "-- Lovely plumage, the Norwegian Blue\n",
      "-- It's pushing up the daisies !\n"
     ]
    }
   ],
   "source": [
    "parrot('a thousand', state = 'pushing up the daisies')"
   ]
  },
  {
   "cell_type": "markdown",
   "metadata": {
    "slideshow": {
     "slide_type": "slide"
    }
   },
   "source": [
    "### Dizionari\n",
    "* Sono anche chiamati memorie associative o array associativi\n",
    "* A differenza delle sequenze, gli indici non sono interi bensì chiavi (es. stringhe)\n",
    "* Sintassi: {chiave1 : val1, chiave2 : val2, ...}\n",
    "* il metodo keys() restituisce la lista delle chiavi di un dizionario"
   ]
  },
  {
   "cell_type": "code",
   "execution_count": 71,
   "metadata": {
    "slideshow": {
     "slide_type": "fragment"
    }
   },
   "outputs": [
    {
     "data": {
      "text/plain": [
       "{'guido': 4127, 'jack': 4098, 'sape': 4139}"
      ]
     },
     "execution_count": 71,
     "metadata": {},
     "output_type": "execute_result"
    }
   ],
   "source": [
    "tel = {'jack': 4098, 'sape': 4139}\n",
    "tel['guido'] = 4127\n",
    "tel"
   ]
  },
  {
   "cell_type": "code",
   "execution_count": 72,
   "metadata": {
    "slideshow": {
     "slide_type": "fragment"
    }
   },
   "outputs": [
    {
     "data": {
      "text/plain": [
       "4098"
      ]
     },
     "execution_count": 72,
     "metadata": {},
     "output_type": "execute_result"
    }
   ],
   "source": [
    "tel['jack']"
   ]
  },
  {
   "cell_type": "code",
   "execution_count": 73,
   "metadata": {
    "slideshow": {
     "slide_type": "fragment"
    }
   },
   "outputs": [
    {
     "data": {
      "text/plain": [
       "{'guido': 4127, 'irv': 4127, 'jack': 4098}"
      ]
     },
     "execution_count": 73,
     "metadata": {},
     "output_type": "execute_result"
    }
   ],
   "source": [
    "del tel['sape']\n",
    "tel['irv'] = 4127\n",
    "tel"
   ]
  },
  {
   "cell_type": "code",
   "execution_count": 74,
   "metadata": {
    "slideshow": {
     "slide_type": "fragment"
    }
   },
   "outputs": [
    {
     "data": {
      "text/plain": [
       "['jack', 'irv', 'guido']"
      ]
     },
     "execution_count": 74,
     "metadata": {},
     "output_type": "execute_result"
    }
   ],
   "source": [
    "tel.keys()"
   ]
  },
  {
   "cell_type": "code",
   "execution_count": 75,
   "metadata": {
    "slideshow": {
     "slide_type": "subslide"
    }
   },
   "outputs": [
    {
     "data": {
      "text/plain": [
       "True"
      ]
     },
     "execution_count": 75,
     "metadata": {},
     "output_type": "execute_result"
    }
   ],
   "source": [
    "tel.has_key('guido')"
   ]
  },
  {
   "cell_type": "markdown",
   "metadata": {
    "slideshow": {
     "slide_type": "slide"
    }
   },
   "source": [
    "### dir()\n",
    "dir() applicato a qualcosa mi dice quali nomi sono definiti in questo qualcosa (un po' vago...)"
   ]
  },
  {
   "cell_type": "code",
   "execution_count": 77,
   "metadata": {
    "slideshow": {
     "slide_type": "fragment"
    }
   },
   "outputs": [
    {
     "name": "stdout",
     "output_type": "stream",
     "text": [
      "__add__ __class__ __contains__ __delattr__ __delitem__ __delslice__ __doc__ __eq__ __format__ __ge__ __getattribute__ __getitem__ __getslice__ __gt__ __hash__ __iadd__ __imul__ __init__ __iter__ __le__ __len__ __lt__ __mul__ __ne__ __new__ __reduce__ __reduce_ex__ __repr__ __reversed__ __rmul__ __setattr__ __setitem__ __setslice__ __sizeof__ __str__ __subclasshook__ append count extend index insert pop remove reverse sort\n"
     ]
    }
   ],
   "source": [
    "a = [1,2,3]\n",
    "for i in dir(a):\n",
    "    print i,"
   ]
  },
  {
   "cell_type": "markdown",
   "metadata": {
    "slideshow": {
     "slide_type": "fragment"
    }
   },
   "source": [
    "NB: la notazione __qualcosa__ (dove __ sono due caratteri di underscore) è abbastanza classica in Python: sono metodi ed attributi privati."
   ]
  },
  {
   "cell_type": "markdown",
   "metadata": {
    "slideshow": {
     "slide_type": "slide"
    }
   },
   "source": [
    "### Python type system\n",
    "* E’ un linguaggio tipizzato\n",
    "* Non fa static type checking (ma fa dynamic type checking: gli errori di tipo vengono rilevati, ma a runtime)\n",
    "* Il tipo delle variabili non e’ dichiarato"
   ]
  },
  {
   "cell_type": "code",
   "execution_count": 78,
   "metadata": {
    "slideshow": {
     "slide_type": "fragment"
    }
   },
   "outputs": [],
   "source": [
    "x = 0 # x bound to an integer object\n",
    "x = \"Hello\" # now it's a string\n",
    "x = [1, 2, 3] # and now it's a list"
   ]
  },
  {
   "cell_type": "code",
   "execution_count": 79,
   "metadata": {
    "slideshow": {
     "slide_type": "fragment"
    }
   },
   "outputs": [
    {
     "data": {
      "text/plain": [
       "[1, 2, 3]"
      ]
     },
     "execution_count": 79,
     "metadata": {},
     "output_type": "execute_result"
    }
   ],
   "source": [
    "x"
   ]
  },
  {
   "cell_type": "markdown",
   "metadata": {
    "slideshow": {
     "slide_type": "slide"
    }
   },
   "source": [
    "Le funzioni sono first class object:\n",
    "non c’è nessuna differenza tra variabili che contengono valori e quelle che contengono funzioni (callable/non callable)"
   ]
  },
  {
   "cell_type": "code",
   "execution_count": 80,
   "metadata": {
    "slideshow": {
     "slide_type": "fragment"
    }
   },
   "outputs": [
    {
     "data": {
      "text/plain": [
       "66"
      ]
     },
     "execution_count": 80,
     "metadata": {},
     "output_type": "execute_result"
    }
   ],
   "source": [
    "def f():\n",
    "    return 66\n",
    "\n",
    "x = f\n",
    "x()"
   ]
  },
  {
   "cell_type": "markdown",
   "metadata": {
    "slideshow": {
     "slide_type": "fragment"
    }
   },
   "source": [
    "Posso anche passare le funzioni come parametri"
   ]
  },
  {
   "cell_type": "code",
   "execution_count": 82,
   "metadata": {
    "slideshow": {
     "slide_type": "fragment"
    }
   },
   "outputs": [
    {
     "name": "stdout",
     "output_type": "stream",
     "text": [
      "Io sono a\n",
      "Io sono b\n"
     ]
    }
   ],
   "source": [
    "def f(x):\n",
    "    x()\n",
    "\n",
    "def a():\n",
    "    print \"Io sono a\"\n",
    "\n",
    "def b():\n",
    "    print \"Io sono b\"\n",
    "\n",
    "f(a)\n",
    "f(b)"
   ]
  },
  {
   "cell_type": "markdown",
   "metadata": {
    "slideshow": {
     "slide_type": "slide"
    }
   },
   "source": [
    "### Dynamic Type Checking\n",
    "Ottengo un errore di tipo quando python non trova l’attributo a cui sto accedendo cioè:\n",
    "* invoco un metodo non definito dell’oggetto\n",
    "* leggo un campo non definito dell’oggetto"
   ]
  },
  {
   "cell_type": "code",
   "execution_count": 84,
   "metadata": {
    "slideshow": {
     "slide_type": "subslide"
    }
   },
   "outputs": [
    {
     "ename": "AttributeError",
     "evalue": "'str' object has no attribute 'read'",
     "output_type": "error",
     "traceback": [
      "\u001b[0;31m---------------------------------------------------------------------------\u001b[0m",
      "\u001b[0;31mAttributeError\u001b[0m                            Traceback (most recent call last)",
      "\u001b[0;32m<ipython-input-84-670a6ace8c88>\u001b[0m in \u001b[0;36m<module>\u001b[0;34m()\u001b[0m\n\u001b[1;32m     14\u001b[0m \u001b[0;34m\u001b[0m\u001b[0m\n\u001b[1;32m     15\u001b[0m \u001b[0;32mif\u001b[0m \u001b[0mrandom\u001b[0m\u001b[0;34m.\u001b[0m\u001b[0mrandom\u001b[0m\u001b[0;34m(\u001b[0m\u001b[0;34m)\u001b[0m \u001b[0;34m<\u001b[0m \u001b[0;36m0.5\u001b[0m\u001b[0;34m:\u001b[0m\u001b[0;34m\u001b[0m\u001b[0m\n\u001b[0;32m---> 16\u001b[0;31m     \u001b[0mstampaContenuto\u001b[0m\u001b[0;34m(\u001b[0m\u001b[0my\u001b[0m\u001b[0;34m)\u001b[0m\u001b[0;34m\u001b[0m\u001b[0m\n\u001b[0m\u001b[1;32m     17\u001b[0m \u001b[0;32melse\u001b[0m\u001b[0;34m:\u001b[0m\u001b[0;34m\u001b[0m\u001b[0m\n\u001b[1;32m     18\u001b[0m     \u001b[0mstampaContenuto\u001b[0m\u001b[0;34m(\u001b[0m\u001b[0mx\u001b[0m\u001b[0;34m)\u001b[0m\u001b[0;34m\u001b[0m\u001b[0m\n",
      "\u001b[0;32m<ipython-input-84-670a6ace8c88>\u001b[0m in \u001b[0;36mstampaContenuto\u001b[0;34m(l)\u001b[0m\n\u001b[1;32m      6\u001b[0m         \u001b[0;32mreturn\u001b[0m \u001b[0mself\u001b[0m\u001b[0;34m.\u001b[0m\u001b[0mcontenuto\u001b[0m\u001b[0;34m\u001b[0m\u001b[0m\n\u001b[1;32m      7\u001b[0m \u001b[0;32mdef\u001b[0m \u001b[0mstampaContenuto\u001b[0m\u001b[0;34m(\u001b[0m\u001b[0ml\u001b[0m\u001b[0;34m)\u001b[0m\u001b[0;34m:\u001b[0m\u001b[0;34m\u001b[0m\u001b[0m\n\u001b[0;32m----> 8\u001b[0;31m     \u001b[0;32mprint\u001b[0m \u001b[0ml\u001b[0m\u001b[0;34m.\u001b[0m\u001b[0mread\u001b[0m\u001b[0;34m(\u001b[0m\u001b[0;34m)\u001b[0m\u001b[0;34m\u001b[0m\u001b[0m\n\u001b[0m\u001b[1;32m      9\u001b[0m \u001b[0;34m\u001b[0m\u001b[0m\n\u001b[1;32m     10\u001b[0m \u001b[0mx\u001b[0m \u001b[0;34m=\u001b[0m \u001b[0mlibro\u001b[0m\u001b[0;34m(\u001b[0m\u001b[0;34m\"Nel mezzo del cammin di nostra vita\"\u001b[0m\u001b[0;34m)\u001b[0m\u001b[0;34m\u001b[0m\u001b[0m\n",
      "\u001b[0;31mAttributeError\u001b[0m: 'str' object has no attribute 'read'"
     ]
    }
   ],
   "source": [
    "class libro(object):\n",
    "    def __init__(self,contenuto):\n",
    "        self.contenuto = contenuto\n",
    "    contenuto = \"Nel mezzo del cammin di nostra vita\"\n",
    "    def read(self):\n",
    "        return self.contenuto\n",
    "def stampaContenuto(l):\n",
    "    print l.read()\n",
    "\n",
    "x = libro(\"Nel mezzo del cammin di nostra vita\")\n",
    "y = \"Questo non e' un libro\"\n",
    "\n",
    "import random\n",
    "\n",
    "if random.random() < 0.5:\n",
    "    stampaContenuto(y)\n",
    "else:\n",
    "    stampaContenuto(x)"
   ]
  },
  {
   "cell_type": "markdown",
   "metadata": {
    "slideshow": {
     "slide_type": "slide"
    }
   },
   "source": [
    "### Dynamic Type Checking, però:"
   ]
  },
  {
   "cell_type": "code",
   "execution_count": 87,
   "metadata": {
    "slideshow": {
     "slide_type": "fragment"
    }
   },
   "outputs": [
    {
     "data": {
      "text/plain": [
       "10"
      ]
     },
     "execution_count": 87,
     "metadata": {},
     "output_type": "execute_result"
    }
   ],
   "source": [
    "class P(object):\n",
    "    valore = 5\n",
    "\n",
    "x = P()\n",
    "x.valoree = 10\n",
    "x.valoree\n",
    "10"
   ]
  },
  {
   "cell_type": "markdown",
   "metadata": {
    "slideshow": {
     "slide_type": "fragment"
    }
   },
   "source": [
    "Nessuna eccezione!! => in python se provo assegnare (binding) un attributo che non esiste python lo crea al momento!!"
   ]
  },
  {
   "cell_type": "markdown",
   "metadata": {
    "slideshow": {
     "slide_type": "subslide"
    }
   },
   "source": [
    "Quindi in questo momento la variabile x è una reference a un istanza di P con IN PIU’ un attributo “valoree”"
   ]
  },
  {
   "cell_type": "code",
   "execution_count": 88,
   "metadata": {
    "slideshow": {
     "slide_type": "fragment"
    }
   },
   "outputs": [
    {
     "data": {
      "text/plain": [
       "__main__.P"
      ]
     },
     "execution_count": 88,
     "metadata": {},
     "output_type": "execute_result"
    }
   ],
   "source": [
    "type(x)"
   ]
  },
  {
   "cell_type": "code",
   "execution_count": 90,
   "metadata": {
    "slideshow": {
     "slide_type": "fragment"
    }
   },
   "outputs": [
    {
     "name": "stdout",
     "output_type": "stream",
     "text": [
      "__class__ __delattr__ __dict__ __doc__ __format__ __getattribute__ __hash__ __init__ __module__ __new__ __reduce__ __reduce_ex__ __repr__ __setattr__ __sizeof__ __str__ __subclasshook__ __weakref__ valore valoree\n"
     ]
    }
   ],
   "source": [
    "for i in dir(x):\n",
    "    print i,"
   ]
  },
  {
   "cell_type": "markdown",
   "metadata": {
    "slideshow": {
     "slide_type": "fragment"
    }
   },
   "source": [
    "Risoluzione degli attributi (es x.attr)\n",
    "* prima cerco nell’istanza x\n",
    "* poi cerco nella classe di x\n",
    "* infine cerco nelle classi padre (ereditarietà)"
   ]
  },
  {
   "cell_type": "markdown",
   "metadata": {
    "slideshow": {
     "slide_type": "slide"
    }
   },
   "source": [
    "### Assegnamento\n",
    "* In Python l’accesso agli oggetti avviene tramite reference (analogo di quanto avviene in JAVA con le classi)\n",
    "* Non esiste dichiarazione delle varibili: vengono istanziate quando vi si assegna un valore per la prima volta\n",
    "* Non si può utilizzare una variabile prima che sia stata inizializzata\n",
    "\n",
    "Quando si esegue un assegnamento in realtà viene copiata la reference non l’oggetto:"
   ]
  },
  {
   "cell_type": "code",
   "execution_count": 92,
   "metadata": {
    "slideshow": {
     "slide_type": "fragment"
    }
   },
   "outputs": [
    {
     "data": {
      "text/plain": [
       "4373021184"
      ]
     },
     "execution_count": 92,
     "metadata": {},
     "output_type": "execute_result"
    }
   ],
   "source": [
    "a = [1,2,3]\n",
    "b = a\n",
    "id(a) # id(var) restituisce l'indirizzo (l-value) di var"
   ]
  },
  {
   "cell_type": "code",
   "execution_count": 94,
   "metadata": {
    "slideshow": {
     "slide_type": "fragment"
    }
   },
   "outputs": [
    {
     "data": {
      "text/plain": [
       "4373021184"
      ]
     },
     "execution_count": 94,
     "metadata": {},
     "output_type": "execute_result"
    }
   ],
   "source": [
    "id(b)"
   ]
  },
  {
   "cell_type": "markdown",
   "metadata": {
    "slideshow": {
     "slide_type": "fragment"
    }
   },
   "source": [
    "Si crea un alias: modificando a modifico anche b!"
   ]
  },
  {
   "cell_type": "markdown",
   "metadata": {
    "slideshow": {
     "slide_type": "slide"
    }
   },
   "source": [
    "<img src=\"assegnamento.png\">"
   ]
  },
  {
   "cell_type": "markdown",
   "metadata": {
    "slideshow": {
     "slide_type": "slide"
    }
   },
   "source": [
    "In Python gli oggetti si dividono in:\n",
    "* Oggetti mutabili il cui valore può essere modificato (liste, dizionari, classi)"
   ]
  },
  {
   "cell_type": "code",
   "execution_count": 96,
   "metadata": {
    "slideshow": {
     "slide_type": "fragment"
    }
   },
   "outputs": [
    {
     "data": {
      "text/plain": [
       "4373022264"
      ]
     },
     "execution_count": 96,
     "metadata": {},
     "output_type": "execute_result"
    }
   ],
   "source": [
    "a = [1,2,3,4]\n",
    "id(a)"
   ]
  },
  {
   "cell_type": "code",
   "execution_count": 97,
   "metadata": {
    "slideshow": {
     "slide_type": "fragment"
    }
   },
   "outputs": [
    {
     "data": {
      "text/plain": [
       "4373022264"
      ]
     },
     "execution_count": 97,
     "metadata": {},
     "output_type": "execute_result"
    }
   ],
   "source": [
    "a[0] = 1\n",
    "id(a)"
   ]
  },
  {
   "cell_type": "markdown",
   "metadata": {
    "slideshow": {
     "slide_type": "fragment"
    }
   },
   "source": [
    "* Oggetti immutabili il cui valore non può essere modificato senza creare un nuovo oggetto"
   ]
  },
  {
   "cell_type": "code",
   "execution_count": 98,
   "metadata": {
    "slideshow": {
     "slide_type": "fragment"
    }
   },
   "outputs": [
    {
     "data": {
      "text/plain": [
       "140559754770296"
      ]
     },
     "execution_count": 98,
     "metadata": {},
     "output_type": "execute_result"
    }
   ],
   "source": [
    "a = 5\n",
    "id(a)"
   ]
  },
  {
   "cell_type": "code",
   "execution_count": 99,
   "metadata": {
    "slideshow": {
     "slide_type": "fragment"
    }
   },
   "outputs": [
    {
     "data": {
      "text/plain": [
       "140559754770344"
      ]
     },
     "execution_count": 99,
     "metadata": {},
     "output_type": "execute_result"
    }
   ],
   "source": [
    "a = 3\n",
    "id(a)"
   ]
  },
  {
   "cell_type": "markdown",
   "metadata": {
    "slideshow": {
     "slide_type": "slide"
    }
   },
   "source": [
    "<img src=\"mut_immut.png\">"
   ]
  },
  {
   "cell_type": "markdown",
   "metadata": {
    "slideshow": {
     "slide_type": "slide"
    }
   },
   "source": [
    "<img src=\"assegnamento_imm.png\">"
   ]
  },
  {
   "cell_type": "markdown",
   "metadata": {
    "slideshow": {
     "slide_type": "slide"
    }
   },
   "source": [
    "### Passaggio di parametri\n",
    "In Python il passaggio di parametri avviene per indirizzo: i parametri formali diventano degli alias dei parametri attuali."
   ]
  },
  {
   "cell_type": "code",
   "execution_count": 100,
   "metadata": {
    "slideshow": {
     "slide_type": "fragment"
    }
   },
   "outputs": [
    {
     "name": "stdout",
     "output_type": "stream",
     "text": [
      "[2, 1]\n"
     ]
    }
   ],
   "source": [
    "a = [1,2]\n",
    "def swap(x):\n",
    "    temp = x[0]\n",
    "    x[0] = x[1]\n",
    "    x[1] = temp\n",
    "    \n",
    "swap(a)\n",
    "print a"
   ]
  },
  {
   "cell_type": "markdown",
   "metadata": {
    "slideshow": {
     "slide_type": "fragment"
    }
   },
   "source": [
    " La funzione ha modificato l'oggetto passato come parametro"
   ]
  },
  {
   "cell_type": "markdown",
   "metadata": {
    "slideshow": {
     "slide_type": "slide"
    }
   },
   "source": [
    "Se invece di modificare l’oggetto la funzione esegue un assegnamento (ovvero crea un nuovo binding), si interrompe il legame tra parametro formale e attuale che fanno ora riferimento a due celle distinte!\n"
   ]
  },
  {
   "cell_type": "code",
   "execution_count": 104,
   "metadata": {
    "slideshow": {
     "slide_type": "fragment"
    }
   },
   "outputs": [
    {
     "name": "stdout",
     "output_type": "stream",
     "text": [
      "1000\n"
     ]
    }
   ],
   "source": [
    "def f(x):\n",
    "    x = 1 # creo un nuovo binding. Perdo il collegamento con l'oggetto passato per parametro\n",
    "\n",
    "a = 1000\n",
    "f(a)\n",
    "print a"
   ]
  },
  {
   "cell_type": "markdown",
   "metadata": {
    "slideshow": {
     "slide_type": "fragment"
    }
   },
   "source": [
    "Le modifiche non sono visibili al chiamante"
   ]
  },
  {
   "cell_type": "markdown",
   "metadata": {
    "slideshow": {
     "slide_type": "slide"
    }
   },
   "source": [
    "### Cosa manca\n",
    "\n",
    "Esistono numerose caratteristiche di Python che non sono state affrontate:\n",
    "* Supporto per il multi-thread (Java – style)\n",
    "* Servizi del sistema operativo\n",
    "* Protocolli di rete...\n",
    "* Reflection (simile a Java)\n",
    "* Parsing\n",
    "* Debugger\n",
    "* PyUnit (la versione Python di JUnit)\n",
    "* Librerie grafiche 2D (Tkinter, PyQt) e anche 3D (SDL)\n",
    "* ...\n",
    "\n",
    "Noi ci concentreremo in seguito su due librerie esterne: Pandas e Numpy."
   ]
  },
  {
   "cell_type": "markdown",
   "metadata": {
    "slideshow": {
     "slide_type": "slide"
    }
   },
   "source": [
    "## Artificial Intelligence\n",
    "\n",
    "Artificial intelligence (AI, also machine intelligence, MI) is intelligence demonstrated by machines, in contrast to the natural intelligence (NI) displayed by humans and other animals. In computer science AI research is defined as the study of \"intelligent agents\": any device that perceives its environment and takes actions that maximize its chance of successfully achieving its goals.Colloquially, the term \"artificial intelligence\" is applied when a machine mimics \"cognitive\" functions that humans associate with other human minds, such as \"learning\" and \"problem solving\"."
   ]
  },
  {
   "cell_type": "markdown",
   "metadata": {
    "slideshow": {
     "slide_type": "slide"
    }
   },
   "source": [
    "## Data Science\n",
    "\n",
    "Data science is an interdisciplinary field of scientific methods, processes, algorithms and systems to extract knowledge or insights from data in various forms, either structured or unstructured, similar to data mining."
   ]
  },
  {
   "cell_type": "markdown",
   "metadata": {
    "slideshow": {
     "slide_type": "subslide"
    }
   },
   "source": [
    "Data science is a \"concept to unify statistics, data analysis, machine learning and their related methods\" in order to \"understand and analyze actual phenomena\" with data. It employs techniques and theories drawn from many fields within the broad areas of mathematics, statistics, information science, and computer science, in particular from the subdomains of machine learning, classification, cluster analysis, uncertainty quantification, computational science, data mining, databases, and visualization."
   ]
  },
  {
   "cell_type": "markdown",
   "metadata": {
    "slideshow": {
     "slide_type": "subslide"
    }
   },
   "source": [
    "Turing award winner Jim Gray imagined data science as a \"fourth paradigm\" of science (empirical, theoretical, computational and now data-driven) and asserted that \"everything about science is changing because of the impact of information technology\" and the data deluge."
   ]
  },
  {
   "cell_type": "markdown",
   "metadata": {
    "slideshow": {
     "slide_type": "subslide"
    }
   },
   "source": [
    "When Harvard Business Review called it \"The Sexiest Job of the 21st Century\" the term became a buzzword, and is now often applied to business analytics, or even arbitrary use of data, or used as a sexed-up term for statistics. While many university programs now offer a data science degree, there exists no consensus on a definition or curriculum contents. Because of the current popularity of this term, there are many \"advocacy efforts\" surrounding it."
   ]
  },
  {
   "cell_type": "markdown",
   "metadata": {
    "slideshow": {
     "slide_type": "slide"
    }
   },
   "source": [
    "## Machine Learning\n",
    "Machine learning, a fundamental concept of AI research since the field's inception, is the study of computer algorithms that improve automatically through experience."
   ]
  },
  {
   "cell_type": "markdown",
   "metadata": {
    "slideshow": {
     "slide_type": "subslide"
    }
   },
   "source": [
    "* Unsupervised learning is the ability to find patterns in a stream of input. "
   ]
  },
  {
   "cell_type": "markdown",
   "metadata": {
    "slideshow": {
     "slide_type": "subslide"
    }
   },
   "source": [
    "* Supervised learning includes both classification and numerical regression. \n",
    " * Classification is used to determine what category something belongs in, after seeing a number of examples of things from several categories. \n",
    " * Regression is the attempt to produce a function that describes the relationship between inputs and outputs and predicts how the outputs should change as the inputs change."
   ]
  },
  {
   "cell_type": "markdown",
   "metadata": {
    "slideshow": {
     "slide_type": "subslide"
    }
   },
   "source": [
    "Both classifiers and regression learners can be viewed as \"function approximators\" trying to learn an unknown (possibly implicit) function; for example, a spam classifier can be viewed as learning a function that maps from the text of an email to one of two categories, \"spam\" or \"not spam\". "
   ]
  },
  {
   "cell_type": "markdown",
   "metadata": {
    "slideshow": {
     "slide_type": "subslide"
    }
   },
   "source": [
    "* In reinforcement learning the agent is rewarded for good responses and punished for bad ones. The agent uses this sequence of rewards and punishments to form a strategy for operating in its problem space."
   ]
  },
  {
   "cell_type": "markdown",
   "metadata": {
    "slideshow": {
     "slide_type": "slide"
    }
   },
   "source": [
    "<img src=\"machine-learning-guide.png\">"
   ]
  },
  {
   "cell_type": "markdown",
   "metadata": {
    "slideshow": {
     "slide_type": "slide"
    }
   },
   "source": [
    "## Dal mondo reale ai dati\n",
    "\n",
    "Il boom della IA è stato contemporaneo alla crescita della disponibilità (o alla possibilità di disporre) dei dati utili per le applicazioni di IA.\n",
    "\n",
    "Training dataset ricchi e completi sono la base imprescindibile per sviluppare **agenti intelligenti** affidabili:"
   ]
  },
  {
   "cell_type": "markdown",
   "metadata": {
    "slideshow": {
     "slide_type": "subslide"
    }
   },
   "source": [
    "Data mining:\n",
    "* sensori\n",
    "* web (scraping, data API, ecc...)\n",
    "* database\n",
    "* da altri agenti\n",
    "* ecc ecc"
   ]
  },
  {
   "cell_type": "markdown",
   "metadata": {
    "slideshow": {
     "slide_type": "subslide"
    }
   },
   "source": [
    "Per un agente intelligente, ovvero un software, i dati sono numeri...."
   ]
  },
  {
   "cell_type": "markdown",
   "metadata": {
    "slideshow": {
     "slide_type": "subslide"
    }
   },
   "source": [
    "...per costruire un agente dotato di IA e per alimentare le sue funzioni intelligenti, i dati sono messi sotto forma di tensori:\n",
    "<img src=\"tensors.jpg\">"
   ]
  },
  {
   "cell_type": "markdown",
   "metadata": {
    "slideshow": {
     "slide_type": "subslide"
    }
   },
   "source": [
    "Occorre scontrarsi (un poco :-) ) con l'algebra tensoriale e in particolare con l'astrazione richiesta da spazi a molte dimensioni come sono gli spazi usati dagli agenti intelligenti per apprendere e per esercitare le loro funzioni.\n",
    "<img src=\"iris.png\">"
   ]
  },
  {
   "cell_type": "markdown",
   "metadata": {
    "slideshow": {
     "slide_type": "subslide"
    }
   },
   "source": [
    "Ci sarebbe anche la features engineering..."
   ]
  },
  {
   "cell_type": "markdown",
   "metadata": {
    "slideshow": {
     "slide_type": "slide"
    }
   },
   "source": [
    "## Features e samples (esempi)\n",
    "\n",
    "Un set di dati è composto da **esempi** ognungo dei quali è caratterizzato da più **features**:\n",
    "<img src=\"Features.png\">"
   ]
  },
  {
   "cell_type": "markdown",
   "metadata": {
    "slideshow": {
     "slide_type": "slide"
    }
   },
   "source": [
    "## Per riassumere:\n",
    "<img src=\"flow.png\">\n"
   ]
  },
  {
   "cell_type": "markdown",
   "metadata": {
    "slideshow": {
     "slide_type": "slide"
    }
   },
   "source": [
    "## Ambiente di sviluppo IA e ambiente di produzione\n",
    "<img src=\"devprod.png\">"
   ]
  },
  {
   "cell_type": "markdown",
   "metadata": {
    "slideshow": {
     "slide_type": "slide"
    }
   },
   "source": [
    "### Lifecycle\n",
    "<img src=\"ds-lifecycle.png\">"
   ]
  },
  {
   "cell_type": "markdown",
   "metadata": {
    "slideshow": {
     "slide_type": "slide"
    }
   },
   "source": [
    "## Esempio tratto dalla NAO Challenge\n",
    "\n",
    "Sfida: far riconoscere a NAO i movimenti effettuati dal braccio di una persona.\n",
    "\n",
    "Si è valutato di creare un sistema basato su NAO + Raspberry PI + sensori opportuni che in tempo reale possa riconoscere i movimenti effettuati.\n",
    "\n",
    "**Durante il corso useremo questo notebook Python Jupyter come ambiente di sviluppo per l'esempio in oggetto**\n",
    "\n"
   ]
  },
  {
   "cell_type": "markdown",
   "metadata": {
    "slideshow": {
     "slide_type": "slide"
    }
   },
   "source": [
    "## Esempio tratto dalla NAO Challenge\n",
    "\n",
    "**PROBLEMA 1**: Capire come poter tradurre i movimenti in numeri\n",
    "\n",
    "**PROBLEMA 2**: Capire come convertire i numeri in un dataset di features idoneo per:\n",
    "    1. Istruire l'agente IA\n",
    "    2. Permettere all'agente di riconoscere i movimenti una volta istruito"
   ]
  },
  {
   "cell_type": "markdown",
   "metadata": {
    "slideshow": {
     "slide_type": "subslide"
    }
   },
   "source": [
    "**PROBLEMA 1**\n",
    "\n",
    "Applico sul polso del braccio un sensore MPU-6050: accelerometro 3 assi + giroscopio 3 assi.\n",
    "\n",
    "Il sensore si interfaccia tramite bus I2C (Raspberry PI, Arduino, Lego EV3, NAO)\n",
    "<img src=\"mpu6050.jpg\">"
   ]
  },
  {
   "cell_type": "markdown",
   "metadata": {
    "slideshow": {
     "slide_type": "subslide"
    }
   },
   "source": [
    "E' sufficiente? \n",
    "\n",
    "Risposta: si scopre solo provando!\n",
    "\n",
    "Ogni 50ms il sensore misura 3 valori di accelerazione Ax, Ay, Az e 3 valori di velocità angolare Gx, Gy, Gz."
   ]
  },
  {
   "cell_type": "markdown",
   "metadata": {
    "slideshow": {
     "slide_type": "subslide"
    }
   },
   "source": [
    "**PROBLEMA 2**\n",
    "\n",
    "Che me ne faccio dei sei numeri Ax, Ay, Az, Gx, Gy, Gz?\n",
    "\n",
    "Essendo misure istantanee sono completamente inutili al fine di caratterizzare un intero movimento effettuato dal braccio!"
   ]
  },
  {
   "cell_type": "markdown",
   "metadata": {
    "slideshow": {
     "slide_type": "subslide"
    }
   },
   "source": [
    "**Idea!**\n",
    "\n",
    "Usiamo i sei numeri Ax, Ay, Az, Gx, Gy, Gz, registrati ogni 50ms, per alimentare sei code FIFO.\n",
    "\n",
    "Esempio:\n",
    "\n",
    "Ogni 50ms nella coda FIFO delle Ax trovo gli ultimi 20 valori di Ax, quindi tutta la storia delle Ax nell'ultimo secondo!"
   ]
  },
  {
   "cell_type": "markdown",
   "metadata": {
    "slideshow": {
     "slide_type": "subslide"
    }
   },
   "source": [
    "**SOTTO-PROBLEMA DEL PROBLEMA 2**\n",
    "\n",
    "Da sei code FIFO, come ottengo un tensore, o meglio una matrice bidimensionale, idoneo per istruire e successivamente alimentare un algortimo di machine learning?"
   ]
  },
  {
   "cell_type": "markdown",
   "metadata": {
    "slideshow": {
     "slide_type": "subslide"
    }
   },
   "source": [
    "Molto semplice!\n",
    "\n",
    "Concateno le sei code FIFO ottenendo una sola lista di 120 numeri.\n",
    "\n",
    "Ogni 50ms ho una lista di 120 numeri che contiene i dati dell'ultimo secondo di movimento!\n",
    "\n",
    "E quindi?"
   ]
  },
  {
   "cell_type": "markdown",
   "metadata": {
    "slideshow": {
     "slide_type": "subslide"
    }
   },
   "source": [
    "Quindi ogni 50ms ho un **campione** che è dato dalla lista di 120 numeri!\n",
    "\n",
    "Ogni numero della lista è una **feature**!\n",
    "\n",
    "In totale si hanno 120 feature, per cui lo spazio delle feature ha 120 dimensioni!\n",
    "\n",
    "\n",
    "ANTICIPAZIONE: ...una volta che l'agente intelligente sarà stato istruito saprà riconoscere di che movimento si tratta per ognuno dei punti di questo spazio a 120 dimensioni."
   ]
  },
  {
   "cell_type": "markdown",
   "metadata": {},
   "source": [
    "<img src=\"RandomForest.jpg\">"
   ]
  },
  {
   "cell_type": "markdown",
   "metadata": {
    "slideshow": {
     "slide_type": "slide"
    }
   },
   "source": [
    "### Sviluppo del riconoscitore di movimenti: i dati.\n",
    "Con la logica descritta in precedenza si può creare un registratore di dati di movimento che salva i dati in formato cvs. Inoltre durante la registrazione dei movimenti l'utente \"tagga\" i movimenti ciascuno con il suo identificativo numerico.\n",
    "Nel caso che studieremo come esempio si sono considerati 4 movimenti possibili più un movimento globale che include tutti i movimenti diversi dai 4 di interesse."
   ]
  },
  {
   "cell_type": "code",
   "execution_count": null,
   "metadata": {
    "slideshow": {
     "slide_type": "slide"
    }
   },
   "outputs": [],
   "source": [
    "'''\n",
    "        Record movements.\n",
    "\t\tUSAGE: python mov_rec.py n_of_movement\n",
    "'''\n",
    "import smbus\t\t\t#import SMBus module of I2C\n",
    "import time         \n",
    "import collections\n",
    "import numpy as np\n",
    "import csv\n",
    "import sys\n",
    "\n",
    "\n",
    "#some MPU6050 Registers and their Address\n",
    "PWR_MGMT_1   = 0x6B\n",
    "SMPLRT_DIV   = 0x19\n",
    "CONFIG       = 0x1A\n",
    "GYRO_CONFIG  = 0x1B\n",
    "INT_ENABLE   = 0x38\n",
    "ACCEL_XOUT_H = 0x3B\n",
    "ACCEL_YOUT_H = 0x3D\n",
    "ACCEL_ZOUT_H = 0x3F\n",
    "GYRO_XOUT_H  = 0x43\n",
    "GYRO_YOUT_H  = 0x45\n",
    "GYRO_ZOUT_H  = 0x47\n",
    "\n",
    "\n",
    "def MPU_Init():\n",
    "\t#write to sample rate register\n",
    "\tbus.write_byte_data(Device_Address, SMPLRT_DIV, 7)\n",
    "\t\n",
    "\t#Write to power management register\n",
    "\tbus.write_byte_data(Device_Address, PWR_MGMT_1, 1)\n",
    "\t\n",
    "\t#Write to Configuration register\n",
    "\tbus.write_byte_data(Device_Address, CONFIG, 0)\n",
    "\t\n",
    "\t#Write to Gyro configuration register\n",
    "\tbus.write_byte_data(Device_Address, GYRO_CONFIG, 24)\n",
    "\t\n",
    "\t#Write to interrupt enable register\n",
    "\tbus.write_byte_data(Device_Address, INT_ENABLE, 1)\n",
    "\n",
    "def read_raw_data(addr):\n",
    "\t#Accelero and Gyro value are 16-bit\n",
    "        high = bus.read_byte_data(Device_Address, addr)\n",
    "        low = bus.read_byte_data(Device_Address, addr+1)\n",
    "    \n",
    "        #concatenate higher and lower value\n",
    "        value = ((high << 8) | low)\n",
    "        \n",
    "        #to get signed value from mpu6050\n",
    "        if(value > 32768):\n",
    "                value = value - 65536\n",
    "        return value\n",
    "\n",
    "\n",
    "bus = smbus.SMBus(1) \t# or bus = smbus.SMBus(0) for older version boards\n",
    "Device_Address = 0x68   # MPU6050 device address\n",
    "\n",
    "MPU_Init()\n",
    "\n",
    "print (\" Reading Data of Gyroscope and Accelerometer\")\n",
    "\n",
    "LenFifo = 10\n",
    "Athr = 0.04\n",
    "AxFifo = collections.deque(LenFifo*[0], LenFifo)\n",
    "AyFifo = collections.deque(LenFifo*[0], LenFifo)\n",
    "AzFifo = collections.deque(LenFifo*[0], LenFifo)\n",
    "GxFifo = collections.deque(LenFifo*[0], LenFifo)\n",
    "GyFifo = collections.deque(LenFifo*[0], LenFifo)\n",
    "GzFifo = collections.deque(LenFifo*[0], LenFifo)\n",
    "\n",
    "csvfile = open('movements.csv', 'ab')\n",
    "writer = csv.writer(csvfile)\n",
    "\n",
    "movement_class = sys.argv[1] \n",
    "if not(movement_class):\n",
    "\tmovement_class = 'UNK'\n",
    "\n",
    "while True:\n",
    "\t#Read Accelerometer raw value\n",
    "\tacc_x = read_raw_data(ACCEL_XOUT_H)\n",
    "\tacc_y = read_raw_data(ACCEL_YOUT_H)\n",
    "\tacc_z = read_raw_data(ACCEL_ZOUT_H)\n",
    "\t\n",
    "\t#Read Gyroscope raw value\n",
    "\tgyro_x = read_raw_data(GYRO_XOUT_H)\n",
    "\tgyro_y = read_raw_data(GYRO_YOUT_H)\n",
    "\tgyro_z = read_raw_data(GYRO_ZOUT_H)\n",
    "\t\n",
    "\t#Full scale range +/- 250 degree/C as per sensitivity scale factor\n",
    "\tAx = acc_x/16384.0\n",
    "\tAy = acc_y/16384.0\n",
    "\tAz = acc_z/16384.0\n",
    "\n",
    "\tGx = gyro_x/131.0\n",
    "\tGy = gyro_y/131.0\n",
    "\tGz = gyro_z/131.0\n",
    "\n",
    "\tAxFifo.append(Ax)\n",
    "\tAyFifo.append(Ay)\n",
    "\tAzFifo.append(Az)\n",
    "\tGxFifo.append(Gx)\n",
    "\tGyFifo.append(Gy)\n",
    "\tGzFifo.append(Gz)\n",
    "\n",
    "\tmovement_detected = (np.abs(AxFifo[LenFifo-1]-AxFifo[LenFifo-2])>Athr) | (np.abs(AyFifo[LenFifo-1]-AyFifo[LenFifo-2])>Athr) | (np.abs(AzFifo[LenFifo-1]-AzFifo[LenFifo-2])>Athr)\n",
    "\n",
    "\tif movement_detected:\n",
    "\t\t#print '%.2f, %.2f, %.2f, %.2f, %.2f, %.2f, %.2f' %(time.time(),Gx,Gy,Gz,Ax,Ay,Az)\n",
    "\t\twriter.writerow([time.time()] + list(AxFifo) + list(AyFifo) + list(AzFifo) + list(GxFifo) + list(GyFifo) + list(GzFifo) + [movement_class])\n",
    "\t#print 'Gx=%.2f, Gy=%.2f, Gz=%.2f, Ax=%.2f, Ay=%.2f, Az=%.2f' %(Gx,Gy,Gz,Ax,Ay,Az)\t\n",
    "\ttime.sleep(0.2)\n",
    "\n",
    "close(csvfile)"
   ]
  },
  {
   "cell_type": "markdown",
   "metadata": {
    "slideshow": {
     "slide_type": "slide"
    }
   },
   "source": [
    "### La libreria Numpy\n",
    "<img src=\"numpy_logo.png\">\n",
    "NumPy is the fundamental package for scientific computing with Python. It contains among other things:\n",
    "* a powerful N-dimensional array object\n",
    "* sophisticated (broadcasting) functions\n",
    "* tools for integrating C/C++ and Fortran code\n",
    "* useful linear algebra, Fourier transform, and random number capabilities\n",
    "\n",
    "Besides its obvious scientific uses, NumPy can also be used as an efficient multi-dimensional container of generic data. Arbitrary data-types can be defined. This allows NumPy to seamlessly and speedily integrate with a wide variety of databases.\n",
    "\n",
    "NumPy is licensed under the BSD license, enabling reuse with few restrictions.\n",
    "\n",
    "http://www.numpy.org/\n"
   ]
  },
  {
   "cell_type": "markdown",
   "metadata": {
    "slideshow": {
     "slide_type": "slide"
    }
   },
   "source": [
    "### La libreria Pandas\n",
    "<img src=\"pandas_logo.png\">\n",
    "Pandas is an open source, BSD-licensed library providing high-performance, easy-to-use data structures and data analysis tools for the Python programming language.\n",
    "\n",
    "https://pandas.pydata.org/\n",
    "\n",
    "http://pandas.pydata.org/pandas-docs/stable/10min.html"
   ]
  },
  {
   "cell_type": "code",
   "execution_count": 20,
   "metadata": {
    "slideshow": {
     "slide_type": "slide"
    }
   },
   "outputs": [
    {
     "data": {
      "text/html": [
       "<div>\n",
       "<style>\n",
       "    .dataframe thead tr:only-child th {\n",
       "        text-align: right;\n",
       "    }\n",
       "\n",
       "    .dataframe thead th {\n",
       "        text-align: left;\n",
       "    }\n",
       "\n",
       "    .dataframe tbody tr th {\n",
       "        vertical-align: top;\n",
       "    }\n",
       "</style>\n",
       "<table border=\"1\" class=\"dataframe\">\n",
       "  <thead>\n",
       "    <tr style=\"text-align: right;\">\n",
       "      <th></th>\n",
       "      <th>Ax_1</th>\n",
       "      <th>Ax_2</th>\n",
       "      <th>Ax_3</th>\n",
       "      <th>Ax_4</th>\n",
       "      <th>Ax_5</th>\n",
       "      <th>Ax_6</th>\n",
       "      <th>Ax_7</th>\n",
       "      <th>Ax_8</th>\n",
       "      <th>Ax_9</th>\n",
       "      <th>Ax_10</th>\n",
       "      <th>...</th>\n",
       "      <th>Gz_12</th>\n",
       "      <th>Gz_13</th>\n",
       "      <th>Gz_14</th>\n",
       "      <th>Gz_15</th>\n",
       "      <th>Gz_16</th>\n",
       "      <th>Gz_17</th>\n",
       "      <th>Gz_18</th>\n",
       "      <th>Gz_19</th>\n",
       "      <th>Gz_20</th>\n",
       "      <th>movement</th>\n",
       "    </tr>\n",
       "  </thead>\n",
       "  <tbody>\n",
       "    <tr>\n",
       "      <th>1.524893e+09</th>\n",
       "      <td>0.0</td>\n",
       "      <td>0.0</td>\n",
       "      <td>0.0</td>\n",
       "      <td>0.0</td>\n",
       "      <td>0.0</td>\n",
       "      <td>0.0</td>\n",
       "      <td>0.0</td>\n",
       "      <td>0.0</td>\n",
       "      <td>0.0</td>\n",
       "      <td>0.0</td>\n",
       "      <td>...</td>\n",
       "      <td>0.0</td>\n",
       "      <td>0.0</td>\n",
       "      <td>0.0</td>\n",
       "      <td>0.0</td>\n",
       "      <td>0.000000</td>\n",
       "      <td>0.000000</td>\n",
       "      <td>0.000000</td>\n",
       "      <td>0.000000</td>\n",
       "      <td>-22.458015</td>\n",
       "      <td>1</td>\n",
       "    </tr>\n",
       "    <tr>\n",
       "      <th>1.524893e+09</th>\n",
       "      <td>0.0</td>\n",
       "      <td>0.0</td>\n",
       "      <td>0.0</td>\n",
       "      <td>0.0</td>\n",
       "      <td>0.0</td>\n",
       "      <td>0.0</td>\n",
       "      <td>0.0</td>\n",
       "      <td>0.0</td>\n",
       "      <td>0.0</td>\n",
       "      <td>0.0</td>\n",
       "      <td>...</td>\n",
       "      <td>0.0</td>\n",
       "      <td>0.0</td>\n",
       "      <td>0.0</td>\n",
       "      <td>0.0</td>\n",
       "      <td>0.000000</td>\n",
       "      <td>0.000000</td>\n",
       "      <td>0.000000</td>\n",
       "      <td>-22.458015</td>\n",
       "      <td>-29.381679</td>\n",
       "      <td>1</td>\n",
       "    </tr>\n",
       "    <tr>\n",
       "      <th>1.524893e+09</th>\n",
       "      <td>0.0</td>\n",
       "      <td>0.0</td>\n",
       "      <td>0.0</td>\n",
       "      <td>0.0</td>\n",
       "      <td>0.0</td>\n",
       "      <td>0.0</td>\n",
       "      <td>0.0</td>\n",
       "      <td>0.0</td>\n",
       "      <td>0.0</td>\n",
       "      <td>0.0</td>\n",
       "      <td>...</td>\n",
       "      <td>0.0</td>\n",
       "      <td>0.0</td>\n",
       "      <td>0.0</td>\n",
       "      <td>0.0</td>\n",
       "      <td>0.000000</td>\n",
       "      <td>0.000000</td>\n",
       "      <td>-22.458015</td>\n",
       "      <td>-29.381679</td>\n",
       "      <td>-24.106870</td>\n",
       "      <td>1</td>\n",
       "    </tr>\n",
       "    <tr>\n",
       "      <th>1.524893e+09</th>\n",
       "      <td>0.0</td>\n",
       "      <td>0.0</td>\n",
       "      <td>0.0</td>\n",
       "      <td>0.0</td>\n",
       "      <td>0.0</td>\n",
       "      <td>0.0</td>\n",
       "      <td>0.0</td>\n",
       "      <td>0.0</td>\n",
       "      <td>0.0</td>\n",
       "      <td>0.0</td>\n",
       "      <td>...</td>\n",
       "      <td>0.0</td>\n",
       "      <td>0.0</td>\n",
       "      <td>0.0</td>\n",
       "      <td>0.0</td>\n",
       "      <td>0.000000</td>\n",
       "      <td>-22.458015</td>\n",
       "      <td>-29.381679</td>\n",
       "      <td>-24.106870</td>\n",
       "      <td>-14.061069</td>\n",
       "      <td>1</td>\n",
       "    </tr>\n",
       "    <tr>\n",
       "      <th>1.524893e+09</th>\n",
       "      <td>0.0</td>\n",
       "      <td>0.0</td>\n",
       "      <td>0.0</td>\n",
       "      <td>0.0</td>\n",
       "      <td>0.0</td>\n",
       "      <td>0.0</td>\n",
       "      <td>0.0</td>\n",
       "      <td>0.0</td>\n",
       "      <td>0.0</td>\n",
       "      <td>0.0</td>\n",
       "      <td>...</td>\n",
       "      <td>0.0</td>\n",
       "      <td>0.0</td>\n",
       "      <td>0.0</td>\n",
       "      <td>0.0</td>\n",
       "      <td>-22.458015</td>\n",
       "      <td>-29.381679</td>\n",
       "      <td>-24.106870</td>\n",
       "      <td>-14.061069</td>\n",
       "      <td>-1.458015</td>\n",
       "      <td>1</td>\n",
       "    </tr>\n",
       "  </tbody>\n",
       "</table>\n",
       "<p>5 rows × 121 columns</p>\n",
       "</div>"
      ],
      "text/plain": [
       "              Ax_1  Ax_2  Ax_3  Ax_4  Ax_5  Ax_6  Ax_7  Ax_8  Ax_9  Ax_10  \\\n",
       "1.524893e+09   0.0   0.0   0.0   0.0   0.0   0.0   0.0   0.0   0.0    0.0   \n",
       "1.524893e+09   0.0   0.0   0.0   0.0   0.0   0.0   0.0   0.0   0.0    0.0   \n",
       "1.524893e+09   0.0   0.0   0.0   0.0   0.0   0.0   0.0   0.0   0.0    0.0   \n",
       "1.524893e+09   0.0   0.0   0.0   0.0   0.0   0.0   0.0   0.0   0.0    0.0   \n",
       "1.524893e+09   0.0   0.0   0.0   0.0   0.0   0.0   0.0   0.0   0.0    0.0   \n",
       "\n",
       "                ...     Gz_12  Gz_13  Gz_14  Gz_15      Gz_16      Gz_17  \\\n",
       "1.524893e+09    ...       0.0    0.0    0.0    0.0   0.000000   0.000000   \n",
       "1.524893e+09    ...       0.0    0.0    0.0    0.0   0.000000   0.000000   \n",
       "1.524893e+09    ...       0.0    0.0    0.0    0.0   0.000000   0.000000   \n",
       "1.524893e+09    ...       0.0    0.0    0.0    0.0   0.000000 -22.458015   \n",
       "1.524893e+09    ...       0.0    0.0    0.0    0.0 -22.458015 -29.381679   \n",
       "\n",
       "                  Gz_18      Gz_19      Gz_20  movement  \n",
       "1.524893e+09   0.000000   0.000000 -22.458015         1  \n",
       "1.524893e+09   0.000000 -22.458015 -29.381679         1  \n",
       "1.524893e+09 -22.458015 -29.381679 -24.106870         1  \n",
       "1.524893e+09 -29.381679 -24.106870 -14.061069         1  \n",
       "1.524893e+09 -24.106870 -14.061069  -1.458015         1  \n",
       "\n",
       "[5 rows x 121 columns]"
      ]
     },
     "execution_count": 20,
     "metadata": {},
     "output_type": "execute_result"
    }
   ],
   "source": [
    "import pandas as pd\n",
    "import matplotlib.pyplot as plt\n",
    "%matplotlib inline\n",
    "header = [name + '_' + str(i) for name in ['Ax','Ay','Az','Gx','Gy','Gz'] for i in range(1,21)]+['movement']\n",
    "data = pd.read_csv('movements.csv', header=None, index_col=0, names=header)\n",
    "data.head()"
   ]
  },
  {
   "cell_type": "code",
   "execution_count": 10,
   "metadata": {
    "slideshow": {
     "slide_type": "fragment"
    }
   },
   "outputs": [
    {
     "data": {
      "text/html": [
       "<div>\n",
       "<style>\n",
       "    .dataframe thead tr:only-child th {\n",
       "        text-align: right;\n",
       "    }\n",
       "\n",
       "    .dataframe thead th {\n",
       "        text-align: left;\n",
       "    }\n",
       "\n",
       "    .dataframe tbody tr th {\n",
       "        vertical-align: top;\n",
       "    }\n",
       "</style>\n",
       "<table border=\"1\" class=\"dataframe\">\n",
       "  <thead>\n",
       "    <tr style=\"text-align: right;\">\n",
       "      <th></th>\n",
       "      <th>Ax_1</th>\n",
       "      <th>Ax_2</th>\n",
       "      <th>Ax_3</th>\n",
       "      <th>Ax_4</th>\n",
       "      <th>Ax_5</th>\n",
       "      <th>Ax_6</th>\n",
       "      <th>Ax_7</th>\n",
       "      <th>Ax_8</th>\n",
       "      <th>Ax_9</th>\n",
       "      <th>Ax_10</th>\n",
       "      <th>...</th>\n",
       "      <th>Gz_12</th>\n",
       "      <th>Gz_13</th>\n",
       "      <th>Gz_14</th>\n",
       "      <th>Gz_15</th>\n",
       "      <th>Gz_16</th>\n",
       "      <th>Gz_17</th>\n",
       "      <th>Gz_18</th>\n",
       "      <th>Gz_19</th>\n",
       "      <th>Gz_20</th>\n",
       "      <th>movement</th>\n",
       "    </tr>\n",
       "  </thead>\n",
       "  <tbody>\n",
       "    <tr>\n",
       "      <th>1.524893e+09</th>\n",
       "      <td>1.031738</td>\n",
       "      <td>1.030029</td>\n",
       "      <td>1.043213</td>\n",
       "      <td>1.072998</td>\n",
       "      <td>1.101807</td>\n",
       "      <td>1.035156</td>\n",
       "      <td>0.962646</td>\n",
       "      <td>0.980957</td>\n",
       "      <td>0.977539</td>\n",
       "      <td>0.870850</td>\n",
       "      <td>...</td>\n",
       "      <td>-2.587786</td>\n",
       "      <td>-1.702290</td>\n",
       "      <td>-1.213740</td>\n",
       "      <td>-1.290076</td>\n",
       "      <td>-1.709924</td>\n",
       "      <td>-2.679389</td>\n",
       "      <td>-3.572519</td>\n",
       "      <td>-4.068702</td>\n",
       "      <td>-4.458015</td>\n",
       "      <td>5</td>\n",
       "    </tr>\n",
       "    <tr>\n",
       "      <th>1.524893e+09</th>\n",
       "      <td>1.030029</td>\n",
       "      <td>1.043213</td>\n",
       "      <td>1.072998</td>\n",
       "      <td>1.101807</td>\n",
       "      <td>1.035156</td>\n",
       "      <td>0.962646</td>\n",
       "      <td>0.980957</td>\n",
       "      <td>0.977539</td>\n",
       "      <td>0.870850</td>\n",
       "      <td>0.875977</td>\n",
       "      <td>...</td>\n",
       "      <td>-1.702290</td>\n",
       "      <td>-1.213740</td>\n",
       "      <td>-1.290076</td>\n",
       "      <td>-1.709924</td>\n",
       "      <td>-2.679389</td>\n",
       "      <td>-3.572519</td>\n",
       "      <td>-4.068702</td>\n",
       "      <td>-4.458015</td>\n",
       "      <td>-5.366412</td>\n",
       "      <td>5</td>\n",
       "    </tr>\n",
       "    <tr>\n",
       "      <th>1.524893e+09</th>\n",
       "      <td>1.043213</td>\n",
       "      <td>1.072998</td>\n",
       "      <td>1.101807</td>\n",
       "      <td>1.035156</td>\n",
       "      <td>0.962646</td>\n",
       "      <td>0.980957</td>\n",
       "      <td>0.977539</td>\n",
       "      <td>0.870850</td>\n",
       "      <td>0.875977</td>\n",
       "      <td>0.884277</td>\n",
       "      <td>...</td>\n",
       "      <td>-1.213740</td>\n",
       "      <td>-1.290076</td>\n",
       "      <td>-1.709924</td>\n",
       "      <td>-2.679389</td>\n",
       "      <td>-3.572519</td>\n",
       "      <td>-4.068702</td>\n",
       "      <td>-4.458015</td>\n",
       "      <td>-5.366412</td>\n",
       "      <td>-5.580153</td>\n",
       "      <td>5</td>\n",
       "    </tr>\n",
       "    <tr>\n",
       "      <th>1.524893e+09</th>\n",
       "      <td>1.072998</td>\n",
       "      <td>1.101807</td>\n",
       "      <td>1.035156</td>\n",
       "      <td>0.962646</td>\n",
       "      <td>0.980957</td>\n",
       "      <td>0.977539</td>\n",
       "      <td>0.870850</td>\n",
       "      <td>0.875977</td>\n",
       "      <td>0.884277</td>\n",
       "      <td>0.879883</td>\n",
       "      <td>...</td>\n",
       "      <td>-1.290076</td>\n",
       "      <td>-1.709924</td>\n",
       "      <td>-2.679389</td>\n",
       "      <td>-3.572519</td>\n",
       "      <td>-4.068702</td>\n",
       "      <td>-4.458015</td>\n",
       "      <td>-5.366412</td>\n",
       "      <td>-5.580153</td>\n",
       "      <td>-5.045802</td>\n",
       "      <td>5</td>\n",
       "    </tr>\n",
       "    <tr>\n",
       "      <th>1.524893e+09</th>\n",
       "      <td>1.101807</td>\n",
       "      <td>1.035156</td>\n",
       "      <td>0.962646</td>\n",
       "      <td>0.980957</td>\n",
       "      <td>0.977539</td>\n",
       "      <td>0.870850</td>\n",
       "      <td>0.875977</td>\n",
       "      <td>0.884277</td>\n",
       "      <td>0.879883</td>\n",
       "      <td>0.894775</td>\n",
       "      <td>...</td>\n",
       "      <td>-1.709924</td>\n",
       "      <td>-2.679389</td>\n",
       "      <td>-3.572519</td>\n",
       "      <td>-4.068702</td>\n",
       "      <td>-4.458015</td>\n",
       "      <td>-5.366412</td>\n",
       "      <td>-5.580153</td>\n",
       "      <td>-5.045802</td>\n",
       "      <td>-5.229008</td>\n",
       "      <td>5</td>\n",
       "    </tr>\n",
       "  </tbody>\n",
       "</table>\n",
       "<p>5 rows × 121 columns</p>\n",
       "</div>"
      ],
      "text/plain": [
       "                  Ax_1      Ax_2      Ax_3      Ax_4      Ax_5      Ax_6  \\\n",
       "1.524893e+09  1.031738  1.030029  1.043213  1.072998  1.101807  1.035156   \n",
       "1.524893e+09  1.030029  1.043213  1.072998  1.101807  1.035156  0.962646   \n",
       "1.524893e+09  1.043213  1.072998  1.101807  1.035156  0.962646  0.980957   \n",
       "1.524893e+09  1.072998  1.101807  1.035156  0.962646  0.980957  0.977539   \n",
       "1.524893e+09  1.101807  1.035156  0.962646  0.980957  0.977539  0.870850   \n",
       "\n",
       "                  Ax_7      Ax_8      Ax_9     Ax_10    ...        Gz_12  \\\n",
       "1.524893e+09  0.962646  0.980957  0.977539  0.870850    ...    -2.587786   \n",
       "1.524893e+09  0.980957  0.977539  0.870850  0.875977    ...    -1.702290   \n",
       "1.524893e+09  0.977539  0.870850  0.875977  0.884277    ...    -1.213740   \n",
       "1.524893e+09  0.870850  0.875977  0.884277  0.879883    ...    -1.290076   \n",
       "1.524893e+09  0.875977  0.884277  0.879883  0.894775    ...    -1.709924   \n",
       "\n",
       "                 Gz_13     Gz_14     Gz_15     Gz_16     Gz_17     Gz_18  \\\n",
       "1.524893e+09 -1.702290 -1.213740 -1.290076 -1.709924 -2.679389 -3.572519   \n",
       "1.524893e+09 -1.213740 -1.290076 -1.709924 -2.679389 -3.572519 -4.068702   \n",
       "1.524893e+09 -1.290076 -1.709924 -2.679389 -3.572519 -4.068702 -4.458015   \n",
       "1.524893e+09 -1.709924 -2.679389 -3.572519 -4.068702 -4.458015 -5.366412   \n",
       "1.524893e+09 -2.679389 -3.572519 -4.068702 -4.458015 -5.366412 -5.580153   \n",
       "\n",
       "                 Gz_19     Gz_20  movement  \n",
       "1.524893e+09 -4.068702 -4.458015         5  \n",
       "1.524893e+09 -4.458015 -5.366412         5  \n",
       "1.524893e+09 -5.366412 -5.580153         5  \n",
       "1.524893e+09 -5.580153 -5.045802         5  \n",
       "1.524893e+09 -5.045802 -5.229008         5  \n",
       "\n",
       "[5 rows x 121 columns]"
      ]
     },
     "execution_count": 10,
     "metadata": {},
     "output_type": "execute_result"
    }
   ],
   "source": [
    "data.tail()"
   ]
  },
  {
   "cell_type": "code",
   "execution_count": 11,
   "metadata": {
    "slideshow": {
     "slide_type": "fragment"
    }
   },
   "outputs": [
    {
     "data": {
      "text/plain": [
       "751"
      ]
     },
     "execution_count": 11,
     "metadata": {},
     "output_type": "execute_result"
    }
   ],
   "source": [
    "len(data)"
   ]
  },
  {
   "cell_type": "code",
   "execution_count": 12,
   "metadata": {
    "slideshow": {
     "slide_type": "fragment"
    }
   },
   "outputs": [
    {
     "data": {
      "text/plain": [
       "movement\n",
       "1    165\n",
       "2     46\n",
       "3    176\n",
       "4    213\n",
       "5    151\n",
       "Name: Ax_1, dtype: int64"
      ]
     },
     "execution_count": 12,
     "metadata": {},
     "output_type": "execute_result"
    }
   ],
   "source": [
    "data.groupby('movement').count()['Ax_1']"
   ]
  },
  {
   "cell_type": "code",
   "execution_count": 13,
   "metadata": {
    "slideshow": {
     "slide_type": "slide"
    }
   },
   "outputs": [
    {
     "data": {
      "text/plain": [
       "1.524893e+09    0.000000\n",
       "1.524893e+09    0.000000\n",
       "1.524893e+09    0.000000\n",
       "1.524893e+09    0.000000\n",
       "1.524893e+09    0.000000\n",
       "1.524893e+09    0.000000\n",
       "1.524893e+09    0.000000\n",
       "1.524893e+09    0.000000\n",
       "1.524893e+09    0.000000\n",
       "1.524893e+09    0.000000\n",
       "1.524893e+09    0.000000\n",
       "1.524893e+09    0.000000\n",
       "1.524893e+09    0.000000\n",
       "1.524893e+09    0.000000\n",
       "1.524893e+09    0.000000\n",
       "1.524893e+09    0.000000\n",
       "1.524893e+09    0.000000\n",
       "1.524893e+09    0.000000\n",
       "1.524893e+09    0.000000\n",
       "1.524893e+09    0.342041\n",
       "Name: Ax_1, dtype: float64"
      ]
     },
     "execution_count": 13,
     "metadata": {},
     "output_type": "execute_result"
    }
   ],
   "source": [
    "data['Ax_1'].head(20)"
   ]
  },
  {
   "cell_type": "code",
   "execution_count": 34,
   "metadata": {
    "slideshow": {
     "slide_type": "slide"
    }
   },
   "outputs": [
    {
     "data": {
      "text/plain": [
       "<matplotlib.figure.Figure at 0x113309cd0>"
      ]
     },
     "metadata": {},
     "output_type": "display_data"
    },
    {
     "data": {
      "image/png": "[encoded data removed]",
      "text/plain": [
       "<matplotlib.figure.Figure at 0x113642250>"
      ]
     },
     "metadata": {},
     "output_type": "display_data"
    }
   ],
   "source": [
    "plt.figure(figsize=(20,20))\n",
    "data.plot.scatter(x='Ax_2',y='Ay_2')\n",
    "plt.show()"
   ]
  },
  {
   "cell_type": "code",
   "execution_count": 35,
   "metadata": {
    "slideshow": {
     "slide_type": "slide"
    }
   },
   "outputs": [
    {
     "data": {
      "text/plain": [
       "<matplotlib.axes._subplots.AxesSubplot at 0x113350090>"
      ]
     },
     "execution_count": 35,
     "metadata": {},
     "output_type": "execute_result"
    },
    {
     "data": {
      "image/png": "[encoded data removed]",
      "text/plain": [
       "<matplotlib.figure.Figure at 0x10f0cfb90>"
      ]
     },
     "metadata": {},
     "output_type": "display_data"
    }
   ],
   "source": [
    "data['Ay_1'].hist(bins=50)"
   ]
  },
  {
   "cell_type": "code",
   "execution_count": 39,
   "metadata": {
    "slideshow": {
     "slide_type": "slide"
    }
   },
   "outputs": [
    {
     "data": {
      "text/plain": [
       "array([[<matplotlib.axes._subplots.AxesSubplot object at 0x11466b390>,\n",
       "        <matplotlib.axes._subplots.AxesSubplot object at 0x114767650>],\n",
       "       [<matplotlib.axes._subplots.AxesSubplot object at 0x1147ec710>,\n",
       "        <matplotlib.axes._subplots.AxesSubplot object at 0x114853f90>],\n",
       "       [<matplotlib.axes._subplots.AxesSubplot object at 0x1148d7fd0>,\n",
       "        <matplotlib.axes._subplots.AxesSubplot object at 0x11494d950>]], dtype=object)"
      ]
     },
     "execution_count": 39,
     "metadata": {},
     "output_type": "execute_result"
    },
    {
     "data": {
      "image/png": "[encoded data removed]",
      "text/plain": [
       "<matplotlib.figure.Figure at 0x1146ac450>"
      ]
     },
     "metadata": {},
     "output_type": "display_data"
    }
   ],
   "source": [
    "data.hist(column='Gx_2', by='movement')"
   ]
  },
  {
   "cell_type": "code",
   "execution_count": null,
   "metadata": {},
   "outputs": [],
   "source": []
  }
 ],
 "metadata": {
  "celltoolbar": "Slideshow",
  "kernelspec": {
   "display_name": "Python 2",
   "language": "python",
   "name": "python2"
  },
  "language_info": {
   "codemirror_mode": {
    "name": "ipython",
    "version": 2
   },
   "file_extension": ".py",
   "mimetype": "text/x-python",
   "name": "python",
   "nbconvert_exporter": "python",
   "pygments_lexer": "ipython2",
   "version": "2.7.13"
  }
 },
 "nbformat": 4,
 "nbformat_minor": 2
}
