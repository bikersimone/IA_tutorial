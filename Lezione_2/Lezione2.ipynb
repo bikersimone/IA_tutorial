{
 "cells": [
  {
   "cell_type": "markdown",
   "metadata": {
    "slideshow": {
     "slide_type": "slide"
    }
   },
   "source": [
    "<img src=\"cover.png\">"
   ]
  },
  {
   "cell_type": "markdown",
   "metadata": {
    "slideshow": {
     "slide_type": "slide"
    }
   },
   "source": [
    "# LEZIONE 2\n",
    "\n",
    "\n",
    "4 Giugno 2018"
   ]
  },
  {
   "cell_type": "markdown",
   "metadata": {
    "slideshow": {
     "slide_type": "slide"
    }
   },
   "source": [
    "### La libreria Scikit-Learn\n",
    "<img src=\"scikit-learn-logo-small.png\">\n",
    "The scikit-learn project started as scikits.learn, a Google Summer of Code project by David Cournapeau. Its name stems from the notion that it is a \"SciKit\" (SciPy Toolkit), a separately-developed and distributed third-party extension to SciPy. The original codebase was later rewritten by other developers. In 2010 Fabian Pedregosa, Gael Varoquaux, Alexandre Gramfort and Vincent Michel, all from INRIA took leadership of the project and made the first public release on February the 1st 2010. Of the various scikits, scikit-learn as well as scikit-image were described as \"well-maintained and popular\" in November 2012.\n",
    "\n",
    "As of 2018, scikit-learn is under active development.\n",
    "\n",
    "Scikit-learn is a free software machine learning library for the Python programming language. It features various classification, regression and clustering algorithms including support vector machines, random forests, gradient boosting, k-means and DBSCAN, and is designed to interoperate with the Python numerical and scientific libraries NumPy and SciPy.\n",
    "\n",
    "http://scikit-learn.org/stable/index.html"
   ]
  },
  {
   "cell_type": "markdown",
   "metadata": {
    "slideshow": {
     "slide_type": "slide"
    }
   },
   "source": [
    "### Definizioni\n",
    "\n",
    "In general, a learning problem considers a set of n samples of data and then tries to predict properties of unknown data. If each sample is more than a single number and, for instance, a multi-dimensional entry (aka multivariate data), it is said to have several attributes or features.\n",
    "\n",
    "Supervised learning: in which the data comes with additional attributes that we want to predict This problem can be either:\n",
    "\n",
    "* classification: samples belong to two or more classes and we want to learn from already labeled data how to predict the class of unlabeled data. An example of classification problem would be the handwritten digit recognition example, in which the aim is to assign each input vector to one of a finite number of discrete categories. Another way to think of classification is as a discrete (as opposed to continuous) form of supervised learning where one has a limited number of categories and for each of the n samples provided, one is to try to label them with the correct category or class.\n",
    "* regression: if the desired output consists of one or more continuous variables, then the task is called regression. An example of a regression problem would be the prediction of the length of a salmon as a function of its age and weight.\n",
    "\n"
   ]
  },
  {
   "cell_type": "markdown",
   "metadata": {
    "slideshow": {
     "slide_type": "subslide"
    }
   },
   "source": [
    "#### Training set and testing set\n",
    "\n",
    "Machine learning is about learning some properties of a data set and applying them to new data. This is why a common practice in machine learning to evaluate an algorithm is to split the data at hand into two sets, one that we call the training set on which we learn data properties and one that we call the testing set on which we test these properties."
   ]
  },
  {
   "cell_type": "markdown",
   "metadata": {
    "slideshow": {
     "slide_type": "slide"
    }
   },
   "source": [
    "<img src=\"ml_map.png\">\n",
    "\n",
    "http://scikit-learn.org/stable/tutorial/machine_learning_map/index.html"
   ]
  },
  {
   "cell_type": "code",
   "execution_count": 2,
   "metadata": {
    "slideshow": {
     "slide_type": "slide"
    }
   },
   "outputs": [
    {
     "data": {
      "text/html": [
       "<div>\n",
       "<style>\n",
       "    .dataframe thead tr:only-child th {\n",
       "        text-align: right;\n",
       "    }\n",
       "\n",
       "    .dataframe thead th {\n",
       "        text-align: left;\n",
       "    }\n",
       "\n",
       "    .dataframe tbody tr th {\n",
       "        vertical-align: top;\n",
       "    }\n",
       "</style>\n",
       "<table border=\"1\" class=\"dataframe\">\n",
       "  <thead>\n",
       "    <tr style=\"text-align: right;\">\n",
       "      <th></th>\n",
       "      <th>Ax_1</th>\n",
       "      <th>Ax_2</th>\n",
       "      <th>Ax_3</th>\n",
       "      <th>Ax_4</th>\n",
       "      <th>Ax_5</th>\n",
       "      <th>Ax_6</th>\n",
       "      <th>Ax_7</th>\n",
       "      <th>Ax_8</th>\n",
       "      <th>Ax_9</th>\n",
       "      <th>Ax_10</th>\n",
       "      <th>...</th>\n",
       "      <th>Gz_12</th>\n",
       "      <th>Gz_13</th>\n",
       "      <th>Gz_14</th>\n",
       "      <th>Gz_15</th>\n",
       "      <th>Gz_16</th>\n",
       "      <th>Gz_17</th>\n",
       "      <th>Gz_18</th>\n",
       "      <th>Gz_19</th>\n",
       "      <th>Gz_20</th>\n",
       "      <th>movement</th>\n",
       "    </tr>\n",
       "  </thead>\n",
       "  <tbody>\n",
       "    <tr>\n",
       "      <th>1.524893e+09</th>\n",
       "      <td>0.0</td>\n",
       "      <td>0.0</td>\n",
       "      <td>0.0</td>\n",
       "      <td>0.0</td>\n",
       "      <td>0.0</td>\n",
       "      <td>0.0</td>\n",
       "      <td>0.0</td>\n",
       "      <td>0.0</td>\n",
       "      <td>0.0</td>\n",
       "      <td>0.0</td>\n",
       "      <td>...</td>\n",
       "      <td>0.0</td>\n",
       "      <td>0.0</td>\n",
       "      <td>0.0</td>\n",
       "      <td>0.0</td>\n",
       "      <td>0.000000</td>\n",
       "      <td>0.000000</td>\n",
       "      <td>0.000000</td>\n",
       "      <td>0.000000</td>\n",
       "      <td>-22.458015</td>\n",
       "      <td>1</td>\n",
       "    </tr>\n",
       "    <tr>\n",
       "      <th>1.524893e+09</th>\n",
       "      <td>0.0</td>\n",
       "      <td>0.0</td>\n",
       "      <td>0.0</td>\n",
       "      <td>0.0</td>\n",
       "      <td>0.0</td>\n",
       "      <td>0.0</td>\n",
       "      <td>0.0</td>\n",
       "      <td>0.0</td>\n",
       "      <td>0.0</td>\n",
       "      <td>0.0</td>\n",
       "      <td>...</td>\n",
       "      <td>0.0</td>\n",
       "      <td>0.0</td>\n",
       "      <td>0.0</td>\n",
       "      <td>0.0</td>\n",
       "      <td>0.000000</td>\n",
       "      <td>0.000000</td>\n",
       "      <td>0.000000</td>\n",
       "      <td>-22.458015</td>\n",
       "      <td>-29.381679</td>\n",
       "      <td>1</td>\n",
       "    </tr>\n",
       "    <tr>\n",
       "      <th>1.524893e+09</th>\n",
       "      <td>0.0</td>\n",
       "      <td>0.0</td>\n",
       "      <td>0.0</td>\n",
       "      <td>0.0</td>\n",
       "      <td>0.0</td>\n",
       "      <td>0.0</td>\n",
       "      <td>0.0</td>\n",
       "      <td>0.0</td>\n",
       "      <td>0.0</td>\n",
       "      <td>0.0</td>\n",
       "      <td>...</td>\n",
       "      <td>0.0</td>\n",
       "      <td>0.0</td>\n",
       "      <td>0.0</td>\n",
       "      <td>0.0</td>\n",
       "      <td>0.000000</td>\n",
       "      <td>0.000000</td>\n",
       "      <td>-22.458015</td>\n",
       "      <td>-29.381679</td>\n",
       "      <td>-24.106870</td>\n",
       "      <td>1</td>\n",
       "    </tr>\n",
       "    <tr>\n",
       "      <th>1.524893e+09</th>\n",
       "      <td>0.0</td>\n",
       "      <td>0.0</td>\n",
       "      <td>0.0</td>\n",
       "      <td>0.0</td>\n",
       "      <td>0.0</td>\n",
       "      <td>0.0</td>\n",
       "      <td>0.0</td>\n",
       "      <td>0.0</td>\n",
       "      <td>0.0</td>\n",
       "      <td>0.0</td>\n",
       "      <td>...</td>\n",
       "      <td>0.0</td>\n",
       "      <td>0.0</td>\n",
       "      <td>0.0</td>\n",
       "      <td>0.0</td>\n",
       "      <td>0.000000</td>\n",
       "      <td>-22.458015</td>\n",
       "      <td>-29.381679</td>\n",
       "      <td>-24.106870</td>\n",
       "      <td>-14.061069</td>\n",
       "      <td>1</td>\n",
       "    </tr>\n",
       "    <tr>\n",
       "      <th>1.524893e+09</th>\n",
       "      <td>0.0</td>\n",
       "      <td>0.0</td>\n",
       "      <td>0.0</td>\n",
       "      <td>0.0</td>\n",
       "      <td>0.0</td>\n",
       "      <td>0.0</td>\n",
       "      <td>0.0</td>\n",
       "      <td>0.0</td>\n",
       "      <td>0.0</td>\n",
       "      <td>0.0</td>\n",
       "      <td>...</td>\n",
       "      <td>0.0</td>\n",
       "      <td>0.0</td>\n",
       "      <td>0.0</td>\n",
       "      <td>0.0</td>\n",
       "      <td>-22.458015</td>\n",
       "      <td>-29.381679</td>\n",
       "      <td>-24.106870</td>\n",
       "      <td>-14.061069</td>\n",
       "      <td>-1.458015</td>\n",
       "      <td>1</td>\n",
       "    </tr>\n",
       "  </tbody>\n",
       "</table>\n",
       "<p>5 rows × 121 columns</p>\n",
       "</div>"
      ],
      "text/plain": [
       "              Ax_1  Ax_2  Ax_3  Ax_4  Ax_5  Ax_6  Ax_7  Ax_8  Ax_9  Ax_10  \\\n",
       "1.524893e+09   0.0   0.0   0.0   0.0   0.0   0.0   0.0   0.0   0.0    0.0   \n",
       "1.524893e+09   0.0   0.0   0.0   0.0   0.0   0.0   0.0   0.0   0.0    0.0   \n",
       "1.524893e+09   0.0   0.0   0.0   0.0   0.0   0.0   0.0   0.0   0.0    0.0   \n",
       "1.524893e+09   0.0   0.0   0.0   0.0   0.0   0.0   0.0   0.0   0.0    0.0   \n",
       "1.524893e+09   0.0   0.0   0.0   0.0   0.0   0.0   0.0   0.0   0.0    0.0   \n",
       "\n",
       "                ...     Gz_12  Gz_13  Gz_14  Gz_15      Gz_16      Gz_17  \\\n",
       "1.524893e+09    ...       0.0    0.0    0.0    0.0   0.000000   0.000000   \n",
       "1.524893e+09    ...       0.0    0.0    0.0    0.0   0.000000   0.000000   \n",
       "1.524893e+09    ...       0.0    0.0    0.0    0.0   0.000000   0.000000   \n",
       "1.524893e+09    ...       0.0    0.0    0.0    0.0   0.000000 -22.458015   \n",
       "1.524893e+09    ...       0.0    0.0    0.0    0.0 -22.458015 -29.381679   \n",
       "\n",
       "                  Gz_18      Gz_19      Gz_20  movement  \n",
       "1.524893e+09   0.000000   0.000000 -22.458015         1  \n",
       "1.524893e+09   0.000000 -22.458015 -29.381679         1  \n",
       "1.524893e+09 -22.458015 -29.381679 -24.106870         1  \n",
       "1.524893e+09 -29.381679 -24.106870 -14.061069         1  \n",
       "1.524893e+09 -24.106870 -14.061069  -1.458015         1  \n",
       "\n",
       "[5 rows x 121 columns]"
      ]
     },
     "execution_count": 2,
     "metadata": {},
     "output_type": "execute_result"
    }
   ],
   "source": [
    "import pandas as pd\n",
    "import matplotlib.pyplot as plt\n",
    "%matplotlib inline\n",
    "header = [name + '_' + str(i) for name in ['Ax','Ay','Az','Gx','Gy','Gz'] for i in range(1,21)]+['movement']\n",
    "data = pd.read_csv('movements.csv', header=None, index_col=0, names=header)\n",
    "data.head()"
   ]
  },
  {
   "cell_type": "markdown",
   "metadata": {
    "slideshow": {
     "slide_type": "slide"
    }
   },
   "source": [
    "Assomiglia a:\n",
    "<img src=\"Features.png\">\n",
    "che è la forma corretta dei dati per essere \"digeriti\" da un algoritmo IA"
   ]
  },
  {
   "cell_type": "markdown",
   "metadata": {
    "slideshow": {
     "slide_type": "slide"
    }
   },
   "source": [
    "### Quindi....\n",
    "Quanti sono i campioni?"
   ]
  },
  {
   "cell_type": "code",
   "execution_count": 3,
   "metadata": {
    "slideshow": {
     "slide_type": "fragment"
    }
   },
   "outputs": [
    {
     "data": {
      "text/plain": [
       "751"
      ]
     },
     "execution_count": 3,
     "metadata": {},
     "output_type": "execute_result"
    }
   ],
   "source": [
    "len(data)"
   ]
  },
  {
   "cell_type": "markdown",
   "metadata": {
    "slideshow": {
     "slide_type": "fragment"
    }
   },
   "source": [
    "Ogni campione è marcato con il corrispettivo movimento nella colonna \"movement\".\n",
    "\n",
    "Quante sono le features?"
   ]
  },
  {
   "cell_type": "code",
   "execution_count": 8,
   "metadata": {
    "slideshow": {
     "slide_type": "fragment"
    }
   },
   "outputs": [
    {
     "data": {
      "text/plain": [
       "120"
      ]
     },
     "execution_count": 8,
     "metadata": {},
     "output_type": "execute_result"
    }
   ],
   "source": [
    "len(data.columns) - 1"
   ]
  },
  {
   "cell_type": "markdown",
   "metadata": {
    "slideshow": {
     "slide_type": "slide"
    }
   },
   "source": [
    "Estraiamo i nomi delle features:"
   ]
  },
  {
   "cell_type": "code",
   "execution_count": 19,
   "metadata": {
    "slideshow": {
     "slide_type": "fragment"
    }
   },
   "outputs": [
    {
     "name": "stdout",
     "output_type": "stream",
     "text": [
      "['Ax_1', 'Ax_2', 'Ax_3', 'Ax_4', 'Ax_5', 'Ax_6', 'Ax_7', 'Ax_8', 'Ax_9', 'Ax_10', 'Ax_11', 'Ax_12', 'Ax_13', 'Ax_14', 'Ax_15', 'Ax_16', 'Ax_17', 'Ax_18', 'Ax_19', 'Ax_20', 'Ay_1', 'Ay_2', 'Ay_3', 'Ay_4', 'Ay_5', 'Ay_6', 'Ay_7', 'Ay_8', 'Ay_9', 'Ay_10', 'Ay_11', 'Ay_12', 'Ay_13', 'Ay_14', 'Ay_15', 'Ay_16', 'Ay_17', 'Ay_18', 'Ay_19', 'Ay_20', 'Az_1', 'Az_2', 'Az_3', 'Az_4', 'Az_5', 'Az_6', 'Az_7', 'Az_8', 'Az_9', 'Az_10', 'Az_11', 'Az_12', 'Az_13', 'Az_14', 'Az_15', 'Az_16', 'Az_17', 'Az_18', 'Az_19', 'Az_20', 'Gx_1', 'Gx_2', 'Gx_3', 'Gx_4', 'Gx_5', 'Gx_6', 'Gx_7', 'Gx_8', 'Gx_9', 'Gx_10', 'Gx_11', 'Gx_12', 'Gx_13', 'Gx_14', 'Gx_15', 'Gx_16', 'Gx_17', 'Gx_18', 'Gx_19', 'Gx_20', 'Gy_1', 'Gy_2', 'Gy_3', 'Gy_4', 'Gy_5', 'Gy_6', 'Gy_7', 'Gy_8', 'Gy_9', 'Gy_10', 'Gy_11', 'Gy_12', 'Gy_13', 'Gy_14', 'Gy_15', 'Gy_16', 'Gy_17', 'Gy_18', 'Gy_19', 'Gy_20', 'Gz_1', 'Gz_2', 'Gz_3', 'Gz_4', 'Gz_5', 'Gz_6', 'Gz_7', 'Gz_8', 'Gz_9', 'Gz_10', 'Gz_11', 'Gz_12', 'Gz_13', 'Gz_14', 'Gz_15', 'Gz_16', 'Gz_17', 'Gz_18', 'Gz_19', 'Gz_20']\n"
     ]
    }
   ],
   "source": [
    "features = [col for col in data.columns.tolist() if col!='movement']\n",
    "print features"
   ]
  },
  {
   "cell_type": "markdown",
   "metadata": {
    "slideshow": {
     "slide_type": "slide"
    }
   },
   "source": [
    "Scombiamo a caso l'ordine dei campioni..."
   ]
  },
  {
   "cell_type": "code",
   "execution_count": 32,
   "metadata": {
    "slideshow": {
     "slide_type": "fragment"
    }
   },
   "outputs": [
    {
     "data": {
      "text/html": [
       "<div>\n",
       "<style>\n",
       "    .dataframe thead tr:only-child th {\n",
       "        text-align: right;\n",
       "    }\n",
       "\n",
       "    .dataframe thead th {\n",
       "        text-align: left;\n",
       "    }\n",
       "\n",
       "    .dataframe tbody tr th {\n",
       "        vertical-align: top;\n",
       "    }\n",
       "</style>\n",
       "<table border=\"1\" class=\"dataframe\">\n",
       "  <thead>\n",
       "    <tr style=\"text-align: right;\">\n",
       "      <th></th>\n",
       "      <th>Ax_1</th>\n",
       "      <th>Ax_2</th>\n",
       "      <th>Ax_3</th>\n",
       "      <th>Ax_4</th>\n",
       "      <th>Ax_5</th>\n",
       "      <th>Ax_6</th>\n",
       "      <th>Ax_7</th>\n",
       "      <th>Ax_8</th>\n",
       "      <th>Ax_9</th>\n",
       "      <th>Ax_10</th>\n",
       "      <th>...</th>\n",
       "      <th>Gz_12</th>\n",
       "      <th>Gz_13</th>\n",
       "      <th>Gz_14</th>\n",
       "      <th>Gz_15</th>\n",
       "      <th>Gz_16</th>\n",
       "      <th>Gz_17</th>\n",
       "      <th>Gz_18</th>\n",
       "      <th>Gz_19</th>\n",
       "      <th>Gz_20</th>\n",
       "      <th>movement</th>\n",
       "    </tr>\n",
       "  </thead>\n",
       "  <tbody>\n",
       "    <tr>\n",
       "      <th>1.524893e+09</th>\n",
       "      <td>1.529785</td>\n",
       "      <td>1.305908</td>\n",
       "      <td>0.923096</td>\n",
       "      <td>0.713379</td>\n",
       "      <td>0.473633</td>\n",
       "      <td>0.306641</td>\n",
       "      <td>0.081055</td>\n",
       "      <td>-0.125732</td>\n",
       "      <td>-0.159912</td>\n",
       "      <td>0.027588</td>\n",
       "      <td>...</td>\n",
       "      <td>38.213740</td>\n",
       "      <td>42.145038</td>\n",
       "      <td>43.786260</td>\n",
       "      <td>48.305344</td>\n",
       "      <td>49.503817</td>\n",
       "      <td>52.213740</td>\n",
       "      <td>44.480916</td>\n",
       "      <td>14.183206</td>\n",
       "      <td>-12.229008</td>\n",
       "      <td>3</td>\n",
       "    </tr>\n",
       "    <tr>\n",
       "      <th>1.524893e+09</th>\n",
       "      <td>0.000000</td>\n",
       "      <td>0.000000</td>\n",
       "      <td>0.000000</td>\n",
       "      <td>0.000000</td>\n",
       "      <td>0.997559</td>\n",
       "      <td>1.009277</td>\n",
       "      <td>1.000488</td>\n",
       "      <td>1.046631</td>\n",
       "      <td>1.133301</td>\n",
       "      <td>1.238770</td>\n",
       "      <td>...</td>\n",
       "      <td>-5.793893</td>\n",
       "      <td>-6.496183</td>\n",
       "      <td>-7.465649</td>\n",
       "      <td>-7.274809</td>\n",
       "      <td>-5.656489</td>\n",
       "      <td>-3.969466</td>\n",
       "      <td>-2.221374</td>\n",
       "      <td>-1.007634</td>\n",
       "      <td>-0.290076</td>\n",
       "      <td>5</td>\n",
       "    </tr>\n",
       "    <tr>\n",
       "      <th>1.524893e+09</th>\n",
       "      <td>-0.152588</td>\n",
       "      <td>0.059570</td>\n",
       "      <td>0.311279</td>\n",
       "      <td>0.433838</td>\n",
       "      <td>0.658936</td>\n",
       "      <td>0.864258</td>\n",
       "      <td>1.140137</td>\n",
       "      <td>1.550537</td>\n",
       "      <td>1.709961</td>\n",
       "      <td>1.562256</td>\n",
       "      <td>...</td>\n",
       "      <td>-10.396947</td>\n",
       "      <td>-18.427481</td>\n",
       "      <td>-26.572519</td>\n",
       "      <td>-34.847328</td>\n",
       "      <td>-43.374046</td>\n",
       "      <td>-44.076336</td>\n",
       "      <td>-41.297710</td>\n",
       "      <td>-35.648855</td>\n",
       "      <td>-31.229008</td>\n",
       "      <td>1</td>\n",
       "    </tr>\n",
       "    <tr>\n",
       "      <th>1.524893e+09</th>\n",
       "      <td>0.342041</td>\n",
       "      <td>0.152344</td>\n",
       "      <td>0.035400</td>\n",
       "      <td>-0.091309</td>\n",
       "      <td>-0.087891</td>\n",
       "      <td>0.081055</td>\n",
       "      <td>0.303955</td>\n",
       "      <td>0.513916</td>\n",
       "      <td>0.714600</td>\n",
       "      <td>0.921143</td>\n",
       "      <td>...</td>\n",
       "      <td>39.633588</td>\n",
       "      <td>35.809160</td>\n",
       "      <td>36.541985</td>\n",
       "      <td>33.167939</td>\n",
       "      <td>12.343511</td>\n",
       "      <td>-1.961832</td>\n",
       "      <td>-10.938931</td>\n",
       "      <td>-18.656489</td>\n",
       "      <td>-23.709924</td>\n",
       "      <td>1</td>\n",
       "    </tr>\n",
       "    <tr>\n",
       "      <th>1.524893e+09</th>\n",
       "      <td>0.691162</td>\n",
       "      <td>0.968506</td>\n",
       "      <td>1.103027</td>\n",
       "      <td>1.244385</td>\n",
       "      <td>1.395508</td>\n",
       "      <td>1.242432</td>\n",
       "      <td>0.862793</td>\n",
       "      <td>0.752441</td>\n",
       "      <td>0.509277</td>\n",
       "      <td>0.127197</td>\n",
       "      <td>...</td>\n",
       "      <td>9.541985</td>\n",
       "      <td>21.312977</td>\n",
       "      <td>31.541985</td>\n",
       "      <td>37.305344</td>\n",
       "      <td>39.206107</td>\n",
       "      <td>44.664122</td>\n",
       "      <td>43.610687</td>\n",
       "      <td>42.618321</td>\n",
       "      <td>33.419847</td>\n",
       "      <td>1</td>\n",
       "    </tr>\n",
       "    <tr>\n",
       "      <th>1.524893e+09</th>\n",
       "      <td>0.918945</td>\n",
       "      <td>0.624268</td>\n",
       "      <td>0.407959</td>\n",
       "      <td>0.202393</td>\n",
       "      <td>-0.019287</td>\n",
       "      <td>-0.115967</td>\n",
       "      <td>-0.002197</td>\n",
       "      <td>0.120605</td>\n",
       "      <td>0.335693</td>\n",
       "      <td>0.548096</td>\n",
       "      <td>...</td>\n",
       "      <td>40.847328</td>\n",
       "      <td>41.053435</td>\n",
       "      <td>41.412214</td>\n",
       "      <td>40.083969</td>\n",
       "      <td>26.229008</td>\n",
       "      <td>13.160305</td>\n",
       "      <td>-2.816794</td>\n",
       "      <td>-13.053435</td>\n",
       "      <td>-21.320611</td>\n",
       "      <td>1</td>\n",
       "    </tr>\n",
       "    <tr>\n",
       "      <th>1.524893e+09</th>\n",
       "      <td>1.999939</td>\n",
       "      <td>1.999939</td>\n",
       "      <td>1.988037</td>\n",
       "      <td>1.604248</td>\n",
       "      <td>1.273438</td>\n",
       "      <td>1.159424</td>\n",
       "      <td>1.280273</td>\n",
       "      <td>1.456543</td>\n",
       "      <td>1.594971</td>\n",
       "      <td>1.659668</td>\n",
       "      <td>...</td>\n",
       "      <td>-42.946565</td>\n",
       "      <td>-40.030534</td>\n",
       "      <td>-34.160305</td>\n",
       "      <td>-25.961832</td>\n",
       "      <td>-15.099237</td>\n",
       "      <td>-6.282443</td>\n",
       "      <td>2.045802</td>\n",
       "      <td>15.358779</td>\n",
       "      <td>23.862595</td>\n",
       "      <td>3</td>\n",
       "    </tr>\n",
       "    <tr>\n",
       "      <th>1.524893e+09</th>\n",
       "      <td>0.971924</td>\n",
       "      <td>1.016113</td>\n",
       "      <td>1.025879</td>\n",
       "      <td>1.061768</td>\n",
       "      <td>1.029297</td>\n",
       "      <td>1.125732</td>\n",
       "      <td>1.178711</td>\n",
       "      <td>1.202637</td>\n",
       "      <td>1.102783</td>\n",
       "      <td>1.057617</td>\n",
       "      <td>...</td>\n",
       "      <td>1.641221</td>\n",
       "      <td>1.389313</td>\n",
       "      <td>0.167939</td>\n",
       "      <td>-0.641221</td>\n",
       "      <td>-2.083969</td>\n",
       "      <td>-2.633588</td>\n",
       "      <td>-2.984733</td>\n",
       "      <td>-3.748092</td>\n",
       "      <td>-4.488550</td>\n",
       "      <td>5</td>\n",
       "    </tr>\n",
       "    <tr>\n",
       "      <th>1.524893e+09</th>\n",
       "      <td>1.190430</td>\n",
       "      <td>1.000244</td>\n",
       "      <td>0.942139</td>\n",
       "      <td>0.949707</td>\n",
       "      <td>1.032227</td>\n",
       "      <td>1.035889</td>\n",
       "      <td>1.137451</td>\n",
       "      <td>0.971436</td>\n",
       "      <td>0.849121</td>\n",
       "      <td>0.544678</td>\n",
       "      <td>...</td>\n",
       "      <td>-22.213740</td>\n",
       "      <td>-6.557252</td>\n",
       "      <td>5.809160</td>\n",
       "      <td>15.778626</td>\n",
       "      <td>26.419847</td>\n",
       "      <td>32.595420</td>\n",
       "      <td>35.374046</td>\n",
       "      <td>37.274809</td>\n",
       "      <td>39.854962</td>\n",
       "      <td>1</td>\n",
       "    </tr>\n",
       "    <tr>\n",
       "      <th>1.524893e+09</th>\n",
       "      <td>0.593262</td>\n",
       "      <td>0.836670</td>\n",
       "      <td>1.297607</td>\n",
       "      <td>1.813232</td>\n",
       "      <td>1.999939</td>\n",
       "      <td>1.999939</td>\n",
       "      <td>1.999939</td>\n",
       "      <td>1.770996</td>\n",
       "      <td>1.414795</td>\n",
       "      <td>1.145996</td>\n",
       "      <td>...</td>\n",
       "      <td>-23.755725</td>\n",
       "      <td>-26.068702</td>\n",
       "      <td>-31.732824</td>\n",
       "      <td>-38.412214</td>\n",
       "      <td>-39.099237</td>\n",
       "      <td>-43.732824</td>\n",
       "      <td>-44.916031</td>\n",
       "      <td>-39.641221</td>\n",
       "      <td>-34.030534</td>\n",
       "      <td>3</td>\n",
       "    </tr>\n",
       "  </tbody>\n",
       "</table>\n",
       "<p>10 rows × 121 columns</p>\n",
       "</div>"
      ],
      "text/plain": [
       "                  Ax_1      Ax_2      Ax_3      Ax_4      Ax_5      Ax_6  \\\n",
       "1.524893e+09  1.529785  1.305908  0.923096  0.713379  0.473633  0.306641   \n",
       "1.524893e+09  0.000000  0.000000  0.000000  0.000000  0.997559  1.009277   \n",
       "1.524893e+09 -0.152588  0.059570  0.311279  0.433838  0.658936  0.864258   \n",
       "1.524893e+09  0.342041  0.152344  0.035400 -0.091309 -0.087891  0.081055   \n",
       "1.524893e+09  0.691162  0.968506  1.103027  1.244385  1.395508  1.242432   \n",
       "1.524893e+09  0.918945  0.624268  0.407959  0.202393 -0.019287 -0.115967   \n",
       "1.524893e+09  1.999939  1.999939  1.988037  1.604248  1.273438  1.159424   \n",
       "1.524893e+09  0.971924  1.016113  1.025879  1.061768  1.029297  1.125732   \n",
       "1.524893e+09  1.190430  1.000244  0.942139  0.949707  1.032227  1.035889   \n",
       "1.524893e+09  0.593262  0.836670  1.297607  1.813232  1.999939  1.999939   \n",
       "\n",
       "                  Ax_7      Ax_8      Ax_9     Ax_10    ...         Gz_12  \\\n",
       "1.524893e+09  0.081055 -0.125732 -0.159912  0.027588    ...     38.213740   \n",
       "1.524893e+09  1.000488  1.046631  1.133301  1.238770    ...     -5.793893   \n",
       "1.524893e+09  1.140137  1.550537  1.709961  1.562256    ...    -10.396947   \n",
       "1.524893e+09  0.303955  0.513916  0.714600  0.921143    ...     39.633588   \n",
       "1.524893e+09  0.862793  0.752441  0.509277  0.127197    ...      9.541985   \n",
       "1.524893e+09 -0.002197  0.120605  0.335693  0.548096    ...     40.847328   \n",
       "1.524893e+09  1.280273  1.456543  1.594971  1.659668    ...    -42.946565   \n",
       "1.524893e+09  1.178711  1.202637  1.102783  1.057617    ...      1.641221   \n",
       "1.524893e+09  1.137451  0.971436  0.849121  0.544678    ...    -22.213740   \n",
       "1.524893e+09  1.999939  1.770996  1.414795  1.145996    ...    -23.755725   \n",
       "\n",
       "                  Gz_13      Gz_14      Gz_15      Gz_16      Gz_17  \\\n",
       "1.524893e+09  42.145038  43.786260  48.305344  49.503817  52.213740   \n",
       "1.524893e+09  -6.496183  -7.465649  -7.274809  -5.656489  -3.969466   \n",
       "1.524893e+09 -18.427481 -26.572519 -34.847328 -43.374046 -44.076336   \n",
       "1.524893e+09  35.809160  36.541985  33.167939  12.343511  -1.961832   \n",
       "1.524893e+09  21.312977  31.541985  37.305344  39.206107  44.664122   \n",
       "1.524893e+09  41.053435  41.412214  40.083969  26.229008  13.160305   \n",
       "1.524893e+09 -40.030534 -34.160305 -25.961832 -15.099237  -6.282443   \n",
       "1.524893e+09   1.389313   0.167939  -0.641221  -2.083969  -2.633588   \n",
       "1.524893e+09  -6.557252   5.809160  15.778626  26.419847  32.595420   \n",
       "1.524893e+09 -26.068702 -31.732824 -38.412214 -39.099237 -43.732824   \n",
       "\n",
       "                  Gz_18      Gz_19      Gz_20  movement  \n",
       "1.524893e+09  44.480916  14.183206 -12.229008         3  \n",
       "1.524893e+09  -2.221374  -1.007634  -0.290076         5  \n",
       "1.524893e+09 -41.297710 -35.648855 -31.229008         1  \n",
       "1.524893e+09 -10.938931 -18.656489 -23.709924         1  \n",
       "1.524893e+09  43.610687  42.618321  33.419847         1  \n",
       "1.524893e+09  -2.816794 -13.053435 -21.320611         1  \n",
       "1.524893e+09   2.045802  15.358779  23.862595         3  \n",
       "1.524893e+09  -2.984733  -3.748092  -4.488550         5  \n",
       "1.524893e+09  35.374046  37.274809  39.854962         1  \n",
       "1.524893e+09 -44.916031 -39.641221 -34.030534         3  \n",
       "\n",
       "[10 rows x 121 columns]"
      ]
     },
     "execution_count": 32,
     "metadata": {},
     "output_type": "execute_result"
    }
   ],
   "source": [
    "shuffled_data = data.sample(frac=1)\n",
    "shuffled_data.head(10)"
   ]
  },
  {
   "cell_type": "markdown",
   "metadata": {
    "slideshow": {
     "slide_type": "fragment"
    }
   },
   "source": [
    "** Ora proviamo a costruire un classificatore! **"
   ]
  },
  {
   "cell_type": "markdown",
   "metadata": {
    "slideshow": {
     "slide_type": "slide"
    }
   },
   "source": [
    "### Import delle librerie"
   ]
  },
  {
   "cell_type": "code",
   "execution_count": null,
   "metadata": {
    "slideshow": {
     "slide_type": "fragment"
    }
   },
   "outputs": [],
   "source": [
    "from sklearn.preprocessing import StandardScaler\n",
    "from sklearn import neighbors\n",
    "\n",
    "\n"
   ]
  },
  {
   "cell_type": "code",
   "execution_count": 42,
   "metadata": {},
   "outputs": [],
   "source": [
    "n_of_train_samples = 500\n",
    "train_data = shuffled_data.iloc[0:n_of_train_samples]\n",
    "test_data = shuffled_data.iloc[n_of_train_samples:len(shuffled_data)]"
   ]
  },
  {
   "cell_type": "code",
   "execution_count": null,
   "metadata": {},
   "outputs": [],
   "source": [
    "X_train = shuffled_data[features].values\n",
    "sc = StandardScaler()\n",
    "X_train_scaled = sc.fit_transform(X_train)"
   ]
  }
 ],
 "metadata": {
  "celltoolbar": "Slideshow",
  "kernelspec": {
   "display_name": "Python 2",
   "language": "python",
   "name": "python2"
  },
  "language_info": {
   "codemirror_mode": {
    "name": "ipython",
    "version": 2
   },
   "file_extension": ".py",
   "mimetype": "text/x-python",
   "name": "python",
   "nbconvert_exporter": "python",
   "pygments_lexer": "ipython2",
   "version": "2.7.13"
  }
 },
 "nbformat": 4,
 "nbformat_minor": 2
}
