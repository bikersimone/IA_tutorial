{
 "cells": [
  {
   "cell_type": "markdown",
   "metadata": {
    "slideshow": {
     "slide_type": "slide"
    }
   },
   "source": [
    "<img src=\"img\\cover.png\">"
   ]
  },
  {
   "cell_type": "markdown",
   "metadata": {
    "slideshow": {
     "slide_type": "slide"
    }
   },
   "source": [
    "# LEZIONE 2\n",
    "\n",
    "\n",
    "4 Giugno 2018"
   ]
  },
  {
   "cell_type": "markdown",
   "metadata": {
    "slideshow": {
     "slide_type": "slide"
    }
   },
   "source": [
    "### La libreria Scikit-Learn\n",
    "<img src=\"img/scikit-learn-logo-small.png\">\n",
    "The scikit-learn project started as scikits.learn, a Google Summer of Code project by David Cournapeau. Its name stems from the notion that it is a \"SciKit\" (SciPy Toolkit), a separately-developed and distributed third-party extension to SciPy. The original codebase was later rewritten by other developers. In 2010 Fabian Pedregosa, Gael Varoquaux, Alexandre Gramfort and Vincent Michel, all from INRIA took leadership of the project and made the first public release on February the 1st 2010. Of the various scikits, scikit-learn as well as scikit-image were described as \"well-maintained and popular\" in November 2012.\n",
    "\n",
    "As of 2018, scikit-learn is under active development.\n",
    "\n",
    "Scikit-learn is a free software machine learning library for the Python programming language. It features various classification, regression and clustering algorithms including support vector machines, random forests, gradient boosting, k-means and DBSCAN, and is designed to interoperate with the Python numerical and scientific libraries NumPy and SciPy.\n",
    "\n",
    "http://scikit-learn.org/stable/index.html"
   ]
  },
  {
   "cell_type": "markdown",
   "metadata": {
    "slideshow": {
     "slide_type": "slide"
    }
   },
   "source": [
    "### Definizioni\n",
    "\n",
    "In general, a learning problem considers a set of n samples of data and then tries to predict properties of unknown data. If each sample is more than a single number and, for instance, a multi-dimensional entry (aka multivariate data), it is said to have several attributes or features.\n",
    "\n",
    "Supervised learning: in which the data comes with additional attributes that we want to predict This problem can be either:\n",
    "\n",
    "* classification: samples belong to two or more classes and we want to learn from already labeled data how to predict the class of unlabeled data. An example of classification problem would be the handwritten digit recognition example, in which the aim is to assign each input vector to one of a finite number of discrete categories. Another way to think of classification is as a discrete (as opposed to continuous) form of supervised learning where one has a limited number of categories and for each of the n samples provided, one is to try to label them with the correct category or class.\n",
    "* regression: if the desired output consists of one or more continuous variables, then the task is called regression. An example of a regression problem would be the prediction of the length of a salmon as a function of its age and weight.\n",
    "\n"
   ]
  },
  {
   "cell_type": "markdown",
   "metadata": {
    "slideshow": {
     "slide_type": "subslide"
    }
   },
   "source": [
    "#### Training set and testing set\n",
    "\n",
    "Machine learning is about learning some properties of a data set and applying them to new data. This is why a common practice in machine learning to evaluate an algorithm is to split the data at hand into two sets, one that we call the training set on which we learn data properties and one that we call the testing set on which we test these properties."
   ]
  },
  {
   "cell_type": "markdown",
   "metadata": {
    "slideshow": {
     "slide_type": "slide"
    }
   },
   "source": [
    "<img src=\"img/ml_map.png\">\n",
    "\n",
    "http://scikit-learn.org/stable/tutorial/machine_learning_map/index.html"
   ]
  },
  {
   "cell_type": "markdown",
   "metadata": {
    "slideshow": {
     "slide_type": "slide"
    }
   },
   "source": [
    "### Mini tutorial...\n",
    "\n",
    "\n",
    "\n",
    "http://scikit-learn.org/stable/tutorial/basic/tutorial.html"
   ]
  },
  {
   "cell_type": "code",
   "execution_count": 1,
   "metadata": {
    "slideshow": {
     "slide_type": "slide"
    }
   },
   "outputs": [
    {
     "data": {
      "text/html": [
       "<div>\n",
       "<style>\n",
       "    .dataframe thead tr:only-child th {\n",
       "        text-align: right;\n",
       "    }\n",
       "\n",
       "    .dataframe thead th {\n",
       "        text-align: left;\n",
       "    }\n",
       "\n",
       "    .dataframe tbody tr th {\n",
       "        vertical-align: top;\n",
       "    }\n",
       "</style>\n",
       "<table border=\"1\" class=\"dataframe\">\n",
       "  <thead>\n",
       "    <tr style=\"text-align: right;\">\n",
       "      <th></th>\n",
       "      <th>Ax_1</th>\n",
       "      <th>Ax_2</th>\n",
       "      <th>Ax_3</th>\n",
       "      <th>Ax_4</th>\n",
       "      <th>Ax_5</th>\n",
       "      <th>Ax_6</th>\n",
       "      <th>Ax_7</th>\n",
       "      <th>Ax_8</th>\n",
       "      <th>Ax_9</th>\n",
       "      <th>Ax_10</th>\n",
       "      <th>...</th>\n",
       "      <th>Gz_12</th>\n",
       "      <th>Gz_13</th>\n",
       "      <th>Gz_14</th>\n",
       "      <th>Gz_15</th>\n",
       "      <th>Gz_16</th>\n",
       "      <th>Gz_17</th>\n",
       "      <th>Gz_18</th>\n",
       "      <th>Gz_19</th>\n",
       "      <th>Gz_20</th>\n",
       "      <th>movement</th>\n",
       "    </tr>\n",
       "  </thead>\n",
       "  <tbody>\n",
       "    <tr>\n",
       "      <th>1.524893e+09</th>\n",
       "      <td>0.0</td>\n",
       "      <td>0.0</td>\n",
       "      <td>0.0</td>\n",
       "      <td>0.0</td>\n",
       "      <td>0.0</td>\n",
       "      <td>0.0</td>\n",
       "      <td>0.0</td>\n",
       "      <td>0.0</td>\n",
       "      <td>0.0</td>\n",
       "      <td>0.0</td>\n",
       "      <td>...</td>\n",
       "      <td>0.0</td>\n",
       "      <td>0.0</td>\n",
       "      <td>0.0</td>\n",
       "      <td>0.0</td>\n",
       "      <td>0.000000</td>\n",
       "      <td>0.000000</td>\n",
       "      <td>0.000000</td>\n",
       "      <td>0.000000</td>\n",
       "      <td>-22.458015</td>\n",
       "      <td>1</td>\n",
       "    </tr>\n",
       "    <tr>\n",
       "      <th>1.524893e+09</th>\n",
       "      <td>0.0</td>\n",
       "      <td>0.0</td>\n",
       "      <td>0.0</td>\n",
       "      <td>0.0</td>\n",
       "      <td>0.0</td>\n",
       "      <td>0.0</td>\n",
       "      <td>0.0</td>\n",
       "      <td>0.0</td>\n",
       "      <td>0.0</td>\n",
       "      <td>0.0</td>\n",
       "      <td>...</td>\n",
       "      <td>0.0</td>\n",
       "      <td>0.0</td>\n",
       "      <td>0.0</td>\n",
       "      <td>0.0</td>\n",
       "      <td>0.000000</td>\n",
       "      <td>0.000000</td>\n",
       "      <td>0.000000</td>\n",
       "      <td>-22.458015</td>\n",
       "      <td>-29.381679</td>\n",
       "      <td>1</td>\n",
       "    </tr>\n",
       "    <tr>\n",
       "      <th>1.524893e+09</th>\n",
       "      <td>0.0</td>\n",
       "      <td>0.0</td>\n",
       "      <td>0.0</td>\n",
       "      <td>0.0</td>\n",
       "      <td>0.0</td>\n",
       "      <td>0.0</td>\n",
       "      <td>0.0</td>\n",
       "      <td>0.0</td>\n",
       "      <td>0.0</td>\n",
       "      <td>0.0</td>\n",
       "      <td>...</td>\n",
       "      <td>0.0</td>\n",
       "      <td>0.0</td>\n",
       "      <td>0.0</td>\n",
       "      <td>0.0</td>\n",
       "      <td>0.000000</td>\n",
       "      <td>0.000000</td>\n",
       "      <td>-22.458015</td>\n",
       "      <td>-29.381679</td>\n",
       "      <td>-24.106870</td>\n",
       "      <td>1</td>\n",
       "    </tr>\n",
       "    <tr>\n",
       "      <th>1.524893e+09</th>\n",
       "      <td>0.0</td>\n",
       "      <td>0.0</td>\n",
       "      <td>0.0</td>\n",
       "      <td>0.0</td>\n",
       "      <td>0.0</td>\n",
       "      <td>0.0</td>\n",
       "      <td>0.0</td>\n",
       "      <td>0.0</td>\n",
       "      <td>0.0</td>\n",
       "      <td>0.0</td>\n",
       "      <td>...</td>\n",
       "      <td>0.0</td>\n",
       "      <td>0.0</td>\n",
       "      <td>0.0</td>\n",
       "      <td>0.0</td>\n",
       "      <td>0.000000</td>\n",
       "      <td>-22.458015</td>\n",
       "      <td>-29.381679</td>\n",
       "      <td>-24.106870</td>\n",
       "      <td>-14.061069</td>\n",
       "      <td>1</td>\n",
       "    </tr>\n",
       "    <tr>\n",
       "      <th>1.524893e+09</th>\n",
       "      <td>0.0</td>\n",
       "      <td>0.0</td>\n",
       "      <td>0.0</td>\n",
       "      <td>0.0</td>\n",
       "      <td>0.0</td>\n",
       "      <td>0.0</td>\n",
       "      <td>0.0</td>\n",
       "      <td>0.0</td>\n",
       "      <td>0.0</td>\n",
       "      <td>0.0</td>\n",
       "      <td>...</td>\n",
       "      <td>0.0</td>\n",
       "      <td>0.0</td>\n",
       "      <td>0.0</td>\n",
       "      <td>0.0</td>\n",
       "      <td>-22.458015</td>\n",
       "      <td>-29.381679</td>\n",
       "      <td>-24.106870</td>\n",
       "      <td>-14.061069</td>\n",
       "      <td>-1.458015</td>\n",
       "      <td>1</td>\n",
       "    </tr>\n",
       "  </tbody>\n",
       "</table>\n",
       "<p>5 rows × 121 columns</p>\n",
       "</div>"
      ],
      "text/plain": [
       "              Ax_1  Ax_2  Ax_3  Ax_4  Ax_5  Ax_6  Ax_7  Ax_8  Ax_9  Ax_10  \\\n",
       "1.524893e+09   0.0   0.0   0.0   0.0   0.0   0.0   0.0   0.0   0.0    0.0   \n",
       "1.524893e+09   0.0   0.0   0.0   0.0   0.0   0.0   0.0   0.0   0.0    0.0   \n",
       "1.524893e+09   0.0   0.0   0.0   0.0   0.0   0.0   0.0   0.0   0.0    0.0   \n",
       "1.524893e+09   0.0   0.0   0.0   0.0   0.0   0.0   0.0   0.0   0.0    0.0   \n",
       "1.524893e+09   0.0   0.0   0.0   0.0   0.0   0.0   0.0   0.0   0.0    0.0   \n",
       "\n",
       "                ...     Gz_12  Gz_13  Gz_14  Gz_15      Gz_16      Gz_17  \\\n",
       "1.524893e+09    ...       0.0    0.0    0.0    0.0   0.000000   0.000000   \n",
       "1.524893e+09    ...       0.0    0.0    0.0    0.0   0.000000   0.000000   \n",
       "1.524893e+09    ...       0.0    0.0    0.0    0.0   0.000000   0.000000   \n",
       "1.524893e+09    ...       0.0    0.0    0.0    0.0   0.000000 -22.458015   \n",
       "1.524893e+09    ...       0.0    0.0    0.0    0.0 -22.458015 -29.381679   \n",
       "\n",
       "                  Gz_18      Gz_19      Gz_20  movement  \n",
       "1.524893e+09   0.000000   0.000000 -22.458015         1  \n",
       "1.524893e+09   0.000000 -22.458015 -29.381679         1  \n",
       "1.524893e+09 -22.458015 -29.381679 -24.106870         1  \n",
       "1.524893e+09 -29.381679 -24.106870 -14.061069         1  \n",
       "1.524893e+09 -24.106870 -14.061069  -1.458015         1  \n",
       "\n",
       "[5 rows x 121 columns]"
      ]
     },
     "execution_count": 1,
     "metadata": {},
     "output_type": "execute_result"
    }
   ],
   "source": [
    "import pandas as pd\n",
    "import matplotlib.pyplot as plt\n",
    "%matplotlib inline\n",
    "header = [name + '_' + str(i) for name in ['Ax','Ay','Az','Gx','Gy','Gz'] for i in range(1,21)]+['movement']\n",
    "data = pd.read_csv('movements.csv', header=None, index_col=0, names=header)\n",
    "data.head()"
   ]
  },
  {
   "cell_type": "markdown",
   "metadata": {
    "slideshow": {
     "slide_type": "slide"
    }
   },
   "source": [
    "Assomiglia a:\n",
    "<img src=\"img/Features.png\">\n",
    "che è la forma corretta dei dati per essere \"digeriti\" da un algoritmo IA"
   ]
  },
  {
   "cell_type": "markdown",
   "metadata": {
    "slideshow": {
     "slide_type": "slide"
    }
   },
   "source": [
    "### Quindi....\n",
    "Quanti sono i campioni?"
   ]
  },
  {
   "cell_type": "code",
   "execution_count": 2,
   "metadata": {
    "slideshow": {
     "slide_type": "fragment"
    }
   },
   "outputs": [
    {
     "data": {
      "text/plain": [
       "751"
      ]
     },
     "execution_count": 2,
     "metadata": {},
     "output_type": "execute_result"
    }
   ],
   "source": [
    "len(data)"
   ]
  },
  {
   "cell_type": "markdown",
   "metadata": {
    "slideshow": {
     "slide_type": "fragment"
    }
   },
   "source": [
    "Ogni campione è marcato con il corrispettivo movimento nella colonna \"movement\".\n",
    "\n",
    "Quante sono le features?"
   ]
  },
  {
   "cell_type": "code",
   "execution_count": 3,
   "metadata": {
    "slideshow": {
     "slide_type": "fragment"
    }
   },
   "outputs": [
    {
     "data": {
      "text/plain": [
       "120"
      ]
     },
     "execution_count": 3,
     "metadata": {},
     "output_type": "execute_result"
    }
   ],
   "source": [
    "len(data.columns) - 1"
   ]
  },
  {
   "cell_type": "markdown",
   "metadata": {
    "slideshow": {
     "slide_type": "slide"
    }
   },
   "source": [
    "### Seguendo il flowchart\n",
    "\n",
    "...KNeighbors Classifier!"
   ]
  },
  {
   "cell_type": "markdown",
   "metadata": {
    "slideshow": {
     "slide_type": "fragment"
    }
   },
   "source": [
    "Il principio dietro tutti gli algortimi a \"primi vicini\" è di trovare un numero predefinito di training sample vicini al nuovo campione che si vuole classificare. Il numero predefinito di campioni può essere una costante definita dall'utente (k-nearest neighbor leraning) oppure variare in base alla densità dei campioni (radius-based neighbor learning).\n",
    "\n",
    "I classificatori a primi vicini sono di tipo *instance-based learning* o *non-generalizing learning* perchè non costruiscono alcun modello interno dei dati, ma semplicemente memorizzano le istance dei campioni di training.\n",
    "\n",
    "La classificazione è semplicemente calcolata tramite una votazione del primo vicino di ciascun punto."
   ]
  },
  {
   "cell_type": "markdown",
   "metadata": {
    "slideshow": {
     "slide_type": "slide"
    }
   },
   "source": [
    "### Esempio Iris con solo due features\n",
    "\n",
    "<img src=\"img/iris.jpg\">\n",
    "\n",
    "Il dataset Iris è un dataset multivariato introdotto da Ronald Fisher nel 1936. Consiste in 150 istanze di Iris misurate da Edgar Anderson e classificate secondo tre specie: Iris setosa, Iris virginica e Iris versicolor. Le quattro variabili considerate sono la lunghezza e la larghezza del sepalo e del petalo."
   ]
  },
  {
   "cell_type": "code",
   "execution_count": 4,
   "metadata": {
    "slideshow": {
     "slide_type": "slide"
    }
   },
   "outputs": [],
   "source": [
    "import numpy as np\n",
    "import matplotlib.pyplot as plt\n",
    "from matplotlib.colors import ListedColormap\n",
    "from sklearn import neighbors, datasets"
   ]
  },
  {
   "cell_type": "code",
   "execution_count": 5,
   "metadata": {
    "slideshow": {
     "slide_type": "subslide"
    }
   },
   "outputs": [],
   "source": [
    "n_neighbors = 15\n",
    "h = .02  # step size in the mesh\n",
    "cmap_light = ListedColormap(['#FFAAAA', '#AAFFAA', '#AAAAFF'])\n",
    "cmap_bold = ListedColormap(['#FF0000', '#00FF00', '#0000FF'])\n",
    "\n",
    "iris = datasets.load_iris()"
   ]
  },
  {
   "cell_type": "code",
   "execution_count": 6,
   "metadata": {
    "scrolled": true,
    "slideshow": {
     "slide_type": "subslide"
    }
   },
   "outputs": [
    {
     "data": {
      "text/plain": [
       "{'DESCR': 'Iris Plants Database\\n====================\\n\\nNotes\\n-----\\nData Set Characteristics:\\n    :Number of Instances: 150 (50 in each of three classes)\\n    :Number of Attributes: 4 numeric, predictive attributes and the class\\n    :Attribute Information:\\n        - sepal length in cm\\n        - sepal width in cm\\n        - petal length in cm\\n        - petal width in cm\\n        - class:\\n                - Iris-Setosa\\n                - Iris-Versicolour\\n                - Iris-Virginica\\n    :Summary Statistics:\\n\\n    ============== ==== ==== ======= ===== ====================\\n                    Min  Max   Mean    SD   Class Correlation\\n    ============== ==== ==== ======= ===== ====================\\n    sepal length:   4.3  7.9   5.84   0.83    0.7826\\n    sepal width:    2.0  4.4   3.05   0.43   -0.4194\\n    petal length:   1.0  6.9   3.76   1.76    0.9490  (high!)\\n    petal width:    0.1  2.5   1.20  0.76     0.9565  (high!)\\n    ============== ==== ==== ======= ===== ====================\\n\\n    :Missing Attribute Values: None\\n    :Class Distribution: 33.3% for each of 3 classes.\\n    :Creator: R.A. Fisher\\n    :Donor: Michael Marshall (MARSHALL%PLU@io.arc.nasa.gov)\\n    :Date: July, 1988\\n\\nThis is a copy of UCI ML iris datasets.\\nhttp://archive.ics.uci.edu/ml/datasets/Iris\\n\\nThe famous Iris database, first used by Sir R.A Fisher\\n\\nThis is perhaps the best known database to be found in the\\npattern recognition literature.  Fisher\\'s paper is a classic in the field and\\nis referenced frequently to this day.  (See Duda & Hart, for example.)  The\\ndata set contains 3 classes of 50 instances each, where each class refers to a\\ntype of iris plant.  One class is linearly separable from the other 2; the\\nlatter are NOT linearly separable from each other.\\n\\nReferences\\n----------\\n   - Fisher,R.A. \"The use of multiple measurements in taxonomic problems\"\\n     Annual Eugenics, 7, Part II, 179-188 (1936); also in \"Contributions to\\n     Mathematical Statistics\" (John Wiley, NY, 1950).\\n   - Duda,R.O., & Hart,P.E. (1973) Pattern Classification and Scene Analysis.\\n     (Q327.D83) John Wiley & Sons.  ISBN 0-471-22361-1.  See page 218.\\n   - Dasarathy, B.V. (1980) \"Nosing Around the Neighborhood: A New System\\n     Structure and Classification Rule for Recognition in Partially Exposed\\n     Environments\".  IEEE Transactions on Pattern Analysis and Machine\\n     Intelligence, Vol. PAMI-2, No. 1, 67-71.\\n   - Gates, G.W. (1972) \"The Reduced Nearest Neighbor Rule\".  IEEE Transactions\\n     on Information Theory, May 1972, 431-433.\\n   - See also: 1988 MLC Proceedings, 54-64.  Cheeseman et al\"s AUTOCLASS II\\n     conceptual clustering system finds 3 classes in the data.\\n   - Many, many more ...\\n',\n",
       " 'data': array([[ 5.1,  3.5,  1.4,  0.2],\n",
       "        [ 4.9,  3. ,  1.4,  0.2],\n",
       "        [ 4.7,  3.2,  1.3,  0.2],\n",
       "        [ 4.6,  3.1,  1.5,  0.2],\n",
       "        [ 5. ,  3.6,  1.4,  0.2],\n",
       "        [ 5.4,  3.9,  1.7,  0.4],\n",
       "        [ 4.6,  3.4,  1.4,  0.3],\n",
       "        [ 5. ,  3.4,  1.5,  0.2],\n",
       "        [ 4.4,  2.9,  1.4,  0.2],\n",
       "        [ 4.9,  3.1,  1.5,  0.1],\n",
       "        [ 5.4,  3.7,  1.5,  0.2],\n",
       "        [ 4.8,  3.4,  1.6,  0.2],\n",
       "        [ 4.8,  3. ,  1.4,  0.1],\n",
       "        [ 4.3,  3. ,  1.1,  0.1],\n",
       "        [ 5.8,  4. ,  1.2,  0.2],\n",
       "        [ 5.7,  4.4,  1.5,  0.4],\n",
       "        [ 5.4,  3.9,  1.3,  0.4],\n",
       "        [ 5.1,  3.5,  1.4,  0.3],\n",
       "        [ 5.7,  3.8,  1.7,  0.3],\n",
       "        [ 5.1,  3.8,  1.5,  0.3],\n",
       "        [ 5.4,  3.4,  1.7,  0.2],\n",
       "        [ 5.1,  3.7,  1.5,  0.4],\n",
       "        [ 4.6,  3.6,  1. ,  0.2],\n",
       "        [ 5.1,  3.3,  1.7,  0.5],\n",
       "        [ 4.8,  3.4,  1.9,  0.2],\n",
       "        [ 5. ,  3. ,  1.6,  0.2],\n",
       "        [ 5. ,  3.4,  1.6,  0.4],\n",
       "        [ 5.2,  3.5,  1.5,  0.2],\n",
       "        [ 5.2,  3.4,  1.4,  0.2],\n",
       "        [ 4.7,  3.2,  1.6,  0.2],\n",
       "        [ 4.8,  3.1,  1.6,  0.2],\n",
       "        [ 5.4,  3.4,  1.5,  0.4],\n",
       "        [ 5.2,  4.1,  1.5,  0.1],\n",
       "        [ 5.5,  4.2,  1.4,  0.2],\n",
       "        [ 4.9,  3.1,  1.5,  0.1],\n",
       "        [ 5. ,  3.2,  1.2,  0.2],\n",
       "        [ 5.5,  3.5,  1.3,  0.2],\n",
       "        [ 4.9,  3.1,  1.5,  0.1],\n",
       "        [ 4.4,  3. ,  1.3,  0.2],\n",
       "        [ 5.1,  3.4,  1.5,  0.2],\n",
       "        [ 5. ,  3.5,  1.3,  0.3],\n",
       "        [ 4.5,  2.3,  1.3,  0.3],\n",
       "        [ 4.4,  3.2,  1.3,  0.2],\n",
       "        [ 5. ,  3.5,  1.6,  0.6],\n",
       "        [ 5.1,  3.8,  1.9,  0.4],\n",
       "        [ 4.8,  3. ,  1.4,  0.3],\n",
       "        [ 5.1,  3.8,  1.6,  0.2],\n",
       "        [ 4.6,  3.2,  1.4,  0.2],\n",
       "        [ 5.3,  3.7,  1.5,  0.2],\n",
       "        [ 5. ,  3.3,  1.4,  0.2],\n",
       "        [ 7. ,  3.2,  4.7,  1.4],\n",
       "        [ 6.4,  3.2,  4.5,  1.5],\n",
       "        [ 6.9,  3.1,  4.9,  1.5],\n",
       "        [ 5.5,  2.3,  4. ,  1.3],\n",
       "        [ 6.5,  2.8,  4.6,  1.5],\n",
       "        [ 5.7,  2.8,  4.5,  1.3],\n",
       "        [ 6.3,  3.3,  4.7,  1.6],\n",
       "        [ 4.9,  2.4,  3.3,  1. ],\n",
       "        [ 6.6,  2.9,  4.6,  1.3],\n",
       "        [ 5.2,  2.7,  3.9,  1.4],\n",
       "        [ 5. ,  2. ,  3.5,  1. ],\n",
       "        [ 5.9,  3. ,  4.2,  1.5],\n",
       "        [ 6. ,  2.2,  4. ,  1. ],\n",
       "        [ 6.1,  2.9,  4.7,  1.4],\n",
       "        [ 5.6,  2.9,  3.6,  1.3],\n",
       "        [ 6.7,  3.1,  4.4,  1.4],\n",
       "        [ 5.6,  3. ,  4.5,  1.5],\n",
       "        [ 5.8,  2.7,  4.1,  1. ],\n",
       "        [ 6.2,  2.2,  4.5,  1.5],\n",
       "        [ 5.6,  2.5,  3.9,  1.1],\n",
       "        [ 5.9,  3.2,  4.8,  1.8],\n",
       "        [ 6.1,  2.8,  4. ,  1.3],\n",
       "        [ 6.3,  2.5,  4.9,  1.5],\n",
       "        [ 6.1,  2.8,  4.7,  1.2],\n",
       "        [ 6.4,  2.9,  4.3,  1.3],\n",
       "        [ 6.6,  3. ,  4.4,  1.4],\n",
       "        [ 6.8,  2.8,  4.8,  1.4],\n",
       "        [ 6.7,  3. ,  5. ,  1.7],\n",
       "        [ 6. ,  2.9,  4.5,  1.5],\n",
       "        [ 5.7,  2.6,  3.5,  1. ],\n",
       "        [ 5.5,  2.4,  3.8,  1.1],\n",
       "        [ 5.5,  2.4,  3.7,  1. ],\n",
       "        [ 5.8,  2.7,  3.9,  1.2],\n",
       "        [ 6. ,  2.7,  5.1,  1.6],\n",
       "        [ 5.4,  3. ,  4.5,  1.5],\n",
       "        [ 6. ,  3.4,  4.5,  1.6],\n",
       "        [ 6.7,  3.1,  4.7,  1.5],\n",
       "        [ 6.3,  2.3,  4.4,  1.3],\n",
       "        [ 5.6,  3. ,  4.1,  1.3],\n",
       "        [ 5.5,  2.5,  4. ,  1.3],\n",
       "        [ 5.5,  2.6,  4.4,  1.2],\n",
       "        [ 6.1,  3. ,  4.6,  1.4],\n",
       "        [ 5.8,  2.6,  4. ,  1.2],\n",
       "        [ 5. ,  2.3,  3.3,  1. ],\n",
       "        [ 5.6,  2.7,  4.2,  1.3],\n",
       "        [ 5.7,  3. ,  4.2,  1.2],\n",
       "        [ 5.7,  2.9,  4.2,  1.3],\n",
       "        [ 6.2,  2.9,  4.3,  1.3],\n",
       "        [ 5.1,  2.5,  3. ,  1.1],\n",
       "        [ 5.7,  2.8,  4.1,  1.3],\n",
       "        [ 6.3,  3.3,  6. ,  2.5],\n",
       "        [ 5.8,  2.7,  5.1,  1.9],\n",
       "        [ 7.1,  3. ,  5.9,  2.1],\n",
       "        [ 6.3,  2.9,  5.6,  1.8],\n",
       "        [ 6.5,  3. ,  5.8,  2.2],\n",
       "        [ 7.6,  3. ,  6.6,  2.1],\n",
       "        [ 4.9,  2.5,  4.5,  1.7],\n",
       "        [ 7.3,  2.9,  6.3,  1.8],\n",
       "        [ 6.7,  2.5,  5.8,  1.8],\n",
       "        [ 7.2,  3.6,  6.1,  2.5],\n",
       "        [ 6.5,  3.2,  5.1,  2. ],\n",
       "        [ 6.4,  2.7,  5.3,  1.9],\n",
       "        [ 6.8,  3. ,  5.5,  2.1],\n",
       "        [ 5.7,  2.5,  5. ,  2. ],\n",
       "        [ 5.8,  2.8,  5.1,  2.4],\n",
       "        [ 6.4,  3.2,  5.3,  2.3],\n",
       "        [ 6.5,  3. ,  5.5,  1.8],\n",
       "        [ 7.7,  3.8,  6.7,  2.2],\n",
       "        [ 7.7,  2.6,  6.9,  2.3],\n",
       "        [ 6. ,  2.2,  5. ,  1.5],\n",
       "        [ 6.9,  3.2,  5.7,  2.3],\n",
       "        [ 5.6,  2.8,  4.9,  2. ],\n",
       "        [ 7.7,  2.8,  6.7,  2. ],\n",
       "        [ 6.3,  2.7,  4.9,  1.8],\n",
       "        [ 6.7,  3.3,  5.7,  2.1],\n",
       "        [ 7.2,  3.2,  6. ,  1.8],\n",
       "        [ 6.2,  2.8,  4.8,  1.8],\n",
       "        [ 6.1,  3. ,  4.9,  1.8],\n",
       "        [ 6.4,  2.8,  5.6,  2.1],\n",
       "        [ 7.2,  3. ,  5.8,  1.6],\n",
       "        [ 7.4,  2.8,  6.1,  1.9],\n",
       "        [ 7.9,  3.8,  6.4,  2. ],\n",
       "        [ 6.4,  2.8,  5.6,  2.2],\n",
       "        [ 6.3,  2.8,  5.1,  1.5],\n",
       "        [ 6.1,  2.6,  5.6,  1.4],\n",
       "        [ 7.7,  3. ,  6.1,  2.3],\n",
       "        [ 6.3,  3.4,  5.6,  2.4],\n",
       "        [ 6.4,  3.1,  5.5,  1.8],\n",
       "        [ 6. ,  3. ,  4.8,  1.8],\n",
       "        [ 6.9,  3.1,  5.4,  2.1],\n",
       "        [ 6.7,  3.1,  5.6,  2.4],\n",
       "        [ 6.9,  3.1,  5.1,  2.3],\n",
       "        [ 5.8,  2.7,  5.1,  1.9],\n",
       "        [ 6.8,  3.2,  5.9,  2.3],\n",
       "        [ 6.7,  3.3,  5.7,  2.5],\n",
       "        [ 6.7,  3. ,  5.2,  2.3],\n",
       "        [ 6.3,  2.5,  5. ,  1.9],\n",
       "        [ 6.5,  3. ,  5.2,  2. ],\n",
       "        [ 6.2,  3.4,  5.4,  2.3],\n",
       "        [ 5.9,  3. ,  5.1,  1.8]]),\n",
       " 'feature_names': ['sepal length (cm)',\n",
       "  'sepal width (cm)',\n",
       "  'petal length (cm)',\n",
       "  'petal width (cm)'],\n",
       " 'target': array([0, 0, 0, 0, 0, 0, 0, 0, 0, 0, 0, 0, 0, 0, 0, 0, 0, 0, 0, 0, 0, 0, 0,\n",
       "        0, 0, 0, 0, 0, 0, 0, 0, 0, 0, 0, 0, 0, 0, 0, 0, 0, 0, 0, 0, 0, 0, 0,\n",
       "        0, 0, 0, 0, 1, 1, 1, 1, 1, 1, 1, 1, 1, 1, 1, 1, 1, 1, 1, 1, 1, 1, 1,\n",
       "        1, 1, 1, 1, 1, 1, 1, 1, 1, 1, 1, 1, 1, 1, 1, 1, 1, 1, 1, 1, 1, 1, 1,\n",
       "        1, 1, 1, 1, 1, 1, 1, 1, 2, 2, 2, 2, 2, 2, 2, 2, 2, 2, 2, 2, 2, 2, 2,\n",
       "        2, 2, 2, 2, 2, 2, 2, 2, 2, 2, 2, 2, 2, 2, 2, 2, 2, 2, 2, 2, 2, 2, 2,\n",
       "        2, 2, 2, 2, 2, 2, 2, 2, 2, 2, 2, 2]),\n",
       " 'target_names': array(['setosa', 'versicolor', 'virginica'], \n",
       "       dtype='|S10')}"
      ]
     },
     "execution_count": 6,
     "metadata": {},
     "output_type": "execute_result"
    }
   ],
   "source": [
    "iris"
   ]
  },
  {
   "cell_type": "code",
   "execution_count": 8,
   "metadata": {
    "slideshow": {
     "slide_type": "subslide"
    }
   },
   "outputs": [],
   "source": [
    "X = iris['data'][:,:2]\n",
    "y = iris['target']"
   ]
  },
  {
   "cell_type": "code",
   "execution_count": 11,
   "metadata": {
    "slideshow": {
     "slide_type": "subslide"
    }
   },
   "outputs": [
    {
     "data": {
      "image/png": "[encoded data removed]",
      "text/plain": [
       "<matplotlib.figure.Figure at 0x11ecde090>"
      ]
     },
     "metadata": {},
     "output_type": "display_data"
    }
   ],
   "source": [
    "clf = neighbors.KNeighborsClassifier(n_neighbors)\n",
    "clf.fit(X, y)\n",
    "\n",
    "# Plot the decision boundary. For that, we will assign a color to each\n",
    "# point in the mesh [x_min, x_max]x[y_min, y_max].\n",
    "x_min, x_max = X[:, 0].min() - 1, X[:, 0].max() + 1\n",
    "y_min, y_max = X[:, 1].min() - 1, X[:, 1].max() + 1\n",
    "xx, yy = np.meshgrid(np.arange(x_min, x_max, h), np.arange(y_min, y_max, h))\n",
    "Z = clf.predict(np.c_[xx.ravel(), yy.ravel()])\n",
    "\n",
    "# Put the result into a color plot\n",
    "Z = Z.reshape(xx.shape)\n",
    "plt.figure(figsize=(10,10))\n",
    "plt.pcolormesh(xx, yy, Z, cmap=cmap_light)\n",
    "\n",
    "# Plot also the training points\n",
    "plt.scatter(X[:, 0], X[:, 1], c=y, cmap=cmap_bold, edgecolor='k', s=20)\n",
    "plt.xlim(xx.min(), xx.max())\n",
    "plt.ylim(yy.min(), yy.max())\n",
    "plt.title(\"3-Class classification (k = %i)\" % (n_neighbors))\n",
    "\n",
    "plt.show()"
   ]
  },
  {
   "cell_type": "markdown",
   "metadata": {
    "slideshow": {
     "slide_type": "slide"
    }
   },
   "source": [
    "### Proviamo ora con il dataset dei movimenti....\n",
    "\n",
    "#### Import delle librerie"
   ]
  },
  {
   "cell_type": "code",
   "execution_count": 12,
   "metadata": {
    "slideshow": {
     "slide_type": "fragment"
    }
   },
   "outputs": [],
   "source": [
    "from sklearn.preprocessing import StandardScaler\n",
    "from sklearn import neighbors"
   ]
  },
  {
   "cell_type": "markdown",
   "metadata": {
    "slideshow": {
     "slide_type": "slide"
    }
   },
   "source": [
    "Estraiamo i nomi delle features:"
   ]
  },
  {
   "cell_type": "code",
   "execution_count": 13,
   "metadata": {
    "slideshow": {
     "slide_type": "fragment"
    }
   },
   "outputs": [
    {
     "name": "stdout",
     "output_type": "stream",
     "text": [
      "['Ax_1', 'Ax_2', 'Ax_3', 'Ax_4', 'Ax_5', 'Ax_6', 'Ax_7', 'Ax_8', 'Ax_9', 'Ax_10', 'Ax_11', 'Ax_12', 'Ax_13', 'Ax_14', 'Ax_15', 'Ax_16', 'Ax_17', 'Ax_18', 'Ax_19', 'Ax_20', 'Ay_1', 'Ay_2', 'Ay_3', 'Ay_4', 'Ay_5', 'Ay_6', 'Ay_7', 'Ay_8', 'Ay_9', 'Ay_10', 'Ay_11', 'Ay_12', 'Ay_13', 'Ay_14', 'Ay_15', 'Ay_16', 'Ay_17', 'Ay_18', 'Ay_19', 'Ay_20', 'Az_1', 'Az_2', 'Az_3', 'Az_4', 'Az_5', 'Az_6', 'Az_7', 'Az_8', 'Az_9', 'Az_10', 'Az_11', 'Az_12', 'Az_13', 'Az_14', 'Az_15', 'Az_16', 'Az_17', 'Az_18', 'Az_19', 'Az_20', 'Gx_1', 'Gx_2', 'Gx_3', 'Gx_4', 'Gx_5', 'Gx_6', 'Gx_7', 'Gx_8', 'Gx_9', 'Gx_10', 'Gx_11', 'Gx_12', 'Gx_13', 'Gx_14', 'Gx_15', 'Gx_16', 'Gx_17', 'Gx_18', 'Gx_19', 'Gx_20', 'Gy_1', 'Gy_2', 'Gy_3', 'Gy_4', 'Gy_5', 'Gy_6', 'Gy_7', 'Gy_8', 'Gy_9', 'Gy_10', 'Gy_11', 'Gy_12', 'Gy_13', 'Gy_14', 'Gy_15', 'Gy_16', 'Gy_17', 'Gy_18', 'Gy_19', 'Gy_20', 'Gz_1', 'Gz_2', 'Gz_3', 'Gz_4', 'Gz_5', 'Gz_6', 'Gz_7', 'Gz_8', 'Gz_9', 'Gz_10', 'Gz_11', 'Gz_12', 'Gz_13', 'Gz_14', 'Gz_15', 'Gz_16', 'Gz_17', 'Gz_18', 'Gz_19', 'Gz_20']\n"
     ]
    }
   ],
   "source": [
    "features = [col for col in data.columns.tolist() if col!='movement']\n",
    "print features"
   ]
  },
  {
   "cell_type": "markdown",
   "metadata": {
    "slideshow": {
     "slide_type": "slide"
    }
   },
   "source": [
    "Scombiamo a caso l'ordine dei campioni..."
   ]
  },
  {
   "cell_type": "code",
   "execution_count": 14,
   "metadata": {
    "slideshow": {
     "slide_type": "fragment"
    }
   },
   "outputs": [],
   "source": [
    "data.sample?"
   ]
  },
  {
   "cell_type": "code",
   "execution_count": 15,
   "metadata": {
    "slideshow": {
     "slide_type": "fragment"
    }
   },
   "outputs": [
    {
     "data": {
      "text/html": [
       "<div>\n",
       "<style>\n",
       "    .dataframe thead tr:only-child th {\n",
       "        text-align: right;\n",
       "    }\n",
       "\n",
       "    .dataframe thead th {\n",
       "        text-align: left;\n",
       "    }\n",
       "\n",
       "    .dataframe tbody tr th {\n",
       "        vertical-align: top;\n",
       "    }\n",
       "</style>\n",
       "<table border=\"1\" class=\"dataframe\">\n",
       "  <thead>\n",
       "    <tr style=\"text-align: right;\">\n",
       "      <th></th>\n",
       "      <th>Ax_1</th>\n",
       "      <th>Ax_2</th>\n",
       "      <th>Ax_3</th>\n",
       "      <th>Ax_4</th>\n",
       "      <th>Ax_5</th>\n",
       "      <th>Ax_6</th>\n",
       "      <th>Ax_7</th>\n",
       "      <th>Ax_8</th>\n",
       "      <th>Ax_9</th>\n",
       "      <th>Ax_10</th>\n",
       "      <th>...</th>\n",
       "      <th>Gz_12</th>\n",
       "      <th>Gz_13</th>\n",
       "      <th>Gz_14</th>\n",
       "      <th>Gz_15</th>\n",
       "      <th>Gz_16</th>\n",
       "      <th>Gz_17</th>\n",
       "      <th>Gz_18</th>\n",
       "      <th>Gz_19</th>\n",
       "      <th>Gz_20</th>\n",
       "      <th>movement</th>\n",
       "    </tr>\n",
       "  </thead>\n",
       "  <tbody>\n",
       "    <tr>\n",
       "      <th>1.524893e+09</th>\n",
       "      <td>1.000244</td>\n",
       "      <td>0.942139</td>\n",
       "      <td>0.949707</td>\n",
       "      <td>1.032227</td>\n",
       "      <td>1.035889</td>\n",
       "      <td>1.137451</td>\n",
       "      <td>0.971436</td>\n",
       "      <td>0.849121</td>\n",
       "      <td>0.544678</td>\n",
       "      <td>0.344971</td>\n",
       "      <td>...</td>\n",
       "      <td>-6.557252</td>\n",
       "      <td>5.809160</td>\n",
       "      <td>15.778626</td>\n",
       "      <td>26.419847</td>\n",
       "      <td>32.595420</td>\n",
       "      <td>35.374046</td>\n",
       "      <td>37.274809</td>\n",
       "      <td>39.854962</td>\n",
       "      <td>37.854962</td>\n",
       "      <td>1</td>\n",
       "    </tr>\n",
       "    <tr>\n",
       "      <th>1.524893e+09</th>\n",
       "      <td>-0.076904</td>\n",
       "      <td>0.083252</td>\n",
       "      <td>0.279785</td>\n",
       "      <td>0.503906</td>\n",
       "      <td>0.786865</td>\n",
       "      <td>1.225098</td>\n",
       "      <td>1.748047</td>\n",
       "      <td>1.999939</td>\n",
       "      <td>1.999939</td>\n",
       "      <td>1.999939</td>\n",
       "      <td>...</td>\n",
       "      <td>-9.412214</td>\n",
       "      <td>-11.603053</td>\n",
       "      <td>-12.305344</td>\n",
       "      <td>-16.198473</td>\n",
       "      <td>-22.893130</td>\n",
       "      <td>-27.450382</td>\n",
       "      <td>-35.061069</td>\n",
       "      <td>-38.450382</td>\n",
       "      <td>-39.564885</td>\n",
       "      <td>3</td>\n",
       "    </tr>\n",
       "    <tr>\n",
       "      <th>1.524893e+09</th>\n",
       "      <td>0.851318</td>\n",
       "      <td>0.929443</td>\n",
       "      <td>1.024170</td>\n",
       "      <td>0.994385</td>\n",
       "      <td>1.081299</td>\n",
       "      <td>1.216064</td>\n",
       "      <td>1.049805</td>\n",
       "      <td>0.902588</td>\n",
       "      <td>0.994629</td>\n",
       "      <td>1.168701</td>\n",
       "      <td>...</td>\n",
       "      <td>-6.702290</td>\n",
       "      <td>-7.725191</td>\n",
       "      <td>-7.465649</td>\n",
       "      <td>-6.519084</td>\n",
       "      <td>-5.587786</td>\n",
       "      <td>-5.030534</td>\n",
       "      <td>-4.190840</td>\n",
       "      <td>-3.007634</td>\n",
       "      <td>-1.854962</td>\n",
       "      <td>5</td>\n",
       "    </tr>\n",
       "    <tr>\n",
       "      <th>1.524893e+09</th>\n",
       "      <td>0.851318</td>\n",
       "      <td>0.894775</td>\n",
       "      <td>0.880615</td>\n",
       "      <td>0.911133</td>\n",
       "      <td>0.954590</td>\n",
       "      <td>0.909668</td>\n",
       "      <td>0.937500</td>\n",
       "      <td>1.016602</td>\n",
       "      <td>1.303467</td>\n",
       "      <td>1.418945</td>\n",
       "      <td>...</td>\n",
       "      <td>-0.343511</td>\n",
       "      <td>-2.763359</td>\n",
       "      <td>-4.381679</td>\n",
       "      <td>-6.526718</td>\n",
       "      <td>-7.954198</td>\n",
       "      <td>-7.740458</td>\n",
       "      <td>-6.839695</td>\n",
       "      <td>-6.083969</td>\n",
       "      <td>-5.702290</td>\n",
       "      <td>5</td>\n",
       "    </tr>\n",
       "    <tr>\n",
       "      <th>1.524893e+09</th>\n",
       "      <td>1.093018</td>\n",
       "      <td>1.089600</td>\n",
       "      <td>1.084717</td>\n",
       "      <td>1.098877</td>\n",
       "      <td>1.083984</td>\n",
       "      <td>1.176514</td>\n",
       "      <td>1.288086</td>\n",
       "      <td>1.328125</td>\n",
       "      <td>1.269287</td>\n",
       "      <td>1.171387</td>\n",
       "      <td>...</td>\n",
       "      <td>-0.145038</td>\n",
       "      <td>2.374046</td>\n",
       "      <td>5.099237</td>\n",
       "      <td>7.656489</td>\n",
       "      <td>8.656489</td>\n",
       "      <td>9.328244</td>\n",
       "      <td>10.374046</td>\n",
       "      <td>11.015267</td>\n",
       "      <td>9.198473</td>\n",
       "      <td>4</td>\n",
       "    </tr>\n",
       "    <tr>\n",
       "      <th>1.524893e+09</th>\n",
       "      <td>0.417969</td>\n",
       "      <td>0.373047</td>\n",
       "      <td>0.265625</td>\n",
       "      <td>0.007080</td>\n",
       "      <td>0.082520</td>\n",
       "      <td>0.128662</td>\n",
       "      <td>-0.130371</td>\n",
       "      <td>-0.205566</td>\n",
       "      <td>-0.119141</td>\n",
       "      <td>0.048096</td>\n",
       "      <td>...</td>\n",
       "      <td>12.343511</td>\n",
       "      <td>16.137405</td>\n",
       "      <td>14.557252</td>\n",
       "      <td>16.961832</td>\n",
       "      <td>18.496183</td>\n",
       "      <td>7.251908</td>\n",
       "      <td>0.801527</td>\n",
       "      <td>-2.961832</td>\n",
       "      <td>-5.244275</td>\n",
       "      <td>2</td>\n",
       "    </tr>\n",
       "    <tr>\n",
       "      <th>1.524893e+09</th>\n",
       "      <td>0.000000</td>\n",
       "      <td>0.000000</td>\n",
       "      <td>0.000000</td>\n",
       "      <td>1.152588</td>\n",
       "      <td>1.562988</td>\n",
       "      <td>1.999939</td>\n",
       "      <td>1.999939</td>\n",
       "      <td>1.999939</td>\n",
       "      <td>1.938477</td>\n",
       "      <td>1.689941</td>\n",
       "      <td>...</td>\n",
       "      <td>-10.977099</td>\n",
       "      <td>-17.435115</td>\n",
       "      <td>-23.984733</td>\n",
       "      <td>-29.007634</td>\n",
       "      <td>-35.893130</td>\n",
       "      <td>-40.198473</td>\n",
       "      <td>-41.961832</td>\n",
       "      <td>-43.343511</td>\n",
       "      <td>-42.396947</td>\n",
       "      <td>3</td>\n",
       "    </tr>\n",
       "    <tr>\n",
       "      <th>1.524893e+09</th>\n",
       "      <td>1.529785</td>\n",
       "      <td>1.305908</td>\n",
       "      <td>0.923096</td>\n",
       "      <td>0.713379</td>\n",
       "      <td>0.473633</td>\n",
       "      <td>0.306641</td>\n",
       "      <td>0.081055</td>\n",
       "      <td>-0.125732</td>\n",
       "      <td>-0.159912</td>\n",
       "      <td>0.027588</td>\n",
       "      <td>...</td>\n",
       "      <td>38.213740</td>\n",
       "      <td>42.145038</td>\n",
       "      <td>43.786260</td>\n",
       "      <td>48.305344</td>\n",
       "      <td>49.503817</td>\n",
       "      <td>52.213740</td>\n",
       "      <td>44.480916</td>\n",
       "      <td>14.183206</td>\n",
       "      <td>-12.229008</td>\n",
       "      <td>3</td>\n",
       "    </tr>\n",
       "    <tr>\n",
       "      <th>1.524893e+09</th>\n",
       "      <td>0.000000</td>\n",
       "      <td>0.000000</td>\n",
       "      <td>0.000000</td>\n",
       "      <td>0.000000</td>\n",
       "      <td>0.000000</td>\n",
       "      <td>0.000000</td>\n",
       "      <td>0.000000</td>\n",
       "      <td>0.000000</td>\n",
       "      <td>0.000000</td>\n",
       "      <td>0.000000</td>\n",
       "      <td>...</td>\n",
       "      <td>0.000000</td>\n",
       "      <td>0.000000</td>\n",
       "      <td>0.000000</td>\n",
       "      <td>0.000000</td>\n",
       "      <td>0.000000</td>\n",
       "      <td>48.564885</td>\n",
       "      <td>45.045802</td>\n",
       "      <td>45.580153</td>\n",
       "      <td>46.977099</td>\n",
       "      <td>3</td>\n",
       "    </tr>\n",
       "    <tr>\n",
       "      <th>1.524893e+09</th>\n",
       "      <td>1.136230</td>\n",
       "      <td>1.099365</td>\n",
       "      <td>1.202393</td>\n",
       "      <td>1.277100</td>\n",
       "      <td>1.259521</td>\n",
       "      <td>1.262451</td>\n",
       "      <td>1.244385</td>\n",
       "      <td>1.181885</td>\n",
       "      <td>1.116943</td>\n",
       "      <td>1.070312</td>\n",
       "      <td>...</td>\n",
       "      <td>5.625954</td>\n",
       "      <td>7.587786</td>\n",
       "      <td>9.564885</td>\n",
       "      <td>9.893130</td>\n",
       "      <td>9.854962</td>\n",
       "      <td>9.916031</td>\n",
       "      <td>8.648855</td>\n",
       "      <td>5.687023</td>\n",
       "      <td>1.656489</td>\n",
       "      <td>4</td>\n",
       "    </tr>\n",
       "  </tbody>\n",
       "</table>\n",
       "<p>10 rows × 121 columns</p>\n",
       "</div>"
      ],
      "text/plain": [
       "                  Ax_1      Ax_2      Ax_3      Ax_4      Ax_5      Ax_6  \\\n",
       "1.524893e+09  1.000244  0.942139  0.949707  1.032227  1.035889  1.137451   \n",
       "1.524893e+09 -0.076904  0.083252  0.279785  0.503906  0.786865  1.225098   \n",
       "1.524893e+09  0.851318  0.929443  1.024170  0.994385  1.081299  1.216064   \n",
       "1.524893e+09  0.851318  0.894775  0.880615  0.911133  0.954590  0.909668   \n",
       "1.524893e+09  1.093018  1.089600  1.084717  1.098877  1.083984  1.176514   \n",
       "1.524893e+09  0.417969  0.373047  0.265625  0.007080  0.082520  0.128662   \n",
       "1.524893e+09  0.000000  0.000000  0.000000  1.152588  1.562988  1.999939   \n",
       "1.524893e+09  1.529785  1.305908  0.923096  0.713379  0.473633  0.306641   \n",
       "1.524893e+09  0.000000  0.000000  0.000000  0.000000  0.000000  0.000000   \n",
       "1.524893e+09  1.136230  1.099365  1.202393  1.277100  1.259521  1.262451   \n",
       "\n",
       "                  Ax_7      Ax_8      Ax_9     Ax_10    ...         Gz_12  \\\n",
       "1.524893e+09  0.971436  0.849121  0.544678  0.344971    ...     -6.557252   \n",
       "1.524893e+09  1.748047  1.999939  1.999939  1.999939    ...     -9.412214   \n",
       "1.524893e+09  1.049805  0.902588  0.994629  1.168701    ...     -6.702290   \n",
       "1.524893e+09  0.937500  1.016602  1.303467  1.418945    ...     -0.343511   \n",
       "1.524893e+09  1.288086  1.328125  1.269287  1.171387    ...     -0.145038   \n",
       "1.524893e+09 -0.130371 -0.205566 -0.119141  0.048096    ...     12.343511   \n",
       "1.524893e+09  1.999939  1.999939  1.938477  1.689941    ...    -10.977099   \n",
       "1.524893e+09  0.081055 -0.125732 -0.159912  0.027588    ...     38.213740   \n",
       "1.524893e+09  0.000000  0.000000  0.000000  0.000000    ...      0.000000   \n",
       "1.524893e+09  1.244385  1.181885  1.116943  1.070312    ...      5.625954   \n",
       "\n",
       "                  Gz_13      Gz_14      Gz_15      Gz_16      Gz_17  \\\n",
       "1.524893e+09   5.809160  15.778626  26.419847  32.595420  35.374046   \n",
       "1.524893e+09 -11.603053 -12.305344 -16.198473 -22.893130 -27.450382   \n",
       "1.524893e+09  -7.725191  -7.465649  -6.519084  -5.587786  -5.030534   \n",
       "1.524893e+09  -2.763359  -4.381679  -6.526718  -7.954198  -7.740458   \n",
       "1.524893e+09   2.374046   5.099237   7.656489   8.656489   9.328244   \n",
       "1.524893e+09  16.137405  14.557252  16.961832  18.496183   7.251908   \n",
       "1.524893e+09 -17.435115 -23.984733 -29.007634 -35.893130 -40.198473   \n",
       "1.524893e+09  42.145038  43.786260  48.305344  49.503817  52.213740   \n",
       "1.524893e+09   0.000000   0.000000   0.000000   0.000000  48.564885   \n",
       "1.524893e+09   7.587786   9.564885   9.893130   9.854962   9.916031   \n",
       "\n",
       "                  Gz_18      Gz_19      Gz_20  movement  \n",
       "1.524893e+09  37.274809  39.854962  37.854962         1  \n",
       "1.524893e+09 -35.061069 -38.450382 -39.564885         3  \n",
       "1.524893e+09  -4.190840  -3.007634  -1.854962         5  \n",
       "1.524893e+09  -6.839695  -6.083969  -5.702290         5  \n",
       "1.524893e+09  10.374046  11.015267   9.198473         4  \n",
       "1.524893e+09   0.801527  -2.961832  -5.244275         2  \n",
       "1.524893e+09 -41.961832 -43.343511 -42.396947         3  \n",
       "1.524893e+09  44.480916  14.183206 -12.229008         3  \n",
       "1.524893e+09  45.045802  45.580153  46.977099         3  \n",
       "1.524893e+09   8.648855   5.687023   1.656489         4  \n",
       "\n",
       "[10 rows x 121 columns]"
      ]
     },
     "execution_count": 15,
     "metadata": {},
     "output_type": "execute_result"
    }
   ],
   "source": [
    "shuffled_data = data.sample(frac=1)\n",
    "shuffled_data.head(10)"
   ]
  },
  {
   "cell_type": "markdown",
   "metadata": {
    "slideshow": {
     "slide_type": "slide"
    }
   },
   "source": [
    "** Ora proviamo a costruire un classificatore a primi vicini! **\n",
    "\n",
    "In fase di sviluppo è buona norma suddividere il dataset in due parti il più possibile scorrelate tra di loro:\n",
    "* training data\n",
    "* test data\n",
    "\n",
    "Questa situazione emula la situazione reale del sistema in produzione in cui si ha la suddivisione:\n",
    "* dati in-sample: dati usati per fare il training dell'algortimo una volta per tutte\n",
    "* dati out-of-sample: dati reali che stimolano l'algoritmo nei casi non noti"
   ]
  },
  {
   "cell_type": "code",
   "execution_count": 17,
   "metadata": {
    "slideshow": {
     "slide_type": "fragment"
    }
   },
   "outputs": [
    {
     "name": "stdout",
     "output_type": "stream",
     "text": [
      "N of train samples = 500,  N of test samples = 251\n"
     ]
    }
   ],
   "source": [
    "n_of_train_samples = 500\n",
    "n_of_test_samples = len(data) - n_of_train_samples\n",
    "\n",
    "train_data = shuffled_data.iloc[0:n_of_train_samples]\n",
    "test_data = shuffled_data.iloc[n_of_train_samples:len(shuffled_data)]\n",
    "\n",
    "print \"N of train samples = %i,  N of test samples = %i\"%(n_of_train_samples, n_of_test_samples)"
   ]
  },
  {
   "cell_type": "code",
   "execution_count": 18,
   "metadata": {},
   "outputs": [
    {
     "data": {
      "text/html": [
       "<div>\n",
       "<style>\n",
       "    .dataframe thead tr:only-child th {\n",
       "        text-align: right;\n",
       "    }\n",
       "\n",
       "    .dataframe thead th {\n",
       "        text-align: left;\n",
       "    }\n",
       "\n",
       "    .dataframe tbody tr th {\n",
       "        vertical-align: top;\n",
       "    }\n",
       "</style>\n",
       "<table border=\"1\" class=\"dataframe\">\n",
       "  <thead>\n",
       "    <tr style=\"text-align: right;\">\n",
       "      <th></th>\n",
       "      <th>Ax_1</th>\n",
       "      <th>Ax_2</th>\n",
       "      <th>Ax_3</th>\n",
       "      <th>Ax_4</th>\n",
       "      <th>Ax_5</th>\n",
       "      <th>Ax_6</th>\n",
       "      <th>Ax_7</th>\n",
       "      <th>Ax_8</th>\n",
       "      <th>Ax_9</th>\n",
       "      <th>Ax_10</th>\n",
       "      <th>...</th>\n",
       "      <th>Gz_12</th>\n",
       "      <th>Gz_13</th>\n",
       "      <th>Gz_14</th>\n",
       "      <th>Gz_15</th>\n",
       "      <th>Gz_16</th>\n",
       "      <th>Gz_17</th>\n",
       "      <th>Gz_18</th>\n",
       "      <th>Gz_19</th>\n",
       "      <th>Gz_20</th>\n",
       "      <th>movement</th>\n",
       "    </tr>\n",
       "  </thead>\n",
       "  <tbody>\n",
       "    <tr>\n",
       "      <th>1.524893e+09</th>\n",
       "      <td>0.000000</td>\n",
       "      <td>0.000000</td>\n",
       "      <td>0.000000</td>\n",
       "      <td>0.000000</td>\n",
       "      <td>0.000000</td>\n",
       "      <td>0.000000</td>\n",
       "      <td>0.000000</td>\n",
       "      <td>0.000000</td>\n",
       "      <td>0.000000</td>\n",
       "      <td>0.342041</td>\n",
       "      <td>...</td>\n",
       "      <td>-14.061069</td>\n",
       "      <td>-1.458015</td>\n",
       "      <td>11.946565</td>\n",
       "      <td>22.748092</td>\n",
       "      <td>29.832061</td>\n",
       "      <td>34.969466</td>\n",
       "      <td>39.053435</td>\n",
       "      <td>36.984733</td>\n",
       "      <td>37.717557</td>\n",
       "      <td>1</td>\n",
       "    </tr>\n",
       "    <tr>\n",
       "      <th>1.524893e+09</th>\n",
       "      <td>0.000000</td>\n",
       "      <td>0.000000</td>\n",
       "      <td>-0.020996</td>\n",
       "      <td>0.238037</td>\n",
       "      <td>0.427246</td>\n",
       "      <td>0.456787</td>\n",
       "      <td>0.688721</td>\n",
       "      <td>0.957275</td>\n",
       "      <td>1.060303</td>\n",
       "      <td>1.085449</td>\n",
       "      <td>...</td>\n",
       "      <td>2.083969</td>\n",
       "      <td>-0.679389</td>\n",
       "      <td>-4.770992</td>\n",
       "      <td>-9.916031</td>\n",
       "      <td>-11.480916</td>\n",
       "      <td>-12.091603</td>\n",
       "      <td>-14.885496</td>\n",
       "      <td>-14.946565</td>\n",
       "      <td>-14.290076</td>\n",
       "      <td>2</td>\n",
       "    </tr>\n",
       "    <tr>\n",
       "      <th>1.524893e+09</th>\n",
       "      <td>1.174072</td>\n",
       "      <td>1.170898</td>\n",
       "      <td>1.184326</td>\n",
       "      <td>1.184082</td>\n",
       "      <td>1.217285</td>\n",
       "      <td>1.272217</td>\n",
       "      <td>1.270264</td>\n",
       "      <td>1.162598</td>\n",
       "      <td>1.096436</td>\n",
       "      <td>1.100098</td>\n",
       "      <td>...</td>\n",
       "      <td>7.748092</td>\n",
       "      <td>9.183206</td>\n",
       "      <td>9.954198</td>\n",
       "      <td>10.183206</td>\n",
       "      <td>10.809160</td>\n",
       "      <td>9.167939</td>\n",
       "      <td>5.610687</td>\n",
       "      <td>2.198473</td>\n",
       "      <td>-0.748092</td>\n",
       "      <td>4</td>\n",
       "    </tr>\n",
       "    <tr>\n",
       "      <th>1.524893e+09</th>\n",
       "      <td>0.000000</td>\n",
       "      <td>0.000000</td>\n",
       "      <td>0.000000</td>\n",
       "      <td>0.000000</td>\n",
       "      <td>0.000000</td>\n",
       "      <td>0.000000</td>\n",
       "      <td>0.000000</td>\n",
       "      <td>0.000000</td>\n",
       "      <td>0.000000</td>\n",
       "      <td>0.000000</td>\n",
       "      <td>...</td>\n",
       "      <td>2.648855</td>\n",
       "      <td>0.717557</td>\n",
       "      <td>-1.396947</td>\n",
       "      <td>-3.335878</td>\n",
       "      <td>-4.847328</td>\n",
       "      <td>-5.404580</td>\n",
       "      <td>-5.793893</td>\n",
       "      <td>-6.496183</td>\n",
       "      <td>-7.465649</td>\n",
       "      <td>5</td>\n",
       "    </tr>\n",
       "    <tr>\n",
       "      <th>1.524893e+09</th>\n",
       "      <td>1.043213</td>\n",
       "      <td>1.024902</td>\n",
       "      <td>0.981689</td>\n",
       "      <td>0.947266</td>\n",
       "      <td>0.923096</td>\n",
       "      <td>0.903076</td>\n",
       "      <td>0.931152</td>\n",
       "      <td>0.937500</td>\n",
       "      <td>0.987061</td>\n",
       "      <td>1.006592</td>\n",
       "      <td>...</td>\n",
       "      <td>9.725191</td>\n",
       "      <td>9.816794</td>\n",
       "      <td>9.648855</td>\n",
       "      <td>10.061069</td>\n",
       "      <td>9.893130</td>\n",
       "      <td>7.488550</td>\n",
       "      <td>5.923664</td>\n",
       "      <td>5.381679</td>\n",
       "      <td>4.007634</td>\n",
       "      <td>5</td>\n",
       "    </tr>\n",
       "  </tbody>\n",
       "</table>\n",
       "<p>5 rows × 121 columns</p>\n",
       "</div>"
      ],
      "text/plain": [
       "                  Ax_1      Ax_2      Ax_3      Ax_4      Ax_5      Ax_6  \\\n",
       "1.524893e+09  0.000000  0.000000  0.000000  0.000000  0.000000  0.000000   \n",
       "1.524893e+09  0.000000  0.000000 -0.020996  0.238037  0.427246  0.456787   \n",
       "1.524893e+09  1.174072  1.170898  1.184326  1.184082  1.217285  1.272217   \n",
       "1.524893e+09  0.000000  0.000000  0.000000  0.000000  0.000000  0.000000   \n",
       "1.524893e+09  1.043213  1.024902  0.981689  0.947266  0.923096  0.903076   \n",
       "\n",
       "                  Ax_7      Ax_8      Ax_9     Ax_10    ...         Gz_12  \\\n",
       "1.524893e+09  0.000000  0.000000  0.000000  0.342041    ...    -14.061069   \n",
       "1.524893e+09  0.688721  0.957275  1.060303  1.085449    ...      2.083969   \n",
       "1.524893e+09  1.270264  1.162598  1.096436  1.100098    ...      7.748092   \n",
       "1.524893e+09  0.000000  0.000000  0.000000  0.000000    ...      2.648855   \n",
       "1.524893e+09  0.931152  0.937500  0.987061  1.006592    ...      9.725191   \n",
       "\n",
       "                 Gz_13      Gz_14      Gz_15      Gz_16      Gz_17      Gz_18  \\\n",
       "1.524893e+09 -1.458015  11.946565  22.748092  29.832061  34.969466  39.053435   \n",
       "1.524893e+09 -0.679389  -4.770992  -9.916031 -11.480916 -12.091603 -14.885496   \n",
       "1.524893e+09  9.183206   9.954198  10.183206  10.809160   9.167939   5.610687   \n",
       "1.524893e+09  0.717557  -1.396947  -3.335878  -4.847328  -5.404580  -5.793893   \n",
       "1.524893e+09  9.816794   9.648855  10.061069   9.893130   7.488550   5.923664   \n",
       "\n",
       "                  Gz_19      Gz_20  movement  \n",
       "1.524893e+09  36.984733  37.717557         1  \n",
       "1.524893e+09 -14.946565 -14.290076         2  \n",
       "1.524893e+09   2.198473  -0.748092         4  \n",
       "1.524893e+09  -6.496183  -7.465649         5  \n",
       "1.524893e+09   5.381679   4.007634         5  \n",
       "\n",
       "[5 rows x 121 columns]"
      ]
     },
     "execution_count": 18,
     "metadata": {},
     "output_type": "execute_result"
    }
   ],
   "source": [
    "test_data.head()"
   ]
  },
  {
   "cell_type": "markdown",
   "metadata": {
    "slideshow": {
     "slide_type": "slide"
    }
   },
   "source": [
    "### Creazione dei dataset di test e di training\n"
   ]
  },
  {
   "cell_type": "code",
   "execution_count": 19,
   "metadata": {},
   "outputs": [
    {
     "data": {
      "text/plain": [
       "['Ax_1',\n",
       " 'Ax_2',\n",
       " 'Ax_3',\n",
       " 'Ax_4',\n",
       " 'Ax_5',\n",
       " 'Ax_6',\n",
       " 'Ax_7',\n",
       " 'Ax_8',\n",
       " 'Ax_9',\n",
       " 'Ax_10',\n",
       " 'Ax_11',\n",
       " 'Ax_12',\n",
       " 'Ax_13',\n",
       " 'Ax_14',\n",
       " 'Ax_15',\n",
       " 'Ax_16',\n",
       " 'Ax_17',\n",
       " 'Ax_18',\n",
       " 'Ax_19',\n",
       " 'Ax_20',\n",
       " 'Ay_1',\n",
       " 'Ay_2',\n",
       " 'Ay_3',\n",
       " 'Ay_4',\n",
       " 'Ay_5',\n",
       " 'Ay_6',\n",
       " 'Ay_7',\n",
       " 'Ay_8',\n",
       " 'Ay_9',\n",
       " 'Ay_10',\n",
       " 'Ay_11',\n",
       " 'Ay_12',\n",
       " 'Ay_13',\n",
       " 'Ay_14',\n",
       " 'Ay_15',\n",
       " 'Ay_16',\n",
       " 'Ay_17',\n",
       " 'Ay_18',\n",
       " 'Ay_19',\n",
       " 'Ay_20',\n",
       " 'Az_1',\n",
       " 'Az_2',\n",
       " 'Az_3',\n",
       " 'Az_4',\n",
       " 'Az_5',\n",
       " 'Az_6',\n",
       " 'Az_7',\n",
       " 'Az_8',\n",
       " 'Az_9',\n",
       " 'Az_10',\n",
       " 'Az_11',\n",
       " 'Az_12',\n",
       " 'Az_13',\n",
       " 'Az_14',\n",
       " 'Az_15',\n",
       " 'Az_16',\n",
       " 'Az_17',\n",
       " 'Az_18',\n",
       " 'Az_19',\n",
       " 'Az_20',\n",
       " 'Gx_1',\n",
       " 'Gx_2',\n",
       " 'Gx_3',\n",
       " 'Gx_4',\n",
       " 'Gx_5',\n",
       " 'Gx_6',\n",
       " 'Gx_7',\n",
       " 'Gx_8',\n",
       " 'Gx_9',\n",
       " 'Gx_10',\n",
       " 'Gx_11',\n",
       " 'Gx_12',\n",
       " 'Gx_13',\n",
       " 'Gx_14',\n",
       " 'Gx_15',\n",
       " 'Gx_16',\n",
       " 'Gx_17',\n",
       " 'Gx_18',\n",
       " 'Gx_19',\n",
       " 'Gx_20',\n",
       " 'Gy_1',\n",
       " 'Gy_2',\n",
       " 'Gy_3',\n",
       " 'Gy_4',\n",
       " 'Gy_5',\n",
       " 'Gy_6',\n",
       " 'Gy_7',\n",
       " 'Gy_8',\n",
       " 'Gy_9',\n",
       " 'Gy_10',\n",
       " 'Gy_11',\n",
       " 'Gy_12',\n",
       " 'Gy_13',\n",
       " 'Gy_14',\n",
       " 'Gy_15',\n",
       " 'Gy_16',\n",
       " 'Gy_17',\n",
       " 'Gy_18',\n",
       " 'Gy_19',\n",
       " 'Gy_20',\n",
       " 'Gz_1',\n",
       " 'Gz_2',\n",
       " 'Gz_3',\n",
       " 'Gz_4',\n",
       " 'Gz_5',\n",
       " 'Gz_6',\n",
       " 'Gz_7',\n",
       " 'Gz_8',\n",
       " 'Gz_9',\n",
       " 'Gz_10',\n",
       " 'Gz_11',\n",
       " 'Gz_12',\n",
       " 'Gz_13',\n",
       " 'Gz_14',\n",
       " 'Gz_15',\n",
       " 'Gz_16',\n",
       " 'Gz_17',\n",
       " 'Gz_18',\n",
       " 'Gz_19',\n",
       " 'Gz_20']"
      ]
     },
     "execution_count": 19,
     "metadata": {},
     "output_type": "execute_result"
    }
   ],
   "source": [
    "features"
   ]
  },
  {
   "cell_type": "code",
   "execution_count": 20,
   "metadata": {
    "slideshow": {
     "slide_type": "fragment"
    }
   },
   "outputs": [],
   "source": [
    "X_train = train_data[features].values\n",
    "X_test = test_data[features].values\n",
    "\n",
    "y_train = train_data['movement'].values\n",
    "y_test = test_data['movement'].values"
   ]
  },
  {
   "cell_type": "markdown",
   "metadata": {
    "slideshow": {
     "slide_type": "slide"
    }
   },
   "source": [
    "### Standardizzare le feature rimuovendo la media e scalando a varianza unitaria"
   ]
  },
  {
   "cell_type": "code",
   "execution_count": 21,
   "metadata": {
    "slideshow": {
     "slide_type": "fragment"
    }
   },
   "outputs": [],
   "source": [
    "sc = StandardScaler()\n",
    "sc.fit(X_train)\n",
    "X_train_scaled = sc.transform(X_train)\n",
    "X_test_scaled = sc.transform(X_test)"
   ]
  },
  {
   "cell_type": "code",
   "execution_count": 22,
   "metadata": {
    "slideshow": {
     "slide_type": "fragment"
    }
   },
   "outputs": [
    {
     "data": {
      "text/plain": [
       "array([[ 0.24314843,  0.11527385,  0.12495323, ...,  1.61699941,\n",
       "         1.74471743,  1.69975866],\n",
       "       [-1.76794561, -1.49169961, -1.13484941, ..., -1.60961864,\n",
       "        -1.76865136, -1.83041332],\n",
       "       [-0.03490401,  0.09152098,  0.26498231, ..., -0.23261955,\n",
       "        -0.17842214, -0.11092509],\n",
       "       ..., \n",
       "       [-0.81892073, -1.27929408, -1.64216789, ..., -0.56324915,\n",
       "        -0.59558759, -0.76495715],\n",
       "       [ 0.04076272,  0.03396593,  0.00374773, ...,  0.14602115,\n",
       "         0.11681318,  0.11497529],\n",
       "       [ 0.54809446,  0.47750522,  0.32191217, ...,  0.40310184,\n",
       "         0.40040348,  0.31511815]])"
      ]
     },
     "execution_count": 22,
     "metadata": {},
     "output_type": "execute_result"
    }
   ],
   "source": [
    "X_train_scaled"
   ]
  },
  {
   "cell_type": "markdown",
   "metadata": {
    "slideshow": {
     "slide_type": "slide"
    }
   },
   "source": [
    "### Creiamo l'algoritmo\n",
    "\n",
    "http://scikit-learn.org/stable/modules/generated/sklearn.ensemble.RandomForestClassifier.html#sklearn.ensemble.RandomForestClassifier"
   ]
  },
  {
   "cell_type": "code",
   "execution_count": 23,
   "metadata": {
    "slideshow": {
     "slide_type": "fragment"
    }
   },
   "outputs": [
    {
     "data": {
      "text/plain": [
       "KNeighborsClassifier(algorithm='auto', leaf_size=30, metric='minkowski',\n",
       "           metric_params=None, n_jobs=1, n_neighbors=20, p=2,\n",
       "           weights='uniform')"
      ]
     },
     "execution_count": 23,
     "metadata": {},
     "output_type": "execute_result"
    }
   ],
   "source": [
    "n_neighbors = 20\n",
    "clf = neighbors.KNeighborsClassifier(n_neighbors)\n",
    "clf.fit(X_train_scaled, y_train)"
   ]
  },
  {
   "cell_type": "markdown",
   "metadata": {
    "slideshow": {
     "slide_type": "fragment"
    }
   },
   "source": [
    "Utilizzando questo modello calcoliamo la percentuale di movimenti classificati correttamente all'interno del test dataset..."
   ]
  },
  {
   "cell_type": "code",
   "execution_count": 24,
   "metadata": {
    "slideshow": {
     "slide_type": "fragment"
    }
   },
   "outputs": [
    {
     "data": {
      "text/plain": [
       "0.952191235059761"
      ]
     },
     "execution_count": 24,
     "metadata": {},
     "output_type": "execute_result"
    }
   ],
   "source": [
    "clf.score(X_test_scaled, y_test)"
   ]
  },
  {
   "cell_type": "markdown",
   "metadata": {
    "slideshow": {
     "slide_type": "fragment"
    }
   },
   "source": [
    "## Funziona!"
   ]
  },
  {
   "cell_type": "code",
   "execution_count": 25,
   "metadata": {
    "slideshow": {
     "slide_type": "subslide"
    }
   },
   "outputs": [
    {
     "data": {
      "text/plain": [
       "array([1, 2, 4, 5, 5, 1, 3, 4, 4, 4, 1, 5, 4, 3, 1, 5, 2, 5, 4, 1, 1, 5, 1,\n",
       "       5, 2, 5, 1, 1, 4, 4, 1, 2, 4, 5, 4, 4, 4, 4, 4, 3, 1, 5, 4, 5, 3, 3,\n",
       "       1, 3, 4, 5, 4, 3, 3, 5, 3, 2, 3, 1, 5, 2, 1, 1, 5, 4, 5, 5, 1, 2, 3,\n",
       "       5, 5, 5, 5, 3, 4, 1, 4, 3, 2, 5, 1, 4, 2, 3, 1, 5, 5, 4, 4, 1, 2, 1,\n",
       "       5, 1, 3, 5, 1, 5, 1, 1, 4, 4, 3, 3, 3, 1, 1, 5, 1, 4, 4, 4, 4, 3, 5,\n",
       "       4, 1, 2, 5, 1, 4, 2, 5, 3, 3, 5, 1, 4, 3, 3, 1, 2, 3, 4, 3, 5, 1, 1,\n",
       "       4, 4, 4, 1, 5, 3, 4, 4, 1, 1, 4, 3, 2, 4, 3, 3, 3, 4, 3, 4, 3, 4, 3,\n",
       "       2, 5, 5, 4, 4, 4, 1, 5, 3, 4, 1, 3, 5, 4, 4, 4, 4, 4, 1, 4, 1, 1, 3,\n",
       "       5, 4, 4, 4, 5, 1, 4, 5, 4, 1, 3, 5, 4, 5, 3, 5, 4, 3, 5, 1, 3, 1, 1,\n",
       "       4, 3, 5, 4, 3, 4, 1, 4, 1, 5, 4, 3, 3, 1, 3, 4, 4, 3, 3, 1, 1, 3, 4,\n",
       "       4, 3, 5, 4, 1, 2, 4, 4, 1, 4, 5, 3, 5, 4, 2, 5, 1, 5, 5, 1, 4])"
      ]
     },
     "execution_count": 25,
     "metadata": {},
     "output_type": "execute_result"
    }
   ],
   "source": [
    "y_test"
   ]
  },
  {
   "cell_type": "code",
   "execution_count": 26,
   "metadata": {},
   "outputs": [
    {
     "data": {
      "text/plain": [
       "array([1, 2, 4, 4, 5, 1, 3, 4, 4, 4, 1, 5, 4, 3, 1, 5, 2, 5, 4, 1, 1, 5, 1,\n",
       "       5, 4, 5, 1, 1, 4, 4, 1, 2, 4, 5, 4, 4, 4, 4, 4, 3, 1, 5, 4, 5, 3, 3,\n",
       "       1, 3, 4, 5, 4, 3, 3, 5, 3, 4, 3, 1, 5, 4, 1, 1, 5, 4, 5, 5, 1, 4, 3,\n",
       "       5, 5, 5, 5, 3, 4, 1, 4, 3, 2, 5, 1, 4, 2, 3, 1, 5, 5, 4, 4, 1, 2, 1,\n",
       "       5, 1, 3, 5, 1, 5, 1, 1, 4, 4, 3, 3, 3, 1, 1, 5, 1, 4, 4, 4, 4, 3, 5,\n",
       "       4, 1, 4, 5, 1, 4, 2, 5, 3, 3, 5, 1, 4, 3, 3, 1, 2, 3, 4, 3, 5, 1, 1,\n",
       "       4, 4, 4, 1, 5, 3, 4, 4, 1, 1, 4, 3, 2, 4, 3, 3, 3, 4, 3, 4, 3, 4, 3,\n",
       "       4, 5, 5, 4, 4, 4, 1, 5, 3, 4, 1, 3, 5, 4, 4, 4, 4, 4, 1, 4, 1, 1, 4,\n",
       "       5, 4, 4, 4, 4, 1, 4, 4, 4, 1, 3, 5, 4, 5, 3, 5, 4, 3, 5, 1, 3, 1, 4,\n",
       "       4, 3, 5, 4, 3, 4, 1, 4, 1, 5, 4, 3, 3, 1, 3, 4, 4, 3, 3, 1, 1, 3, 4,\n",
       "       4, 3, 5, 4, 1, 2, 4, 4, 1, 4, 5, 3, 5, 4, 4, 5, 1, 5, 5, 1, 4])"
      ]
     },
     "execution_count": 26,
     "metadata": {},
     "output_type": "execute_result"
    }
   ],
   "source": [
    "clf.predict(X_test_scaled)"
   ]
  },
  {
   "cell_type": "markdown",
   "metadata": {
    "slideshow": {
     "slide_type": "slide"
    }
   },
   "source": [
    "### Ricreiamo lo stesso algoritmo ma...\n",
    "\n",
    "Con sole due feature scelte a caso tra le 120: la 3 e la 106"
   ]
  },
  {
   "cell_type": "code",
   "execution_count": 27,
   "metadata": {
    "slideshow": {
     "slide_type": "fragment"
    }
   },
   "outputs": [],
   "source": [
    "X_train_scaled_reduced = X_train_scaled[:,[3,106]]\n",
    "X_test_scaled_reduced = X_test_scaled[:,[3,106]]"
   ]
  },
  {
   "cell_type": "code",
   "execution_count": 28,
   "metadata": {
    "slideshow": {
     "slide_type": "fragment"
    }
   },
   "outputs": [
    {
     "data": {
      "text/plain": [
       "KNeighborsClassifier(algorithm='auto', leaf_size=30, metric='minkowski',\n",
       "           metric_params=None, n_jobs=1, n_neighbors=20, p=2,\n",
       "           weights='uniform')"
      ]
     },
     "execution_count": 28,
     "metadata": {},
     "output_type": "execute_result"
    }
   ],
   "source": [
    "n_neighbors = 20\n",
    "clf_reduced = neighbors.KNeighborsClassifier(n_neighbors)\n",
    "clf_reduced.fit(X_train_scaled_reduced, y_train)"
   ]
  },
  {
   "cell_type": "code",
   "execution_count": 29,
   "metadata": {
    "slideshow": {
     "slide_type": "fragment"
    }
   },
   "outputs": [
    {
     "data": {
      "text/plain": [
       "0.60956175298804782"
      ]
     },
     "execution_count": 29,
     "metadata": {},
     "output_type": "execute_result"
    }
   ],
   "source": [
    "clf_reduced.score(X_test_scaled_reduced, y_test)"
   ]
  },
  {
   "cell_type": "code",
   "execution_count": 30,
   "metadata": {
    "slideshow": {
     "slide_type": "slide"
    }
   },
   "outputs": [
    {
     "data": {
      "image/png": "[encoded data removed]",
      "text/plain": [
       "<matplotlib.figure.Figure at 0x119963590>"
      ]
     },
     "metadata": {},
     "output_type": "display_data"
    }
   ],
   "source": [
    "cmap_light = ListedColormap(['#FFAAAA', '#AAFFAA', '#AAAAFF'])\n",
    "cmap_bold = ListedColormap(['#FF0000', '#00FF00', '#0000FF', '#0FF000', '#000FF0'])\n",
    "\n",
    "# Plot the decision boundary. For that, we will assign a color to each\n",
    "# point in the mesh [x_min, x_max]x[y_min, y_max].\n",
    "x_min, x_max = X_train_scaled_reduced[:, 0].min() - 1, X_train_scaled_reduced[:, 0].max() + 1\n",
    "y_min, y_max = X_train_scaled_reduced[:, 1].min() - 1, X_train_scaled_reduced[:, 1].max() + 1\n",
    "xx, yy = np.meshgrid(np.arange(x_min, x_max, h), np.arange(y_min, y_max, h))\n",
    "Z = clf_reduced.predict(np.c_[xx.ravel(), yy.ravel()])\n",
    "\n",
    "# Put the result into a color plot\n",
    "Z = Z.reshape(xx.shape)\n",
    "plt.figure(figsize=(10,10))\n",
    "plt.pcolormesh(xx, yy, Z)\n",
    "\n",
    "# Plot also the training points\n",
    "plt.scatter(X_train_scaled_reduced[:, 0], X_train_scaled_reduced[:, 1], c=y_train-1, edgecolor='k', s=20)\n",
    "plt.xlim(xx.min(), xx.max())\n",
    "plt.ylim(yy.min(), yy.max())\n",
    "plt.show()"
   ]
  },
  {
   "cell_type": "markdown",
   "metadata": {
    "slideshow": {
     "slide_type": "slide"
    }
   },
   "source": [
    "### Passiamo ad un algortimo più sofisticato: Random Forest!\n",
    "\n",
    "Si tratta di un algoritmo di tipo ensemble: l'idea è di combinare le predizioni di molti estimatori semplici in modo da migliorare la robustezza e la la capacità di generalizzare.\n",
    "\n",
    "Consideriamo la famiglia * averaging ensembe methods *, ovvero quegli algoritmi in cui si costruiscono tanti singoli modelli indipendenti e poi di prende la media delle loro predizioni!\n",
    "\n",
    "Notebook: *WhatAreRandomForest.ipynb*"
   ]
  },
  {
   "cell_type": "code",
   "execution_count": 186,
   "metadata": {},
   "outputs": [],
   "source": [
    "### Applichiamo Random Forest ai movimenti"
   ]
  },
  {
   "cell_type": "code",
   "execution_count": 31,
   "metadata": {
    "slideshow": {
     "slide_type": "slide"
    }
   },
   "outputs": [
    {
     "data": {
      "text/html": [
       "<div>\n",
       "<style>\n",
       "    .dataframe thead tr:only-child th {\n",
       "        text-align: right;\n",
       "    }\n",
       "\n",
       "    .dataframe thead th {\n",
       "        text-align: left;\n",
       "    }\n",
       "\n",
       "    .dataframe tbody tr th {\n",
       "        vertical-align: top;\n",
       "    }\n",
       "</style>\n",
       "<table border=\"1\" class=\"dataframe\">\n",
       "  <thead>\n",
       "    <tr style=\"text-align: right;\">\n",
       "      <th></th>\n",
       "      <th>Ax_1</th>\n",
       "      <th>Ax_2</th>\n",
       "      <th>Ax_3</th>\n",
       "      <th>Ax_4</th>\n",
       "      <th>Ax_5</th>\n",
       "      <th>Ax_6</th>\n",
       "      <th>Ax_7</th>\n",
       "      <th>Ax_8</th>\n",
       "      <th>Ax_9</th>\n",
       "      <th>Ax_10</th>\n",
       "      <th>...</th>\n",
       "      <th>Gz_12</th>\n",
       "      <th>Gz_13</th>\n",
       "      <th>Gz_14</th>\n",
       "      <th>Gz_15</th>\n",
       "      <th>Gz_16</th>\n",
       "      <th>Gz_17</th>\n",
       "      <th>Gz_18</th>\n",
       "      <th>Gz_19</th>\n",
       "      <th>Gz_20</th>\n",
       "      <th>movement</th>\n",
       "    </tr>\n",
       "  </thead>\n",
       "  <tbody>\n",
       "    <tr>\n",
       "      <th>1.524893e+09</th>\n",
       "      <td>0.0</td>\n",
       "      <td>0.0</td>\n",
       "      <td>0.0</td>\n",
       "      <td>0.0</td>\n",
       "      <td>0.0</td>\n",
       "      <td>0.0</td>\n",
       "      <td>0.0</td>\n",
       "      <td>0.0</td>\n",
       "      <td>0.0</td>\n",
       "      <td>0.0</td>\n",
       "      <td>...</td>\n",
       "      <td>0.0</td>\n",
       "      <td>0.0</td>\n",
       "      <td>0.0</td>\n",
       "      <td>0.0</td>\n",
       "      <td>0.000000</td>\n",
       "      <td>0.000000</td>\n",
       "      <td>0.000000</td>\n",
       "      <td>0.000000</td>\n",
       "      <td>-22.458015</td>\n",
       "      <td>1</td>\n",
       "    </tr>\n",
       "    <tr>\n",
       "      <th>1.524893e+09</th>\n",
       "      <td>0.0</td>\n",
       "      <td>0.0</td>\n",
       "      <td>0.0</td>\n",
       "      <td>0.0</td>\n",
       "      <td>0.0</td>\n",
       "      <td>0.0</td>\n",
       "      <td>0.0</td>\n",
       "      <td>0.0</td>\n",
       "      <td>0.0</td>\n",
       "      <td>0.0</td>\n",
       "      <td>...</td>\n",
       "      <td>0.0</td>\n",
       "      <td>0.0</td>\n",
       "      <td>0.0</td>\n",
       "      <td>0.0</td>\n",
       "      <td>0.000000</td>\n",
       "      <td>0.000000</td>\n",
       "      <td>0.000000</td>\n",
       "      <td>-22.458015</td>\n",
       "      <td>-29.381679</td>\n",
       "      <td>1</td>\n",
       "    </tr>\n",
       "    <tr>\n",
       "      <th>1.524893e+09</th>\n",
       "      <td>0.0</td>\n",
       "      <td>0.0</td>\n",
       "      <td>0.0</td>\n",
       "      <td>0.0</td>\n",
       "      <td>0.0</td>\n",
       "      <td>0.0</td>\n",
       "      <td>0.0</td>\n",
       "      <td>0.0</td>\n",
       "      <td>0.0</td>\n",
       "      <td>0.0</td>\n",
       "      <td>...</td>\n",
       "      <td>0.0</td>\n",
       "      <td>0.0</td>\n",
       "      <td>0.0</td>\n",
       "      <td>0.0</td>\n",
       "      <td>0.000000</td>\n",
       "      <td>0.000000</td>\n",
       "      <td>-22.458015</td>\n",
       "      <td>-29.381679</td>\n",
       "      <td>-24.106870</td>\n",
       "      <td>1</td>\n",
       "    </tr>\n",
       "    <tr>\n",
       "      <th>1.524893e+09</th>\n",
       "      <td>0.0</td>\n",
       "      <td>0.0</td>\n",
       "      <td>0.0</td>\n",
       "      <td>0.0</td>\n",
       "      <td>0.0</td>\n",
       "      <td>0.0</td>\n",
       "      <td>0.0</td>\n",
       "      <td>0.0</td>\n",
       "      <td>0.0</td>\n",
       "      <td>0.0</td>\n",
       "      <td>...</td>\n",
       "      <td>0.0</td>\n",
       "      <td>0.0</td>\n",
       "      <td>0.0</td>\n",
       "      <td>0.0</td>\n",
       "      <td>0.000000</td>\n",
       "      <td>-22.458015</td>\n",
       "      <td>-29.381679</td>\n",
       "      <td>-24.106870</td>\n",
       "      <td>-14.061069</td>\n",
       "      <td>1</td>\n",
       "    </tr>\n",
       "    <tr>\n",
       "      <th>1.524893e+09</th>\n",
       "      <td>0.0</td>\n",
       "      <td>0.0</td>\n",
       "      <td>0.0</td>\n",
       "      <td>0.0</td>\n",
       "      <td>0.0</td>\n",
       "      <td>0.0</td>\n",
       "      <td>0.0</td>\n",
       "      <td>0.0</td>\n",
       "      <td>0.0</td>\n",
       "      <td>0.0</td>\n",
       "      <td>...</td>\n",
       "      <td>0.0</td>\n",
       "      <td>0.0</td>\n",
       "      <td>0.0</td>\n",
       "      <td>0.0</td>\n",
       "      <td>-22.458015</td>\n",
       "      <td>-29.381679</td>\n",
       "      <td>-24.106870</td>\n",
       "      <td>-14.061069</td>\n",
       "      <td>-1.458015</td>\n",
       "      <td>1</td>\n",
       "    </tr>\n",
       "  </tbody>\n",
       "</table>\n",
       "<p>5 rows × 121 columns</p>\n",
       "</div>"
      ],
      "text/plain": [
       "              Ax_1  Ax_2  Ax_3  Ax_4  Ax_5  Ax_6  Ax_7  Ax_8  Ax_9  Ax_10  \\\n",
       "1.524893e+09   0.0   0.0   0.0   0.0   0.0   0.0   0.0   0.0   0.0    0.0   \n",
       "1.524893e+09   0.0   0.0   0.0   0.0   0.0   0.0   0.0   0.0   0.0    0.0   \n",
       "1.524893e+09   0.0   0.0   0.0   0.0   0.0   0.0   0.0   0.0   0.0    0.0   \n",
       "1.524893e+09   0.0   0.0   0.0   0.0   0.0   0.0   0.0   0.0   0.0    0.0   \n",
       "1.524893e+09   0.0   0.0   0.0   0.0   0.0   0.0   0.0   0.0   0.0    0.0   \n",
       "\n",
       "                ...     Gz_12  Gz_13  Gz_14  Gz_15      Gz_16      Gz_17  \\\n",
       "1.524893e+09    ...       0.0    0.0    0.0    0.0   0.000000   0.000000   \n",
       "1.524893e+09    ...       0.0    0.0    0.0    0.0   0.000000   0.000000   \n",
       "1.524893e+09    ...       0.0    0.0    0.0    0.0   0.000000   0.000000   \n",
       "1.524893e+09    ...       0.0    0.0    0.0    0.0   0.000000 -22.458015   \n",
       "1.524893e+09    ...       0.0    0.0    0.0    0.0 -22.458015 -29.381679   \n",
       "\n",
       "                  Gz_18      Gz_19      Gz_20  movement  \n",
       "1.524893e+09   0.000000   0.000000 -22.458015         1  \n",
       "1.524893e+09   0.000000 -22.458015 -29.381679         1  \n",
       "1.524893e+09 -22.458015 -29.381679 -24.106870         1  \n",
       "1.524893e+09 -29.381679 -24.106870 -14.061069         1  \n",
       "1.524893e+09 -24.106870 -14.061069  -1.458015         1  \n",
       "\n",
       "[5 rows x 121 columns]"
      ]
     },
     "execution_count": 31,
     "metadata": {},
     "output_type": "execute_result"
    }
   ],
   "source": [
    "header = [name + '_' + str(i) for name in ['Ax','Ay','Az','Gx','Gy','Gz'] for i in range(1,21)]+['movement']\n",
    "data = pd.read_csv('movements.csv', header=None, index_col=0, names=header)\n",
    "data.head()"
   ]
  },
  {
   "cell_type": "code",
   "execution_count": 32,
   "metadata": {
    "slideshow": {
     "slide_type": "fragment"
    }
   },
   "outputs": [],
   "source": [
    "from sklearn.ensemble import RandomForestClassifier"
   ]
  },
  {
   "cell_type": "markdown",
   "metadata": {
    "slideshow": {
     "slide_type": "slide"
    }
   },
   "source": [
    "Estraiamo i nomi delle features:"
   ]
  },
  {
   "cell_type": "code",
   "execution_count": 33,
   "metadata": {
    "slideshow": {
     "slide_type": "fragment"
    }
   },
   "outputs": [
    {
     "name": "stdout",
     "output_type": "stream",
     "text": [
      "['Ax_1', 'Ax_2', 'Ax_3', 'Ax_4', 'Ax_5', 'Ax_6', 'Ax_7', 'Ax_8', 'Ax_9', 'Ax_10', 'Ax_11', 'Ax_12', 'Ax_13', 'Ax_14', 'Ax_15', 'Ax_16', 'Ax_17', 'Ax_18', 'Ax_19', 'Ax_20', 'Ay_1', 'Ay_2', 'Ay_3', 'Ay_4', 'Ay_5', 'Ay_6', 'Ay_7', 'Ay_8', 'Ay_9', 'Ay_10', 'Ay_11', 'Ay_12', 'Ay_13', 'Ay_14', 'Ay_15', 'Ay_16', 'Ay_17', 'Ay_18', 'Ay_19', 'Ay_20', 'Az_1', 'Az_2', 'Az_3', 'Az_4', 'Az_5', 'Az_6', 'Az_7', 'Az_8', 'Az_9', 'Az_10', 'Az_11', 'Az_12', 'Az_13', 'Az_14', 'Az_15', 'Az_16', 'Az_17', 'Az_18', 'Az_19', 'Az_20', 'Gx_1', 'Gx_2', 'Gx_3', 'Gx_4', 'Gx_5', 'Gx_6', 'Gx_7', 'Gx_8', 'Gx_9', 'Gx_10', 'Gx_11', 'Gx_12', 'Gx_13', 'Gx_14', 'Gx_15', 'Gx_16', 'Gx_17', 'Gx_18', 'Gx_19', 'Gx_20', 'Gy_1', 'Gy_2', 'Gy_3', 'Gy_4', 'Gy_5', 'Gy_6', 'Gy_7', 'Gy_8', 'Gy_9', 'Gy_10', 'Gy_11', 'Gy_12', 'Gy_13', 'Gy_14', 'Gy_15', 'Gy_16', 'Gy_17', 'Gy_18', 'Gy_19', 'Gy_20', 'Gz_1', 'Gz_2', 'Gz_3', 'Gz_4', 'Gz_5', 'Gz_6', 'Gz_7', 'Gz_8', 'Gz_9', 'Gz_10', 'Gz_11', 'Gz_12', 'Gz_13', 'Gz_14', 'Gz_15', 'Gz_16', 'Gz_17', 'Gz_18', 'Gz_19', 'Gz_20']\n"
     ]
    }
   ],
   "source": [
    "features = [col for col in data.columns.tolist() if col!='movement']\n",
    "print features"
   ]
  },
  {
   "cell_type": "markdown",
   "metadata": {
    "slideshow": {
     "slide_type": "slide"
    }
   },
   "source": [
    "Scombiamo a caso l'ordine dei campioni..."
   ]
  },
  {
   "cell_type": "code",
   "execution_count": 34,
   "metadata": {
    "slideshow": {
     "slide_type": "fragment"
    }
   },
   "outputs": [
    {
     "data": {
      "text/html": [
       "<div>\n",
       "<style>\n",
       "    .dataframe thead tr:only-child th {\n",
       "        text-align: right;\n",
       "    }\n",
       "\n",
       "    .dataframe thead th {\n",
       "        text-align: left;\n",
       "    }\n",
       "\n",
       "    .dataframe tbody tr th {\n",
       "        vertical-align: top;\n",
       "    }\n",
       "</style>\n",
       "<table border=\"1\" class=\"dataframe\">\n",
       "  <thead>\n",
       "    <tr style=\"text-align: right;\">\n",
       "      <th></th>\n",
       "      <th>Ax_1</th>\n",
       "      <th>Ax_2</th>\n",
       "      <th>Ax_3</th>\n",
       "      <th>Ax_4</th>\n",
       "      <th>Ax_5</th>\n",
       "      <th>Ax_6</th>\n",
       "      <th>Ax_7</th>\n",
       "      <th>Ax_8</th>\n",
       "      <th>Ax_9</th>\n",
       "      <th>Ax_10</th>\n",
       "      <th>...</th>\n",
       "      <th>Gz_12</th>\n",
       "      <th>Gz_13</th>\n",
       "      <th>Gz_14</th>\n",
       "      <th>Gz_15</th>\n",
       "      <th>Gz_16</th>\n",
       "      <th>Gz_17</th>\n",
       "      <th>Gz_18</th>\n",
       "      <th>Gz_19</th>\n",
       "      <th>Gz_20</th>\n",
       "      <th>movement</th>\n",
       "    </tr>\n",
       "  </thead>\n",
       "  <tbody>\n",
       "    <tr>\n",
       "      <th>1.524893e+09</th>\n",
       "      <td>0.000000</td>\n",
       "      <td>0.000000</td>\n",
       "      <td>0.000000</td>\n",
       "      <td>0.000000</td>\n",
       "      <td>0.000000</td>\n",
       "      <td>0.000000</td>\n",
       "      <td>0.000000</td>\n",
       "      <td>0.000000</td>\n",
       "      <td>0.000000</td>\n",
       "      <td>0.000000</td>\n",
       "      <td>...</td>\n",
       "      <td>0.000000</td>\n",
       "      <td>0.000000</td>\n",
       "      <td>0.000000</td>\n",
       "      <td>0.000000</td>\n",
       "      <td>3.816794</td>\n",
       "      <td>2.648855</td>\n",
       "      <td>0.717557</td>\n",
       "      <td>-1.396947</td>\n",
       "      <td>-3.335878</td>\n",
       "      <td>5</td>\n",
       "    </tr>\n",
       "    <tr>\n",
       "      <th>1.524893e+09</th>\n",
       "      <td>-0.119141</td>\n",
       "      <td>0.048096</td>\n",
       "      <td>0.230713</td>\n",
       "      <td>0.518311</td>\n",
       "      <td>0.661377</td>\n",
       "      <td>0.799561</td>\n",
       "      <td>1.241455</td>\n",
       "      <td>1.398926</td>\n",
       "      <td>1.328125</td>\n",
       "      <td>0.726562</td>\n",
       "      <td>...</td>\n",
       "      <td>-5.244275</td>\n",
       "      <td>-10.167939</td>\n",
       "      <td>-11.832061</td>\n",
       "      <td>-13.885496</td>\n",
       "      <td>-16.435115</td>\n",
       "      <td>-15.328244</td>\n",
       "      <td>-15.183206</td>\n",
       "      <td>-15.977099</td>\n",
       "      <td>-15.053435</td>\n",
       "      <td>2</td>\n",
       "    </tr>\n",
       "    <tr>\n",
       "      <th>1.524893e+09</th>\n",
       "      <td>1.311768</td>\n",
       "      <td>1.523438</td>\n",
       "      <td>1.599121</td>\n",
       "      <td>1.566650</td>\n",
       "      <td>1.530273</td>\n",
       "      <td>1.425781</td>\n",
       "      <td>1.227295</td>\n",
       "      <td>0.933105</td>\n",
       "      <td>0.642334</td>\n",
       "      <td>0.333008</td>\n",
       "      <td>...</td>\n",
       "      <td>-4.381679</td>\n",
       "      <td>4.358779</td>\n",
       "      <td>12.106870</td>\n",
       "      <td>21.145038</td>\n",
       "      <td>30.488550</td>\n",
       "      <td>37.778626</td>\n",
       "      <td>43.709924</td>\n",
       "      <td>46.061069</td>\n",
       "      <td>49.137405</td>\n",
       "      <td>3</td>\n",
       "    </tr>\n",
       "    <tr>\n",
       "      <th>1.524893e+09</th>\n",
       "      <td>1.302246</td>\n",
       "      <td>1.143799</td>\n",
       "      <td>1.148682</td>\n",
       "      <td>1.192627</td>\n",
       "      <td>1.073242</td>\n",
       "      <td>0.956299</td>\n",
       "      <td>0.990967</td>\n",
       "      <td>0.975342</td>\n",
       "      <td>1.016113</td>\n",
       "      <td>0.958740</td>\n",
       "      <td>...</td>\n",
       "      <td>-4.007634</td>\n",
       "      <td>-2.618321</td>\n",
       "      <td>-0.847328</td>\n",
       "      <td>0.106870</td>\n",
       "      <td>0.641221</td>\n",
       "      <td>1.526718</td>\n",
       "      <td>2.435115</td>\n",
       "      <td>1.671756</td>\n",
       "      <td>-0.648855</td>\n",
       "      <td>5</td>\n",
       "    </tr>\n",
       "    <tr>\n",
       "      <th>1.524893e+09</th>\n",
       "      <td>0.624268</td>\n",
       "      <td>0.407959</td>\n",
       "      <td>0.202393</td>\n",
       "      <td>-0.019287</td>\n",
       "      <td>-0.115967</td>\n",
       "      <td>-0.002197</td>\n",
       "      <td>0.120605</td>\n",
       "      <td>0.335693</td>\n",
       "      <td>0.548096</td>\n",
       "      <td>0.668457</td>\n",
       "      <td>...</td>\n",
       "      <td>41.053435</td>\n",
       "      <td>41.412214</td>\n",
       "      <td>40.083969</td>\n",
       "      <td>26.229008</td>\n",
       "      <td>13.160305</td>\n",
       "      <td>-2.816794</td>\n",
       "      <td>-13.053435</td>\n",
       "      <td>-21.320611</td>\n",
       "      <td>-28.068702</td>\n",
       "      <td>1</td>\n",
       "    </tr>\n",
       "    <tr>\n",
       "      <th>1.524893e+09</th>\n",
       "      <td>1.418945</td>\n",
       "      <td>1.302246</td>\n",
       "      <td>1.143799</td>\n",
       "      <td>1.148682</td>\n",
       "      <td>1.192627</td>\n",
       "      <td>1.073242</td>\n",
       "      <td>0.956299</td>\n",
       "      <td>0.990967</td>\n",
       "      <td>0.975342</td>\n",
       "      <td>1.016113</td>\n",
       "      <td>...</td>\n",
       "      <td>-5.175573</td>\n",
       "      <td>-4.007634</td>\n",
       "      <td>-2.618321</td>\n",
       "      <td>-0.847328</td>\n",
       "      <td>0.106870</td>\n",
       "      <td>0.641221</td>\n",
       "      <td>1.526718</td>\n",
       "      <td>2.435115</td>\n",
       "      <td>1.671756</td>\n",
       "      <td>5</td>\n",
       "    </tr>\n",
       "    <tr>\n",
       "      <th>1.524893e+09</th>\n",
       "      <td>0.923096</td>\n",
       "      <td>0.903076</td>\n",
       "      <td>0.931152</td>\n",
       "      <td>0.937500</td>\n",
       "      <td>0.987061</td>\n",
       "      <td>1.006592</td>\n",
       "      <td>1.037354</td>\n",
       "      <td>1.069336</td>\n",
       "      <td>1.105225</td>\n",
       "      <td>1.148926</td>\n",
       "      <td>...</td>\n",
       "      <td>9.893130</td>\n",
       "      <td>7.488550</td>\n",
       "      <td>5.923664</td>\n",
       "      <td>5.381679</td>\n",
       "      <td>4.007634</td>\n",
       "      <td>2.549618</td>\n",
       "      <td>1.282443</td>\n",
       "      <td>-0.305344</td>\n",
       "      <td>-1.740458</td>\n",
       "      <td>5</td>\n",
       "    </tr>\n",
       "    <tr>\n",
       "      <th>1.524893e+09</th>\n",
       "      <td>1.062988</td>\n",
       "      <td>1.065674</td>\n",
       "      <td>1.047363</td>\n",
       "      <td>1.049316</td>\n",
       "      <td>1.002686</td>\n",
       "      <td>0.976318</td>\n",
       "      <td>0.926758</td>\n",
       "      <td>0.983398</td>\n",
       "      <td>1.018799</td>\n",
       "      <td>1.009033</td>\n",
       "      <td>...</td>\n",
       "      <td>0.229008</td>\n",
       "      <td>-2.778626</td>\n",
       "      <td>-5.297710</td>\n",
       "      <td>-7.389313</td>\n",
       "      <td>-9.129771</td>\n",
       "      <td>-9.648855</td>\n",
       "      <td>-8.610687</td>\n",
       "      <td>-7.725191</td>\n",
       "      <td>-7.778626</td>\n",
       "      <td>4</td>\n",
       "    </tr>\n",
       "    <tr>\n",
       "      <th>1.524893e+09</th>\n",
       "      <td>0.249023</td>\n",
       "      <td>0.521973</td>\n",
       "      <td>0.852539</td>\n",
       "      <td>1.500244</td>\n",
       "      <td>1.743408</td>\n",
       "      <td>1.999939</td>\n",
       "      <td>1.999939</td>\n",
       "      <td>1.988037</td>\n",
       "      <td>1.604248</td>\n",
       "      <td>1.273438</td>\n",
       "      <td>...</td>\n",
       "      <td>-17.824427</td>\n",
       "      <td>-20.534351</td>\n",
       "      <td>-31.038168</td>\n",
       "      <td>-40.145038</td>\n",
       "      <td>-42.320611</td>\n",
       "      <td>-42.946565</td>\n",
       "      <td>-40.030534</td>\n",
       "      <td>-34.160305</td>\n",
       "      <td>-25.961832</td>\n",
       "      <td>3</td>\n",
       "    </tr>\n",
       "    <tr>\n",
       "      <th>1.524893e+09</th>\n",
       "      <td>0.988525</td>\n",
       "      <td>1.083984</td>\n",
       "      <td>1.166748</td>\n",
       "      <td>1.071289</td>\n",
       "      <td>0.963379</td>\n",
       "      <td>1.070312</td>\n",
       "      <td>1.188232</td>\n",
       "      <td>1.205078</td>\n",
       "      <td>1.139893</td>\n",
       "      <td>1.104736</td>\n",
       "      <td>...</td>\n",
       "      <td>-8.412214</td>\n",
       "      <td>-9.145038</td>\n",
       "      <td>-8.671756</td>\n",
       "      <td>-7.572519</td>\n",
       "      <td>-6.297710</td>\n",
       "      <td>-5.160305</td>\n",
       "      <td>-3.763359</td>\n",
       "      <td>-1.916031</td>\n",
       "      <td>-0.091603</td>\n",
       "      <td>5</td>\n",
       "    </tr>\n",
       "  </tbody>\n",
       "</table>\n",
       "<p>10 rows × 121 columns</p>\n",
       "</div>"
      ],
      "text/plain": [
       "                  Ax_1      Ax_2      Ax_3      Ax_4      Ax_5      Ax_6  \\\n",
       "1.524893e+09  0.000000  0.000000  0.000000  0.000000  0.000000  0.000000   \n",
       "1.524893e+09 -0.119141  0.048096  0.230713  0.518311  0.661377  0.799561   \n",
       "1.524893e+09  1.311768  1.523438  1.599121  1.566650  1.530273  1.425781   \n",
       "1.524893e+09  1.302246  1.143799  1.148682  1.192627  1.073242  0.956299   \n",
       "1.524893e+09  0.624268  0.407959  0.202393 -0.019287 -0.115967 -0.002197   \n",
       "1.524893e+09  1.418945  1.302246  1.143799  1.148682  1.192627  1.073242   \n",
       "1.524893e+09  0.923096  0.903076  0.931152  0.937500  0.987061  1.006592   \n",
       "1.524893e+09  1.062988  1.065674  1.047363  1.049316  1.002686  0.976318   \n",
       "1.524893e+09  0.249023  0.521973  0.852539  1.500244  1.743408  1.999939   \n",
       "1.524893e+09  0.988525  1.083984  1.166748  1.071289  0.963379  1.070312   \n",
       "\n",
       "                  Ax_7      Ax_8      Ax_9     Ax_10    ...         Gz_12  \\\n",
       "1.524893e+09  0.000000  0.000000  0.000000  0.000000    ...      0.000000   \n",
       "1.524893e+09  1.241455  1.398926  1.328125  0.726562    ...     -5.244275   \n",
       "1.524893e+09  1.227295  0.933105  0.642334  0.333008    ...     -4.381679   \n",
       "1.524893e+09  0.990967  0.975342  1.016113  0.958740    ...     -4.007634   \n",
       "1.524893e+09  0.120605  0.335693  0.548096  0.668457    ...     41.053435   \n",
       "1.524893e+09  0.956299  0.990967  0.975342  1.016113    ...     -5.175573   \n",
       "1.524893e+09  1.037354  1.069336  1.105225  1.148926    ...      9.893130   \n",
       "1.524893e+09  0.926758  0.983398  1.018799  1.009033    ...      0.229008   \n",
       "1.524893e+09  1.999939  1.988037  1.604248  1.273438    ...    -17.824427   \n",
       "1.524893e+09  1.188232  1.205078  1.139893  1.104736    ...     -8.412214   \n",
       "\n",
       "                  Gz_13      Gz_14      Gz_15      Gz_16      Gz_17  \\\n",
       "1.524893e+09   0.000000   0.000000   0.000000   3.816794   2.648855   \n",
       "1.524893e+09 -10.167939 -11.832061 -13.885496 -16.435115 -15.328244   \n",
       "1.524893e+09   4.358779  12.106870  21.145038  30.488550  37.778626   \n",
       "1.524893e+09  -2.618321  -0.847328   0.106870   0.641221   1.526718   \n",
       "1.524893e+09  41.412214  40.083969  26.229008  13.160305  -2.816794   \n",
       "1.524893e+09  -4.007634  -2.618321  -0.847328   0.106870   0.641221   \n",
       "1.524893e+09   7.488550   5.923664   5.381679   4.007634   2.549618   \n",
       "1.524893e+09  -2.778626  -5.297710  -7.389313  -9.129771  -9.648855   \n",
       "1.524893e+09 -20.534351 -31.038168 -40.145038 -42.320611 -42.946565   \n",
       "1.524893e+09  -9.145038  -8.671756  -7.572519  -6.297710  -5.160305   \n",
       "\n",
       "                  Gz_18      Gz_19      Gz_20  movement  \n",
       "1.524893e+09   0.717557  -1.396947  -3.335878         5  \n",
       "1.524893e+09 -15.183206 -15.977099 -15.053435         2  \n",
       "1.524893e+09  43.709924  46.061069  49.137405         3  \n",
       "1.524893e+09   2.435115   1.671756  -0.648855         5  \n",
       "1.524893e+09 -13.053435 -21.320611 -28.068702         1  \n",
       "1.524893e+09   1.526718   2.435115   1.671756         5  \n",
       "1.524893e+09   1.282443  -0.305344  -1.740458         5  \n",
       "1.524893e+09  -8.610687  -7.725191  -7.778626         4  \n",
       "1.524893e+09 -40.030534 -34.160305 -25.961832         3  \n",
       "1.524893e+09  -3.763359  -1.916031  -0.091603         5  \n",
       "\n",
       "[10 rows x 121 columns]"
      ]
     },
     "execution_count": 34,
     "metadata": {},
     "output_type": "execute_result"
    }
   ],
   "source": [
    "shuffled_data = data.sample(frac=1)\n",
    "shuffled_data.head(10)"
   ]
  },
  {
   "cell_type": "markdown",
   "metadata": {
    "slideshow": {
     "slide_type": "slide"
    }
   },
   "source": [
    "** Ora proviamo a costruire un classificatore Random Forest! **\n",
    "\n",
    "Essendo nella fase di sviluppo del modello per prima cosa occorre separare i dati in:\n",
    "* training data\n",
    "* test data"
   ]
  },
  {
   "cell_type": "code",
   "execution_count": 35,
   "metadata": {
    "slideshow": {
     "slide_type": "fragment"
    }
   },
   "outputs": [
    {
     "name": "stdout",
     "output_type": "stream",
     "text": [
      "N of train samples = 500,  N of test samples = 251\n"
     ]
    }
   ],
   "source": [
    "n_of_train_samples = 500\n",
    "n_of_test_samples = len(data) - n_of_train_samples\n",
    "\n",
    "train_data = shuffled_data.iloc[0:n_of_train_samples]\n",
    "test_data = shuffled_data.iloc[n_of_train_samples:len(shuffled_data)]\n",
    "\n",
    "print \"N of train samples = %i,  N of test samples = %i\"%(n_of_train_samples, n_of_test_samples)"
   ]
  },
  {
   "cell_type": "markdown",
   "metadata": {
    "slideshow": {
     "slide_type": "slide"
    }
   },
   "source": [
    "### Creazione dei dataset di test e di training"
   ]
  },
  {
   "cell_type": "code",
   "execution_count": 36,
   "metadata": {
    "slideshow": {
     "slide_type": "fragment"
    }
   },
   "outputs": [],
   "source": [
    "X_train = train_data[features].values\n",
    "X_test = test_data[features].values\n",
    "\n",
    "y_train = train_data['movement'].values\n",
    "y_test = test_data['movement'].values"
   ]
  },
  {
   "cell_type": "markdown",
   "metadata": {
    "slideshow": {
     "slide_type": "slide"
    }
   },
   "source": [
    "### Creiamo l'algoritmo"
   ]
  },
  {
   "cell_type": "code",
   "execution_count": 37,
   "metadata": {
    "slideshow": {
     "slide_type": "fragment"
    }
   },
   "outputs": [
    {
     "data": {
      "text/plain": [
       "RandomForestClassifier(bootstrap=True, class_weight=None, criterion='gini',\n",
       "            max_depth=3, max_features='auto', max_leaf_nodes=None,\n",
       "            min_impurity_decrease=0.0, min_impurity_split=None,\n",
       "            min_samples_leaf=1, min_samples_split=2,\n",
       "            min_weight_fraction_leaf=0.0, n_estimators=100, n_jobs=1,\n",
       "            oob_score=False, random_state=0, verbose=0, warm_start=False)"
      ]
     },
     "execution_count": 37,
     "metadata": {},
     "output_type": "execute_result"
    }
   ],
   "source": [
    "max_depth=3\n",
    "n_estimators=100\n",
    "clf = RandomForestClassifier(max_depth=max_depth, n_estimators=n_estimators, random_state=0)\n",
    "clf.fit(X_train, y_train)"
   ]
  },
  {
   "cell_type": "markdown",
   "metadata": {
    "slideshow": {
     "slide_type": "fragment"
    }
   },
   "source": [
    "Utilizzando questo modello calcoliamo la percentuale di movimenti classificati correttamente all'interno del test dataset..."
   ]
  },
  {
   "cell_type": "code",
   "execution_count": 38,
   "metadata": {
    "slideshow": {
     "slide_type": "fragment"
    }
   },
   "outputs": [
    {
     "data": {
      "text/plain": [
       "0.89641434262948205"
      ]
     },
     "execution_count": 38,
     "metadata": {},
     "output_type": "execute_result"
    }
   ],
   "source": [
    "clf.score(X_test, y_test)"
   ]
  },
  {
   "cell_type": "markdown",
   "metadata": {
    "slideshow": {
     "slide_type": "fragment"
    }
   },
   "source": [
    "## Funziona!"
   ]
  },
  {
   "cell_type": "code",
   "execution_count": 39,
   "metadata": {},
   "outputs": [
    {
     "data": {
      "text/html": [
       "<div>\n",
       "<style>\n",
       "    .dataframe thead tr:only-child th {\n",
       "        text-align: right;\n",
       "    }\n",
       "\n",
       "    .dataframe thead th {\n",
       "        text-align: left;\n",
       "    }\n",
       "\n",
       "    .dataframe tbody tr th {\n",
       "        vertical-align: top;\n",
       "    }\n",
       "</style>\n",
       "<table border=\"1\" class=\"dataframe\">\n",
       "  <thead>\n",
       "    <tr style=\"text-align: right;\">\n",
       "      <th></th>\n",
       "      <th>Importance</th>\n",
       "    </tr>\n",
       "  </thead>\n",
       "  <tbody>\n",
       "    <tr>\n",
       "      <th>Az_16</th>\n",
       "      <td>0.052007</td>\n",
       "    </tr>\n",
       "    <tr>\n",
       "      <th>Az_20</th>\n",
       "      <td>0.050889</td>\n",
       "    </tr>\n",
       "    <tr>\n",
       "      <th>Az_13</th>\n",
       "      <td>0.043301</td>\n",
       "    </tr>\n",
       "    <tr>\n",
       "      <th>Az_18</th>\n",
       "      <td>0.041717</td>\n",
       "    </tr>\n",
       "    <tr>\n",
       "      <th>Az_8</th>\n",
       "      <td>0.039683</td>\n",
       "    </tr>\n",
       "    <tr>\n",
       "      <th>Az_7</th>\n",
       "      <td>0.035301</td>\n",
       "    </tr>\n",
       "    <tr>\n",
       "      <th>Az_17</th>\n",
       "      <td>0.031194</td>\n",
       "    </tr>\n",
       "    <tr>\n",
       "      <th>Az_1</th>\n",
       "      <td>0.029514</td>\n",
       "    </tr>\n",
       "    <tr>\n",
       "      <th>Az_14</th>\n",
       "      <td>0.028910</td>\n",
       "    </tr>\n",
       "    <tr>\n",
       "      <th>Az_9</th>\n",
       "      <td>0.026587</td>\n",
       "    </tr>\n",
       "    <tr>\n",
       "      <th>Az_19</th>\n",
       "      <td>0.024545</td>\n",
       "    </tr>\n",
       "    <tr>\n",
       "      <th>Az_15</th>\n",
       "      <td>0.024467</td>\n",
       "    </tr>\n",
       "    <tr>\n",
       "      <th>Az_12</th>\n",
       "      <td>0.023597</td>\n",
       "    </tr>\n",
       "    <tr>\n",
       "      <th>Gz_10</th>\n",
       "      <td>0.023549</td>\n",
       "    </tr>\n",
       "    <tr>\n",
       "      <th>Az_5</th>\n",
       "      <td>0.022277</td>\n",
       "    </tr>\n",
       "    <tr>\n",
       "      <th>Az_6</th>\n",
       "      <td>0.022124</td>\n",
       "    </tr>\n",
       "    <tr>\n",
       "      <th>Az_10</th>\n",
       "      <td>0.022002</td>\n",
       "    </tr>\n",
       "    <tr>\n",
       "      <th>Az_11</th>\n",
       "      <td>0.020024</td>\n",
       "    </tr>\n",
       "    <tr>\n",
       "      <th>Az_2</th>\n",
       "      <td>0.020000</td>\n",
       "    </tr>\n",
       "    <tr>\n",
       "      <th>Az_4</th>\n",
       "      <td>0.017492</td>\n",
       "    </tr>\n",
       "    <tr>\n",
       "      <th>Gz_20</th>\n",
       "      <td>0.015938</td>\n",
       "    </tr>\n",
       "    <tr>\n",
       "      <th>Ay_13</th>\n",
       "      <td>0.015702</td>\n",
       "    </tr>\n",
       "    <tr>\n",
       "      <th>Gz_13</th>\n",
       "      <td>0.014894</td>\n",
       "    </tr>\n",
       "    <tr>\n",
       "      <th>Gz_11</th>\n",
       "      <td>0.013770</td>\n",
       "    </tr>\n",
       "    <tr>\n",
       "      <th>Ax_16</th>\n",
       "      <td>0.012758</td>\n",
       "    </tr>\n",
       "    <tr>\n",
       "      <th>Gz_14</th>\n",
       "      <td>0.012547</td>\n",
       "    </tr>\n",
       "    <tr>\n",
       "      <th>Az_3</th>\n",
       "      <td>0.012499</td>\n",
       "    </tr>\n",
       "    <tr>\n",
       "      <th>Gz_18</th>\n",
       "      <td>0.011493</td>\n",
       "    </tr>\n",
       "    <tr>\n",
       "      <th>Gz_16</th>\n",
       "      <td>0.011326</td>\n",
       "    </tr>\n",
       "    <tr>\n",
       "      <th>Gz_15</th>\n",
       "      <td>0.011195</td>\n",
       "    </tr>\n",
       "    <tr>\n",
       "      <th>...</th>\n",
       "      <td>...</td>\n",
       "    </tr>\n",
       "    <tr>\n",
       "      <th>Ay_2</th>\n",
       "      <td>0.000412</td>\n",
       "    </tr>\n",
       "    <tr>\n",
       "      <th>Gy_1</th>\n",
       "      <td>0.000377</td>\n",
       "    </tr>\n",
       "    <tr>\n",
       "      <th>Gy_2</th>\n",
       "      <td>0.000376</td>\n",
       "    </tr>\n",
       "    <tr>\n",
       "      <th>Gx_4</th>\n",
       "      <td>0.000367</td>\n",
       "    </tr>\n",
       "    <tr>\n",
       "      <th>Gy_19</th>\n",
       "      <td>0.000360</td>\n",
       "    </tr>\n",
       "    <tr>\n",
       "      <th>Gx_14</th>\n",
       "      <td>0.000300</td>\n",
       "    </tr>\n",
       "    <tr>\n",
       "      <th>Gx_16</th>\n",
       "      <td>0.000297</td>\n",
       "    </tr>\n",
       "    <tr>\n",
       "      <th>Gz_1</th>\n",
       "      <td>0.000273</td>\n",
       "    </tr>\n",
       "    <tr>\n",
       "      <th>Gy_3</th>\n",
       "      <td>0.000252</td>\n",
       "    </tr>\n",
       "    <tr>\n",
       "      <th>Ay_5</th>\n",
       "      <td>0.000218</td>\n",
       "    </tr>\n",
       "    <tr>\n",
       "      <th>Gx_18</th>\n",
       "      <td>0.000197</td>\n",
       "    </tr>\n",
       "    <tr>\n",
       "      <th>Gx_15</th>\n",
       "      <td>0.000194</td>\n",
       "    </tr>\n",
       "    <tr>\n",
       "      <th>Gx_19</th>\n",
       "      <td>0.000190</td>\n",
       "    </tr>\n",
       "    <tr>\n",
       "      <th>Gx_1</th>\n",
       "      <td>0.000178</td>\n",
       "    </tr>\n",
       "    <tr>\n",
       "      <th>Gy_5</th>\n",
       "      <td>0.000133</td>\n",
       "    </tr>\n",
       "    <tr>\n",
       "      <th>Gx_2</th>\n",
       "      <td>0.000101</td>\n",
       "    </tr>\n",
       "    <tr>\n",
       "      <th>Gx_3</th>\n",
       "      <td>0.000100</td>\n",
       "    </tr>\n",
       "    <tr>\n",
       "      <th>Ay_18</th>\n",
       "      <td>0.000095</td>\n",
       "    </tr>\n",
       "    <tr>\n",
       "      <th>Gy_20</th>\n",
       "      <td>0.000094</td>\n",
       "    </tr>\n",
       "    <tr>\n",
       "      <th>Gy_15</th>\n",
       "      <td>0.000077</td>\n",
       "    </tr>\n",
       "    <tr>\n",
       "      <th>Gy_14</th>\n",
       "      <td>0.000000</td>\n",
       "    </tr>\n",
       "    <tr>\n",
       "      <th>Gx_7</th>\n",
       "      <td>0.000000</td>\n",
       "    </tr>\n",
       "    <tr>\n",
       "      <th>Gy_13</th>\n",
       "      <td>0.000000</td>\n",
       "    </tr>\n",
       "    <tr>\n",
       "      <th>Gx_8</th>\n",
       "      <td>0.000000</td>\n",
       "    </tr>\n",
       "    <tr>\n",
       "      <th>Gx_9</th>\n",
       "      <td>0.000000</td>\n",
       "    </tr>\n",
       "    <tr>\n",
       "      <th>Gx_10</th>\n",
       "      <td>0.000000</td>\n",
       "    </tr>\n",
       "    <tr>\n",
       "      <th>Gy_12</th>\n",
       "      <td>0.000000</td>\n",
       "    </tr>\n",
       "    <tr>\n",
       "      <th>Gx_11</th>\n",
       "      <td>0.000000</td>\n",
       "    </tr>\n",
       "    <tr>\n",
       "      <th>Gx_17</th>\n",
       "      <td>0.000000</td>\n",
       "    </tr>\n",
       "    <tr>\n",
       "      <th>Gx_5</th>\n",
       "      <td>0.000000</td>\n",
       "    </tr>\n",
       "  </tbody>\n",
       "</table>\n",
       "<p>120 rows × 1 columns</p>\n",
       "</div>"
      ],
      "text/plain": [
       "       Importance\n",
       "Az_16    0.052007\n",
       "Az_20    0.050889\n",
       "Az_13    0.043301\n",
       "Az_18    0.041717\n",
       "Az_8     0.039683\n",
       "Az_7     0.035301\n",
       "Az_17    0.031194\n",
       "Az_1     0.029514\n",
       "Az_14    0.028910\n",
       "Az_9     0.026587\n",
       "Az_19    0.024545\n",
       "Az_15    0.024467\n",
       "Az_12    0.023597\n",
       "Gz_10    0.023549\n",
       "Az_5     0.022277\n",
       "Az_6     0.022124\n",
       "Az_10    0.022002\n",
       "Az_11    0.020024\n",
       "Az_2     0.020000\n",
       "Az_4     0.017492\n",
       "Gz_20    0.015938\n",
       "Ay_13    0.015702\n",
       "Gz_13    0.014894\n",
       "Gz_11    0.013770\n",
       "Ax_16    0.012758\n",
       "Gz_14    0.012547\n",
       "Az_3     0.012499\n",
       "Gz_18    0.011493\n",
       "Gz_16    0.011326\n",
       "Gz_15    0.011195\n",
       "...           ...\n",
       "Ay_2     0.000412\n",
       "Gy_1     0.000377\n",
       "Gy_2     0.000376\n",
       "Gx_4     0.000367\n",
       "Gy_19    0.000360\n",
       "Gx_14    0.000300\n",
       "Gx_16    0.000297\n",
       "Gz_1     0.000273\n",
       "Gy_3     0.000252\n",
       "Ay_5     0.000218\n",
       "Gx_18    0.000197\n",
       "Gx_15    0.000194\n",
       "Gx_19    0.000190\n",
       "Gx_1     0.000178\n",
       "Gy_5     0.000133\n",
       "Gx_2     0.000101\n",
       "Gx_3     0.000100\n",
       "Ay_18    0.000095\n",
       "Gy_20    0.000094\n",
       "Gy_15    0.000077\n",
       "Gy_14    0.000000\n",
       "Gx_7     0.000000\n",
       "Gy_13    0.000000\n",
       "Gx_8     0.000000\n",
       "Gx_9     0.000000\n",
       "Gx_10    0.000000\n",
       "Gy_12    0.000000\n",
       "Gx_11    0.000000\n",
       "Gx_17    0.000000\n",
       "Gx_5     0.000000\n",
       "\n",
       "[120 rows x 1 columns]"
      ]
     },
     "execution_count": 39,
     "metadata": {},
     "output_type": "execute_result"
    }
   ],
   "source": [
    "features_importance = pd.DataFrame(index = features,\n",
    "                                   data={'Importance':clf.feature_importances_})\n",
    "features_importance.sort_values('Importance',ascending=False)"
   ]
  },
  {
   "cell_type": "markdown",
   "metadata": {
    "slideshow": {
     "slide_type": "slide"
    }
   },
   "source": [
    "### Ricreiamo lo stesso algoritmo ma...\n",
    "\n",
    "Con le sole due feature più rilevanti: Az_20 e Az_16"
   ]
  },
  {
   "cell_type": "code",
   "execution_count": 40,
   "metadata": {
    "slideshow": {
     "slide_type": "fragment"
    }
   },
   "outputs": [],
   "source": [
    "X_train_reduced = train_data[['Az_20','Az_16']].values\n",
    "X_test_reduced = test_data[['Az_20','Az_16']].values\n",
    "\n",
    "y_train = train_data['movement'].values\n",
    "y_test = test_data['movement'].values"
   ]
  },
  {
   "cell_type": "code",
   "execution_count": 41,
   "metadata": {
    "slideshow": {
     "slide_type": "fragment"
    }
   },
   "outputs": [
    {
     "data": {
      "text/plain": [
       "RandomForestClassifier(bootstrap=True, class_weight=None, criterion='gini',\n",
       "            max_depth=3, max_features='auto', max_leaf_nodes=None,\n",
       "            min_impurity_decrease=0.0, min_impurity_split=None,\n",
       "            min_samples_leaf=1, min_samples_split=2,\n",
       "            min_weight_fraction_leaf=0.0, n_estimators=100, n_jobs=1,\n",
       "            oob_score=False, random_state=0, verbose=0, warm_start=False)"
      ]
     },
     "execution_count": 41,
     "metadata": {},
     "output_type": "execute_result"
    }
   ],
   "source": [
    "max_depth=3\n",
    "n_estimators=100\n",
    "clf_reduced = RandomForestClassifier(max_depth=max_depth, n_estimators=n_estimators, random_state=0)\n",
    "clf_reduced.fit(X_train_reduced, y_train)"
   ]
  },
  {
   "cell_type": "code",
   "execution_count": 42,
   "metadata": {
    "slideshow": {
     "slide_type": "fragment"
    }
   },
   "outputs": [
    {
     "data": {
      "text/plain": [
       "0.67330677290836649"
      ]
     },
     "execution_count": 42,
     "metadata": {},
     "output_type": "execute_result"
    }
   ],
   "source": [
    "clf_reduced.score(X_test_reduced, y_test)"
   ]
  },
  {
   "cell_type": "code",
   "execution_count": 43,
   "metadata": {
    "slideshow": {
     "slide_type": "slide"
    }
   },
   "outputs": [
    {
     "data": {
      "image/png": "[encoded data removed]",
      "text/plain": [
       "<matplotlib.figure.Figure at 0x11ed01cd0>"
      ]
     },
     "metadata": {},
     "output_type": "display_data"
    }
   ],
   "source": [
    "cmap_light = ListedColormap(['#FFAAAA', '#AAFFAA', '#AAAAFF', '#AFAAAA', '#AAAFAA'])\n",
    "cmap_bold = ListedColormap(['#FF0000', '#00FF00', '#0000FF', '#0FF000', '#000FF0'])\n",
    "\n",
    "# Plot the decision boundary. For that, we will assign a color to each\n",
    "# point in the mesh [x_min, x_max]x[y_min, y_max].\n",
    "x_min, x_max = X_train_reduced[:, 0].min() - 0.1, X_train_reduced[:, 0].max() + 0.1\n",
    "y_min, y_max = X_train_reduced[:, 1].min() - 0.1, X_train_reduced[:, 1].max() + 0.1\n",
    "xx, yy = np.meshgrid(np.arange(x_min, x_max, h), np.arange(y_min, y_max, h))\n",
    "Z = clf_reduced.predict(np.c_[xx.ravel(), yy.ravel()])\n",
    "\n",
    "# Put the result into a color plot\n",
    "Z = Z.reshape(xx.shape)\n",
    "plt.figure(figsize=(10,10))\n",
    "plt.pcolormesh(xx, yy, Z)#, cmap=cmap_light)\n",
    "\n",
    "# Plot also the training points\n",
    "plt.scatter(X_train_reduced[:, 0], X_train_reduced[:, 1], c=y_train-1, edgecolor='k', s=20)#, cmap=cmap_light)\n",
    "plt.xlim(xx.min(), xx.max())\n",
    "plt.ylim(yy.min(), yy.max())\n",
    "plt.xlabel('Az_20')\n",
    "plt.ylabel('Az_16')\n",
    "plt.show()"
   ]
  },
  {
   "cell_type": "code",
   "execution_count": 215,
   "metadata": {},
   "outputs": [
    {
     "data": {
      "text/plain": [
       "array([1, 4, 1, 4, 4, 1, 4, 3, 3, 4, 5, 4, 3, 5, 4, 3, 5, 3, 4, 5, 4, 2, 4,\n",
       "       1, 1, 3, 5, 3, 4, 4, 3, 2, 3, 3, 1, 1, 3, 4, 1, 1, 4, 5, 1, 4, 4, 1,\n",
       "       1, 5, 4, 1, 1, 4, 3, 4, 5, 3, 5, 4, 1, 4, 4, 3, 3, 3, 4, 2, 5, 3, 4,\n",
       "       3, 4, 4, 3, 2, 4, 5, 4, 4, 3, 3, 1, 5, 1, 4, 1, 1, 4, 3, 4, 1, 1, 2,\n",
       "       3, 3, 1, 5, 4, 3, 3, 4, 1, 3, 3, 4, 4, 3, 1, 4, 3, 5, 1, 1, 3, 1, 3,\n",
       "       3, 4, 1, 5, 3, 4, 5, 5, 3, 2, 5, 1, 3, 5, 1, 5, 1, 5, 4, 5, 1, 3, 3,\n",
       "       5, 3, 5, 5, 1, 5, 3, 3, 1, 1, 4, 3, 4, 4, 4, 5, 4, 4, 4, 1, 3, 2, 4,\n",
       "       2, 2, 4, 3, 4, 4, 3, 5, 3, 1, 4, 2, 3, 4, 4, 5, 1, 1, 5, 4, 5, 3, 3,\n",
       "       4, 1, 5, 3, 5, 2, 5, 2, 2, 5, 5, 1, 1, 3, 5, 3, 4, 3, 4, 5, 4, 4, 2,\n",
       "       5, 4, 1, 5, 5, 1, 1, 4, 3, 1, 3, 3, 3, 3, 3, 3, 3, 4, 5, 4, 4, 2, 3,\n",
       "       1, 3, 5, 3, 1, 4, 3, 3, 4, 3, 1, 1, 5, 3, 5, 2, 4, 3, 5, 4, 3])"
      ]
     },
     "execution_count": 215,
     "metadata": {},
     "output_type": "execute_result"
    }
   ],
   "source": [
    "y_test"
   ]
  },
  {
   "cell_type": "markdown",
   "metadata": {
    "slideshow": {
     "slide_type": "slide"
    }
   },
   "source": [
    "### E ora in produzione!!\n",
    "<img src=\"img/rpi.jpg\">"
   ]
  },
  {
   "cell_type": "code",
   "execution_count": null,
   "metadata": {},
   "outputs": [],
   "source": [
    "'''\n",
    "        Detect movements.\n",
    "\t\tUSAGE: python MovementDetector.py\n",
    "'''\n",
    "import smbus\t\t\t#import SMBus module of I2C\n",
    "import time         \n",
    "import collections\n",
    "import numpy as np\n",
    "import csv\n",
    "import sys\n",
    "import pandas as pd\n",
    "from sklearn.ensemble import RandomForestClassifier\n",
    "import config\n",
    "import socket\n",
    "\n",
    "\n",
    "#some MPU6050 Registers and their Address\n",
    "PWR_MGMT_1   = 0x6B\n",
    "SMPLRT_DIV   = 0x19\n",
    "CONFIG       = 0x1A\n",
    "GYRO_CONFIG  = 0x1B\n",
    "INT_ENABLE   = 0x38\n",
    "ACCEL_XOUT_H = 0x3B\n",
    "ACCEL_YOUT_H = 0x3D\n",
    "ACCEL_ZOUT_H = 0x3F\n",
    "GYRO_XOUT_H  = 0x43\n",
    "GYRO_YOUT_H  = 0x45\n",
    "GYRO_ZOUT_H  = 0x47\n",
    "\n",
    "\n",
    "def MPU_Init():\n",
    "\t#write to sample rate register\n",
    "\tbus.write_byte_data(Device_Address, SMPLRT_DIV, 7)\n",
    "\t\n",
    "\t#Write to power management register\n",
    "\tbus.write_byte_data(Device_Address, PWR_MGMT_1, 1)\n",
    "\t\n",
    "\t#Write to Configuration register\n",
    "\tbus.write_byte_data(Device_Address, CONFIG, 0)\n",
    "\t\n",
    "\t#Write to Gyro configuration register\n",
    "\tbus.write_byte_data(Device_Address, GYRO_CONFIG, 24)\n",
    "\t\n",
    "\t#Write to interrupt enable register\n",
    "\tbus.write_byte_data(Device_Address, INT_ENABLE, 1)\n",
    "\n",
    "def read_raw_data(addr):\n",
    "\t#Accelero and Gyro value are 16-bit\n",
    "    high = bus.read_byte_data(Device_Address, addr)\n",
    "    low = bus.read_byte_data(Device_Address, addr+1)\n",
    "    \n",
    "    #concatenate higher and lower value\n",
    "    value = ((high << 8) | low)\n",
    "        \n",
    "    #to get signed value from mpu6050\n",
    "    if(value > 32768):\n",
    "        value = value - 65536\n",
    "    return value\n",
    "\n",
    "\n",
    "\n",
    "bus = smbus.SMBus(1) \t# or bus = smbus.SMBus(0) for older version boards\n",
    "Device_Address = 0x68   # MPU6050 device address\n",
    "\n",
    "MPU_Init()\n",
    "\n",
    "LenFifo = config.LenFifo\n",
    "Athr = config.Athr\n",
    "tCycle = config.tCycle\n",
    "tDelay = config.tDelay\n",
    "ricorrenze = config.ricorrenze\n",
    "sogliaRic = config.sogliaRic\n",
    "minMovRec = config.minMovRec\n",
    "\n",
    "AxFifo = collections.deque(LenFifo*[0], LenFifo)\n",
    "AyFifo = collections.deque(LenFifo*[0], LenFifo)\n",
    "AzFifo = collections.deque(LenFifo*[0], LenFifo)\n",
    "GxFifo = collections.deque(LenFifo*[0], LenFifo)\n",
    "GyFifo = collections.deque(LenFifo*[0], LenFifo)\n",
    "GzFifo = collections.deque(LenFifo*[0], LenFifo)\n",
    "MvFifo = collections.deque(LenFifo*[0], LenFifo)\n",
    "\n",
    "#Model training\n",
    "print 'Training AI model'\n",
    "n_col = LenFifo * 6 \n",
    "train_data = pd.read_csv('movements.csv', index_col=0, header=None)\n",
    "X_train = train_data.iloc[:,0:n_col].values\n",
    "y_train = train_data.iloc[:,n_col].values\n",
    "\n",
    "algorithm = RandomForestClassifier(n_estimators=100, random_state=0) #max_depth=10,\n",
    "algorithm.fit(X_train, y_train)\n",
    "print 'AI model trained'\n",
    "print \"Inizio client\"\n",
    "\n",
    "\n",
    "host = '192.168.1.192'\n",
    "port = 1026\n",
    "countGen = 0\n",
    "\n",
    "while True:\n",
    "    #sock.bind((host, port))\n",
    "    #sock.listen(1)\n",
    "\n",
    "    #c, add = sock.accept()\n",
    "    count = 0\n",
    "    volte = 0 \n",
    "    while True:\n",
    "        #print 'Reading Data of Gyroscope and Accelerometer'\n",
    "        #Read Accelerometer raw value\n",
    "        acc_x = read_raw_data(ACCEL_XOUT_H)\n",
    "        acc_y = read_raw_data(ACCEL_YOUT_H)\n",
    "        acc_z = read_raw_data(ACCEL_ZOUT_H)\n",
    "\t\n",
    "\t    #Read Gyroscope raw value\n",
    "        gyro_x = read_raw_data(GYRO_XOUT_H)\n",
    "        gyro_y = read_raw_data(GYRO_YOUT_H)\n",
    "        gyro_z = read_raw_data(GYRO_ZOUT_H)\n",
    "\t\n",
    "\t    #Full scale range +/- 250 degree/C as per sensitivity scale factor\n",
    "        Ax = acc_x/16384.0\n",
    "        Ay = acc_y/16384.0\n",
    "        Az = acc_z/16384.0\n",
    "\n",
    "        Gx = gyro_x/131.0\n",
    "        Gy = gyro_y/131.0\n",
    "        Gz = gyro_z/131.0\n",
    "\n",
    "        AxFifo.append(Ax)\n",
    "        AyFifo.append(Ay)\n",
    "        AzFifo.append(Az)\n",
    "        GxFifo.append(Gx)\n",
    "        GyFifo.append(Gy)\n",
    "        GzFifo.append(Gz)\n",
    "\n",
    "        movement_detected = (np.abs(AxFifo[LenFifo-1]-AxFifo[LenFifo-2])>Athr) | (np.abs(AyFifo[LenFifo-1]-AyFifo[LenFifo-2])>Athr) | (np.abs(AzFifo[LenFifo-1]-AzFifo[LenFifo-2])>Athr)\n",
    "\n",
    "        if movement_detected:\n",
    "            count += 1\n",
    "            countGen += 1\n",
    "            X = np.array(list(AxFifo) + list(AyFifo) + list(AzFifo) + list(GxFifo) + list(GyFifo) + list(GzFifo)).reshape(-1,n_col)\n",
    "            y_predict = algorithm.predict(X)\n",
    "            predict_proba = algorithm.predict_proba(X)\n",
    "            print y_predict\n",
    "\t\t    #print ('Detected movement %d, probabilities :' % y_predict) + str(predict_proba)\n",
    "            MvFifo.append(y_predict)\n",
    "            if (count > minMovRec) and (countGen > LenFifo):\n",
    "                #print str(MvFifo[LenFifo - 1]) \n",
    "                for x in MvFifo:\n",
    "                    v = x[0] - 1\n",
    "                    #print v\n",
    "                    #print ricorrenze\n",
    "                    ricorrenze[v] += 1\n",
    "                        \n",
    "                massimo = max(ricorrenze)\n",
    "                numMax = ricorrenze.index(massimo)\n",
    "                if numMax != 5 and massimo >= sogliaRic:\n",
    "                    toSend = (ricorrenze.index(massimo)) + 1\n",
    "                    print toSend\n",
    "                    sock = socket.socket(socket.AF_INET,socket.SOCK_STREAM)    \n",
    "                    sock.connect((host, port))\n",
    "                    sock.send(str(toSend))\n",
    "                    count = 0\n",
    "                    for i,r in enumerate(ricorrenze):\n",
    "                        ricorrenze[i] = 0\n",
    "                    sock.close()\n",
    "                    time.sleep(tDelay)\n",
    "\n",
    "                '''else:\n",
    "                    print \"999\"\n",
    "                    c.send(\"999\") '''\n",
    "                \n",
    "\t    time.sleep(tCycle)\n",
    "close(csvfile)"
   ]
  }
 ],
 "metadata": {
  "celltoolbar": "Slideshow",
  "kernelspec": {
   "display_name": "Python 2",
   "language": "python",
   "name": "python2"
  },
  "language_info": {
   "codemirror_mode": {
    "name": "ipython",
    "version": 2
   },
   "file_extension": ".py",
   "mimetype": "text/x-python",
   "name": "python",
   "nbconvert_exporter": "python",
   "pygments_lexer": "ipython2",
   "version": "2.7.13"
  }
 },
 "nbformat": 4,
 "nbformat_minor": 2
}
