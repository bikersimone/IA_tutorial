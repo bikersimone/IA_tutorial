{
 "cells": [
  {
   "cell_type": "markdown",
   "metadata": {
    "slideshow": {
     "slide_type": "slide"
    }
   },
   "source": [
    "<img src=\"img\\cover.png\">"
   ]
  },
  {
   "cell_type": "markdown",
   "metadata": {
    "slideshow": {
     "slide_type": "slide"
    }
   },
   "source": [
    "# LEZIONE 2\n",
    "\n",
    "\n",
    "4 Giugno 2018"
   ]
  },
  {
   "cell_type": "markdown",
   "metadata": {
    "slideshow": {
     "slide_type": "slide"
    }
   },
   "source": [
    "### La libreria Scikit-Learn\n",
    "<img src=\"img/scikit-learn-logo-small.png\">\n",
    "The scikit-learn project started as scikits.learn, a Google Summer of Code project by David Cournapeau. Its name stems from the notion that it is a \"SciKit\" (SciPy Toolkit), a separately-developed and distributed third-party extension to SciPy. The original codebase was later rewritten by other developers. In 2010 Fabian Pedregosa, Gael Varoquaux, Alexandre Gramfort and Vincent Michel, all from INRIA took leadership of the project and made the first public release on February the 1st 2010. Of the various scikits, scikit-learn as well as scikit-image were described as \"well-maintained and popular\" in November 2012.\n",
    "\n",
    "As of 2018, scikit-learn is under active development.\n",
    "\n",
    "Scikit-learn is a free software machine learning library for the Python programming language. It features various classification, regression and clustering algorithms including support vector machines, random forests, gradient boosting, k-means and DBSCAN, and is designed to interoperate with the Python numerical and scientific libraries NumPy and SciPy.\n",
    "\n",
    "http://scikit-learn.org/stable/index.html"
   ]
  },
  {
   "cell_type": "markdown",
   "metadata": {
    "slideshow": {
     "slide_type": "slide"
    }
   },
   "source": [
    "### Definizioni\n",
    "\n",
    "In general, a learning problem considers a set of n samples of data and then tries to predict properties of unknown data. If each sample is more than a single number and, for instance, a multi-dimensional entry (aka multivariate data), it is said to have several attributes or features.\n",
    "\n",
    "Supervised learning: in which the data comes with additional attributes that we want to predict This problem can be either:\n",
    "\n",
    "* classification: samples belong to two or more classes and we want to learn from already labeled data how to predict the class of unlabeled data. An example of classification problem would be the handwritten digit recognition example, in which the aim is to assign each input vector to one of a finite number of discrete categories. Another way to think of classification is as a discrete (as opposed to continuous) form of supervised learning where one has a limited number of categories and for each of the n samples provided, one is to try to label them with the correct category or class.\n",
    "* regression: if the desired output consists of one or more continuous variables, then the task is called regression. An example of a regression problem would be the prediction of the length of a salmon as a function of its age and weight.\n",
    "\n"
   ]
  },
  {
   "cell_type": "markdown",
   "metadata": {
    "slideshow": {
     "slide_type": "subslide"
    }
   },
   "source": [
    "#### Training set and testing set\n",
    "\n",
    "Machine learning is about learning some properties of a data set and applying them to new data. This is why a common practice in machine learning to evaluate an algorithm is to split the data at hand into two sets, one that we call the training set on which we learn data properties and one that we call the testing set on which we test these properties."
   ]
  },
  {
   "cell_type": "markdown",
   "metadata": {
    "slideshow": {
     "slide_type": "slide"
    }
   },
   "source": [
    "<img src=\"img/ml_map.png\">\n",
    "\n",
    "http://scikit-learn.org/stable/tutorial/machine_learning_map/index.html"
   ]
  },
  {
   "cell_type": "markdown",
   "metadata": {
    "slideshow": {
     "slide_type": "slide"
    }
   },
   "source": [
    "### Mini tutorial...\n",
    "\n",
    "\n",
    "\n",
    "http://scikit-learn.org/stable/tutorial/basic/tutorial.html"
   ]
  },
  {
   "cell_type": "code",
   "execution_count": 169,
   "metadata": {
    "slideshow": {
     "slide_type": "slide"
    }
   },
   "outputs": [
    {
     "data": {
      "text/html": [
       "<div>\n",
       "<style>\n",
       "    .dataframe thead tr:only-child th {\n",
       "        text-align: right;\n",
       "    }\n",
       "\n",
       "    .dataframe thead th {\n",
       "        text-align: left;\n",
       "    }\n",
       "\n",
       "    .dataframe tbody tr th {\n",
       "        vertical-align: top;\n",
       "    }\n",
       "</style>\n",
       "<table border=\"1\" class=\"dataframe\">\n",
       "  <thead>\n",
       "    <tr style=\"text-align: right;\">\n",
       "      <th></th>\n",
       "      <th>Ax_1</th>\n",
       "      <th>Ax_2</th>\n",
       "      <th>Ax_3</th>\n",
       "      <th>Ax_4</th>\n",
       "      <th>Ax_5</th>\n",
       "      <th>Ax_6</th>\n",
       "      <th>Ax_7</th>\n",
       "      <th>Ax_8</th>\n",
       "      <th>Ax_9</th>\n",
       "      <th>Ax_10</th>\n",
       "      <th>...</th>\n",
       "      <th>Gz_12</th>\n",
       "      <th>Gz_13</th>\n",
       "      <th>Gz_14</th>\n",
       "      <th>Gz_15</th>\n",
       "      <th>Gz_16</th>\n",
       "      <th>Gz_17</th>\n",
       "      <th>Gz_18</th>\n",
       "      <th>Gz_19</th>\n",
       "      <th>Gz_20</th>\n",
       "      <th>movement</th>\n",
       "    </tr>\n",
       "  </thead>\n",
       "  <tbody>\n",
       "    <tr>\n",
       "      <th>1.524893e+09</th>\n",
       "      <td>0.0</td>\n",
       "      <td>0.0</td>\n",
       "      <td>0.0</td>\n",
       "      <td>0.0</td>\n",
       "      <td>0.0</td>\n",
       "      <td>0.0</td>\n",
       "      <td>0.0</td>\n",
       "      <td>0.0</td>\n",
       "      <td>0.0</td>\n",
       "      <td>0.0</td>\n",
       "      <td>...</td>\n",
       "      <td>0.0</td>\n",
       "      <td>0.0</td>\n",
       "      <td>0.0</td>\n",
       "      <td>0.0</td>\n",
       "      <td>0.000000</td>\n",
       "      <td>0.000000</td>\n",
       "      <td>0.000000</td>\n",
       "      <td>0.000000</td>\n",
       "      <td>-22.458015</td>\n",
       "      <td>1</td>\n",
       "    </tr>\n",
       "    <tr>\n",
       "      <th>1.524893e+09</th>\n",
       "      <td>0.0</td>\n",
       "      <td>0.0</td>\n",
       "      <td>0.0</td>\n",
       "      <td>0.0</td>\n",
       "      <td>0.0</td>\n",
       "      <td>0.0</td>\n",
       "      <td>0.0</td>\n",
       "      <td>0.0</td>\n",
       "      <td>0.0</td>\n",
       "      <td>0.0</td>\n",
       "      <td>...</td>\n",
       "      <td>0.0</td>\n",
       "      <td>0.0</td>\n",
       "      <td>0.0</td>\n",
       "      <td>0.0</td>\n",
       "      <td>0.000000</td>\n",
       "      <td>0.000000</td>\n",
       "      <td>0.000000</td>\n",
       "      <td>-22.458015</td>\n",
       "      <td>-29.381679</td>\n",
       "      <td>1</td>\n",
       "    </tr>\n",
       "    <tr>\n",
       "      <th>1.524893e+09</th>\n",
       "      <td>0.0</td>\n",
       "      <td>0.0</td>\n",
       "      <td>0.0</td>\n",
       "      <td>0.0</td>\n",
       "      <td>0.0</td>\n",
       "      <td>0.0</td>\n",
       "      <td>0.0</td>\n",
       "      <td>0.0</td>\n",
       "      <td>0.0</td>\n",
       "      <td>0.0</td>\n",
       "      <td>...</td>\n",
       "      <td>0.0</td>\n",
       "      <td>0.0</td>\n",
       "      <td>0.0</td>\n",
       "      <td>0.0</td>\n",
       "      <td>0.000000</td>\n",
       "      <td>0.000000</td>\n",
       "      <td>-22.458015</td>\n",
       "      <td>-29.381679</td>\n",
       "      <td>-24.106870</td>\n",
       "      <td>1</td>\n",
       "    </tr>\n",
       "    <tr>\n",
       "      <th>1.524893e+09</th>\n",
       "      <td>0.0</td>\n",
       "      <td>0.0</td>\n",
       "      <td>0.0</td>\n",
       "      <td>0.0</td>\n",
       "      <td>0.0</td>\n",
       "      <td>0.0</td>\n",
       "      <td>0.0</td>\n",
       "      <td>0.0</td>\n",
       "      <td>0.0</td>\n",
       "      <td>0.0</td>\n",
       "      <td>...</td>\n",
       "      <td>0.0</td>\n",
       "      <td>0.0</td>\n",
       "      <td>0.0</td>\n",
       "      <td>0.0</td>\n",
       "      <td>0.000000</td>\n",
       "      <td>-22.458015</td>\n",
       "      <td>-29.381679</td>\n",
       "      <td>-24.106870</td>\n",
       "      <td>-14.061069</td>\n",
       "      <td>1</td>\n",
       "    </tr>\n",
       "    <tr>\n",
       "      <th>1.524893e+09</th>\n",
       "      <td>0.0</td>\n",
       "      <td>0.0</td>\n",
       "      <td>0.0</td>\n",
       "      <td>0.0</td>\n",
       "      <td>0.0</td>\n",
       "      <td>0.0</td>\n",
       "      <td>0.0</td>\n",
       "      <td>0.0</td>\n",
       "      <td>0.0</td>\n",
       "      <td>0.0</td>\n",
       "      <td>...</td>\n",
       "      <td>0.0</td>\n",
       "      <td>0.0</td>\n",
       "      <td>0.0</td>\n",
       "      <td>0.0</td>\n",
       "      <td>-22.458015</td>\n",
       "      <td>-29.381679</td>\n",
       "      <td>-24.106870</td>\n",
       "      <td>-14.061069</td>\n",
       "      <td>-1.458015</td>\n",
       "      <td>1</td>\n",
       "    </tr>\n",
       "  </tbody>\n",
       "</table>\n",
       "<p>5 rows × 121 columns</p>\n",
       "</div>"
      ],
      "text/plain": [
       "              Ax_1  Ax_2  Ax_3  Ax_4  Ax_5  Ax_6  Ax_7  Ax_8  Ax_9  Ax_10  \\\n",
       "1.524893e+09   0.0   0.0   0.0   0.0   0.0   0.0   0.0   0.0   0.0    0.0   \n",
       "1.524893e+09   0.0   0.0   0.0   0.0   0.0   0.0   0.0   0.0   0.0    0.0   \n",
       "1.524893e+09   0.0   0.0   0.0   0.0   0.0   0.0   0.0   0.0   0.0    0.0   \n",
       "1.524893e+09   0.0   0.0   0.0   0.0   0.0   0.0   0.0   0.0   0.0    0.0   \n",
       "1.524893e+09   0.0   0.0   0.0   0.0   0.0   0.0   0.0   0.0   0.0    0.0   \n",
       "\n",
       "                ...     Gz_12  Gz_13  Gz_14  Gz_15      Gz_16      Gz_17  \\\n",
       "1.524893e+09    ...       0.0    0.0    0.0    0.0   0.000000   0.000000   \n",
       "1.524893e+09    ...       0.0    0.0    0.0    0.0   0.000000   0.000000   \n",
       "1.524893e+09    ...       0.0    0.0    0.0    0.0   0.000000   0.000000   \n",
       "1.524893e+09    ...       0.0    0.0    0.0    0.0   0.000000 -22.458015   \n",
       "1.524893e+09    ...       0.0    0.0    0.0    0.0 -22.458015 -29.381679   \n",
       "\n",
       "                  Gz_18      Gz_19      Gz_20  movement  \n",
       "1.524893e+09   0.000000   0.000000 -22.458015         1  \n",
       "1.524893e+09   0.000000 -22.458015 -29.381679         1  \n",
       "1.524893e+09 -22.458015 -29.381679 -24.106870         1  \n",
       "1.524893e+09 -29.381679 -24.106870 -14.061069         1  \n",
       "1.524893e+09 -24.106870 -14.061069  -1.458015         1  \n",
       "\n",
       "[5 rows x 121 columns]"
      ]
     },
     "execution_count": 169,
     "metadata": {},
     "output_type": "execute_result"
    }
   ],
   "source": [
    "import pandas as pd\n",
    "import matplotlib.pyplot as plt\n",
    "%matplotlib inline\n",
    "header = [name + '_' + str(i) for name in ['Ax','Ay','Az','Gx','Gy','Gz'] for i in range(1,21)]+['movement']\n",
    "data = pd.read_csv('movements.csv', header=None, index_col=0, names=header)\n",
    "data.head()"
   ]
  },
  {
   "cell_type": "markdown",
   "metadata": {
    "slideshow": {
     "slide_type": "slide"
    }
   },
   "source": [
    "Assomiglia a:\n",
    "<img src=\"img/Features.png\">\n",
    "che è la forma corretta dei dati per essere \"digeriti\" da un algoritmo IA"
   ]
  },
  {
   "cell_type": "markdown",
   "metadata": {
    "slideshow": {
     "slide_type": "slide"
    }
   },
   "source": [
    "### Quindi....\n",
    "Quanti sono i campioni?"
   ]
  },
  {
   "cell_type": "code",
   "execution_count": 2,
   "metadata": {
    "slideshow": {
     "slide_type": "fragment"
    }
   },
   "outputs": [
    {
     "data": {
      "text/plain": [
       "751"
      ]
     },
     "execution_count": 2,
     "metadata": {},
     "output_type": "execute_result"
    }
   ],
   "source": [
    "len(data)"
   ]
  },
  {
   "cell_type": "markdown",
   "metadata": {
    "slideshow": {
     "slide_type": "fragment"
    }
   },
   "source": [
    "Ogni campione è marcato con il corrispettivo movimento nella colonna \"movement\".\n",
    "\n",
    "Quante sono le features?"
   ]
  },
  {
   "cell_type": "code",
   "execution_count": 3,
   "metadata": {
    "slideshow": {
     "slide_type": "fragment"
    }
   },
   "outputs": [
    {
     "data": {
      "text/plain": [
       "120"
      ]
     },
     "execution_count": 3,
     "metadata": {},
     "output_type": "execute_result"
    }
   ],
   "source": [
    "len(data.columns) - 1"
   ]
  },
  {
   "cell_type": "markdown",
   "metadata": {
    "slideshow": {
     "slide_type": "slide"
    }
   },
   "source": [
    "### Seguendo il flowchart\n",
    "\n",
    "...KNeighbors Classifier!"
   ]
  },
  {
   "cell_type": "markdown",
   "metadata": {
    "slideshow": {
     "slide_type": "fragment"
    }
   },
   "source": [
    "Il principio dietro tutti gli algortimi a \"primi vicini\" è di trovare un numero predefinito di training sample vicini al nuovo campione che si vuole classificare. Il numero predefinito di campioni può essere una costante definita dall'utente (k-nearest neighbor leraning) oppure variare in base alla densità dei campioni (radius-based neighbor learning).\n",
    "\n",
    "I classificatori a primi vicini sono di tipo *instance-based learning* o *non-generalizing learning* perchè non costruiscono alcun modello interno dei dati, ma semplicemente memorizzano le istance dei campioni di training.\n",
    "\n",
    "La classificazione è semplicemente calcolata tramite una votazione del primo vicino di ciascun punto."
   ]
  },
  {
   "cell_type": "markdown",
   "metadata": {
    "slideshow": {
     "slide_type": "slide"
    }
   },
   "source": [
    "### Esempio Iris con solo due features\n",
    "\n",
    "<img src=\"img/iris.jpg\">\n",
    "\n",
    "Il dataset Iris è un dataset multivariato introdotto da Ronald Fisher nel 1936. Consiste in 150 istanze di Iris misurate da Edgar Anderson e classificate secondo tre specie: Iris setosa, Iris virginica e Iris versicolor. Le quattro variabili considerate sono la lunghezza e la larghezza del sepalo e del petalo."
   ]
  },
  {
   "cell_type": "code",
   "execution_count": 8,
   "metadata": {
    "slideshow": {
     "slide_type": "slide"
    }
   },
   "outputs": [],
   "source": [
    "import numpy as np\n",
    "import matplotlib.pyplot as plt\n",
    "from matplotlib.colors import ListedColormap\n",
    "from sklearn import neighbors, datasets"
   ]
  },
  {
   "cell_type": "code",
   "execution_count": 135,
   "metadata": {
    "slideshow": {
     "slide_type": "subslide"
    }
   },
   "outputs": [],
   "source": [
    "n_neighbors = 15\n",
    "h = .02  # step size in the mesh\n",
    "cmap_light = ListedColormap(['#FFAAAA', '#AAFFAA', '#AAAAFF'])\n",
    "cmap_bold = ListedColormap(['#FF0000', '#00FF00', '#0000FF'])\n",
    "\n",
    "iris = datasets.load_iris()"
   ]
  },
  {
   "cell_type": "code",
   "execution_count": 136,
   "metadata": {
    "slideshow": {
     "slide_type": "subslide"
    }
   },
   "outputs": [
    {
     "data": {
      "text/plain": [
       "{'DESCR': 'Iris Plants Database\\n====================\\n\\nNotes\\n-----\\nData Set Characteristics:\\n    :Number of Instances: 150 (50 in each of three classes)\\n    :Number of Attributes: 4 numeric, predictive attributes and the class\\n    :Attribute Information:\\n        - sepal length in cm\\n        - sepal width in cm\\n        - petal length in cm\\n        - petal width in cm\\n        - class:\\n                - Iris-Setosa\\n                - Iris-Versicolour\\n                - Iris-Virginica\\n    :Summary Statistics:\\n\\n    ============== ==== ==== ======= ===== ====================\\n                    Min  Max   Mean    SD   Class Correlation\\n    ============== ==== ==== ======= ===== ====================\\n    sepal length:   4.3  7.9   5.84   0.83    0.7826\\n    sepal width:    2.0  4.4   3.05   0.43   -0.4194\\n    petal length:   1.0  6.9   3.76   1.76    0.9490  (high!)\\n    petal width:    0.1  2.5   1.20  0.76     0.9565  (high!)\\n    ============== ==== ==== ======= ===== ====================\\n\\n    :Missing Attribute Values: None\\n    :Class Distribution: 33.3% for each of 3 classes.\\n    :Creator: R.A. Fisher\\n    :Donor: Michael Marshall (MARSHALL%PLU@io.arc.nasa.gov)\\n    :Date: July, 1988\\n\\nThis is a copy of UCI ML iris datasets.\\nhttp://archive.ics.uci.edu/ml/datasets/Iris\\n\\nThe famous Iris database, first used by Sir R.A Fisher\\n\\nThis is perhaps the best known database to be found in the\\npattern recognition literature.  Fisher\\'s paper is a classic in the field and\\nis referenced frequently to this day.  (See Duda & Hart, for example.)  The\\ndata set contains 3 classes of 50 instances each, where each class refers to a\\ntype of iris plant.  One class is linearly separable from the other 2; the\\nlatter are NOT linearly separable from each other.\\n\\nReferences\\n----------\\n   - Fisher,R.A. \"The use of multiple measurements in taxonomic problems\"\\n     Annual Eugenics, 7, Part II, 179-188 (1936); also in \"Contributions to\\n     Mathematical Statistics\" (John Wiley, NY, 1950).\\n   - Duda,R.O., & Hart,P.E. (1973) Pattern Classification and Scene Analysis.\\n     (Q327.D83) John Wiley & Sons.  ISBN 0-471-22361-1.  See page 218.\\n   - Dasarathy, B.V. (1980) \"Nosing Around the Neighborhood: A New System\\n     Structure and Classification Rule for Recognition in Partially Exposed\\n     Environments\".  IEEE Transactions on Pattern Analysis and Machine\\n     Intelligence, Vol. PAMI-2, No. 1, 67-71.\\n   - Gates, G.W. (1972) \"The Reduced Nearest Neighbor Rule\".  IEEE Transactions\\n     on Information Theory, May 1972, 431-433.\\n   - See also: 1988 MLC Proceedings, 54-64.  Cheeseman et al\"s AUTOCLASS II\\n     conceptual clustering system finds 3 classes in the data.\\n   - Many, many more ...\\n',\n",
       " 'data': array([[ 5.1,  3.5,  1.4,  0.2],\n",
       "        [ 4.9,  3. ,  1.4,  0.2],\n",
       "        [ 4.7,  3.2,  1.3,  0.2],\n",
       "        [ 4.6,  3.1,  1.5,  0.2],\n",
       "        [ 5. ,  3.6,  1.4,  0.2],\n",
       "        [ 5.4,  3.9,  1.7,  0.4],\n",
       "        [ 4.6,  3.4,  1.4,  0.3],\n",
       "        [ 5. ,  3.4,  1.5,  0.2],\n",
       "        [ 4.4,  2.9,  1.4,  0.2],\n",
       "        [ 4.9,  3.1,  1.5,  0.1],\n",
       "        [ 5.4,  3.7,  1.5,  0.2],\n",
       "        [ 4.8,  3.4,  1.6,  0.2],\n",
       "        [ 4.8,  3. ,  1.4,  0.1],\n",
       "        [ 4.3,  3. ,  1.1,  0.1],\n",
       "        [ 5.8,  4. ,  1.2,  0.2],\n",
       "        [ 5.7,  4.4,  1.5,  0.4],\n",
       "        [ 5.4,  3.9,  1.3,  0.4],\n",
       "        [ 5.1,  3.5,  1.4,  0.3],\n",
       "        [ 5.7,  3.8,  1.7,  0.3],\n",
       "        [ 5.1,  3.8,  1.5,  0.3],\n",
       "        [ 5.4,  3.4,  1.7,  0.2],\n",
       "        [ 5.1,  3.7,  1.5,  0.4],\n",
       "        [ 4.6,  3.6,  1. ,  0.2],\n",
       "        [ 5.1,  3.3,  1.7,  0.5],\n",
       "        [ 4.8,  3.4,  1.9,  0.2],\n",
       "        [ 5. ,  3. ,  1.6,  0.2],\n",
       "        [ 5. ,  3.4,  1.6,  0.4],\n",
       "        [ 5.2,  3.5,  1.5,  0.2],\n",
       "        [ 5.2,  3.4,  1.4,  0.2],\n",
       "        [ 4.7,  3.2,  1.6,  0.2],\n",
       "        [ 4.8,  3.1,  1.6,  0.2],\n",
       "        [ 5.4,  3.4,  1.5,  0.4],\n",
       "        [ 5.2,  4.1,  1.5,  0.1],\n",
       "        [ 5.5,  4.2,  1.4,  0.2],\n",
       "        [ 4.9,  3.1,  1.5,  0.1],\n",
       "        [ 5. ,  3.2,  1.2,  0.2],\n",
       "        [ 5.5,  3.5,  1.3,  0.2],\n",
       "        [ 4.9,  3.1,  1.5,  0.1],\n",
       "        [ 4.4,  3. ,  1.3,  0.2],\n",
       "        [ 5.1,  3.4,  1.5,  0.2],\n",
       "        [ 5. ,  3.5,  1.3,  0.3],\n",
       "        [ 4.5,  2.3,  1.3,  0.3],\n",
       "        [ 4.4,  3.2,  1.3,  0.2],\n",
       "        [ 5. ,  3.5,  1.6,  0.6],\n",
       "        [ 5.1,  3.8,  1.9,  0.4],\n",
       "        [ 4.8,  3. ,  1.4,  0.3],\n",
       "        [ 5.1,  3.8,  1.6,  0.2],\n",
       "        [ 4.6,  3.2,  1.4,  0.2],\n",
       "        [ 5.3,  3.7,  1.5,  0.2],\n",
       "        [ 5. ,  3.3,  1.4,  0.2],\n",
       "        [ 7. ,  3.2,  4.7,  1.4],\n",
       "        [ 6.4,  3.2,  4.5,  1.5],\n",
       "        [ 6.9,  3.1,  4.9,  1.5],\n",
       "        [ 5.5,  2.3,  4. ,  1.3],\n",
       "        [ 6.5,  2.8,  4.6,  1.5],\n",
       "        [ 5.7,  2.8,  4.5,  1.3],\n",
       "        [ 6.3,  3.3,  4.7,  1.6],\n",
       "        [ 4.9,  2.4,  3.3,  1. ],\n",
       "        [ 6.6,  2.9,  4.6,  1.3],\n",
       "        [ 5.2,  2.7,  3.9,  1.4],\n",
       "        [ 5. ,  2. ,  3.5,  1. ],\n",
       "        [ 5.9,  3. ,  4.2,  1.5],\n",
       "        [ 6. ,  2.2,  4. ,  1. ],\n",
       "        [ 6.1,  2.9,  4.7,  1.4],\n",
       "        [ 5.6,  2.9,  3.6,  1.3],\n",
       "        [ 6.7,  3.1,  4.4,  1.4],\n",
       "        [ 5.6,  3. ,  4.5,  1.5],\n",
       "        [ 5.8,  2.7,  4.1,  1. ],\n",
       "        [ 6.2,  2.2,  4.5,  1.5],\n",
       "        [ 5.6,  2.5,  3.9,  1.1],\n",
       "        [ 5.9,  3.2,  4.8,  1.8],\n",
       "        [ 6.1,  2.8,  4. ,  1.3],\n",
       "        [ 6.3,  2.5,  4.9,  1.5],\n",
       "        [ 6.1,  2.8,  4.7,  1.2],\n",
       "        [ 6.4,  2.9,  4.3,  1.3],\n",
       "        [ 6.6,  3. ,  4.4,  1.4],\n",
       "        [ 6.8,  2.8,  4.8,  1.4],\n",
       "        [ 6.7,  3. ,  5. ,  1.7],\n",
       "        [ 6. ,  2.9,  4.5,  1.5],\n",
       "        [ 5.7,  2.6,  3.5,  1. ],\n",
       "        [ 5.5,  2.4,  3.8,  1.1],\n",
       "        [ 5.5,  2.4,  3.7,  1. ],\n",
       "        [ 5.8,  2.7,  3.9,  1.2],\n",
       "        [ 6. ,  2.7,  5.1,  1.6],\n",
       "        [ 5.4,  3. ,  4.5,  1.5],\n",
       "        [ 6. ,  3.4,  4.5,  1.6],\n",
       "        [ 6.7,  3.1,  4.7,  1.5],\n",
       "        [ 6.3,  2.3,  4.4,  1.3],\n",
       "        [ 5.6,  3. ,  4.1,  1.3],\n",
       "        [ 5.5,  2.5,  4. ,  1.3],\n",
       "        [ 5.5,  2.6,  4.4,  1.2],\n",
       "        [ 6.1,  3. ,  4.6,  1.4],\n",
       "        [ 5.8,  2.6,  4. ,  1.2],\n",
       "        [ 5. ,  2.3,  3.3,  1. ],\n",
       "        [ 5.6,  2.7,  4.2,  1.3],\n",
       "        [ 5.7,  3. ,  4.2,  1.2],\n",
       "        [ 5.7,  2.9,  4.2,  1.3],\n",
       "        [ 6.2,  2.9,  4.3,  1.3],\n",
       "        [ 5.1,  2.5,  3. ,  1.1],\n",
       "        [ 5.7,  2.8,  4.1,  1.3],\n",
       "        [ 6.3,  3.3,  6. ,  2.5],\n",
       "        [ 5.8,  2.7,  5.1,  1.9],\n",
       "        [ 7.1,  3. ,  5.9,  2.1],\n",
       "        [ 6.3,  2.9,  5.6,  1.8],\n",
       "        [ 6.5,  3. ,  5.8,  2.2],\n",
       "        [ 7.6,  3. ,  6.6,  2.1],\n",
       "        [ 4.9,  2.5,  4.5,  1.7],\n",
       "        [ 7.3,  2.9,  6.3,  1.8],\n",
       "        [ 6.7,  2.5,  5.8,  1.8],\n",
       "        [ 7.2,  3.6,  6.1,  2.5],\n",
       "        [ 6.5,  3.2,  5.1,  2. ],\n",
       "        [ 6.4,  2.7,  5.3,  1.9],\n",
       "        [ 6.8,  3. ,  5.5,  2.1],\n",
       "        [ 5.7,  2.5,  5. ,  2. ],\n",
       "        [ 5.8,  2.8,  5.1,  2.4],\n",
       "        [ 6.4,  3.2,  5.3,  2.3],\n",
       "        [ 6.5,  3. ,  5.5,  1.8],\n",
       "        [ 7.7,  3.8,  6.7,  2.2],\n",
       "        [ 7.7,  2.6,  6.9,  2.3],\n",
       "        [ 6. ,  2.2,  5. ,  1.5],\n",
       "        [ 6.9,  3.2,  5.7,  2.3],\n",
       "        [ 5.6,  2.8,  4.9,  2. ],\n",
       "        [ 7.7,  2.8,  6.7,  2. ],\n",
       "        [ 6.3,  2.7,  4.9,  1.8],\n",
       "        [ 6.7,  3.3,  5.7,  2.1],\n",
       "        [ 7.2,  3.2,  6. ,  1.8],\n",
       "        [ 6.2,  2.8,  4.8,  1.8],\n",
       "        [ 6.1,  3. ,  4.9,  1.8],\n",
       "        [ 6.4,  2.8,  5.6,  2.1],\n",
       "        [ 7.2,  3. ,  5.8,  1.6],\n",
       "        [ 7.4,  2.8,  6.1,  1.9],\n",
       "        [ 7.9,  3.8,  6.4,  2. ],\n",
       "        [ 6.4,  2.8,  5.6,  2.2],\n",
       "        [ 6.3,  2.8,  5.1,  1.5],\n",
       "        [ 6.1,  2.6,  5.6,  1.4],\n",
       "        [ 7.7,  3. ,  6.1,  2.3],\n",
       "        [ 6.3,  3.4,  5.6,  2.4],\n",
       "        [ 6.4,  3.1,  5.5,  1.8],\n",
       "        [ 6. ,  3. ,  4.8,  1.8],\n",
       "        [ 6.9,  3.1,  5.4,  2.1],\n",
       "        [ 6.7,  3.1,  5.6,  2.4],\n",
       "        [ 6.9,  3.1,  5.1,  2.3],\n",
       "        [ 5.8,  2.7,  5.1,  1.9],\n",
       "        [ 6.8,  3.2,  5.9,  2.3],\n",
       "        [ 6.7,  3.3,  5.7,  2.5],\n",
       "        [ 6.7,  3. ,  5.2,  2.3],\n",
       "        [ 6.3,  2.5,  5. ,  1.9],\n",
       "        [ 6.5,  3. ,  5.2,  2. ],\n",
       "        [ 6.2,  3.4,  5.4,  2.3],\n",
       "        [ 5.9,  3. ,  5.1,  1.8]]),\n",
       " 'feature_names': ['sepal length (cm)',\n",
       "  'sepal width (cm)',\n",
       "  'petal length (cm)',\n",
       "  'petal width (cm)'],\n",
       " 'target': array([0, 0, 0, 0, 0, 0, 0, 0, 0, 0, 0, 0, 0, 0, 0, 0, 0, 0, 0, 0, 0, 0, 0,\n",
       "        0, 0, 0, 0, 0, 0, 0, 0, 0, 0, 0, 0, 0, 0, 0, 0, 0, 0, 0, 0, 0, 0, 0,\n",
       "        0, 0, 0, 0, 1, 1, 1, 1, 1, 1, 1, 1, 1, 1, 1, 1, 1, 1, 1, 1, 1, 1, 1,\n",
       "        1, 1, 1, 1, 1, 1, 1, 1, 1, 1, 1, 1, 1, 1, 1, 1, 1, 1, 1, 1, 1, 1, 1,\n",
       "        1, 1, 1, 1, 1, 1, 1, 1, 2, 2, 2, 2, 2, 2, 2, 2, 2, 2, 2, 2, 2, 2, 2,\n",
       "        2, 2, 2, 2, 2, 2, 2, 2, 2, 2, 2, 2, 2, 2, 2, 2, 2, 2, 2, 2, 2, 2, 2,\n",
       "        2, 2, 2, 2, 2, 2, 2, 2, 2, 2, 2, 2]),\n",
       " 'target_names': array(['setosa', 'versicolor', 'virginica'], \n",
       "       dtype='|S10')}"
      ]
     },
     "execution_count": 136,
     "metadata": {},
     "output_type": "execute_result"
    }
   ],
   "source": [
    "iris"
   ]
  },
  {
   "cell_type": "code",
   "execution_count": 137,
   "metadata": {
    "slideshow": {
     "slide_type": "subslide"
    }
   },
   "outputs": [],
   "source": [
    "X = iris['data'][:,:2]\n",
    "y = iris['target']"
   ]
  },
  {
   "cell_type": "code",
   "execution_count": 138,
   "metadata": {
    "slideshow": {
     "slide_type": "subslide"
    }
   },
   "outputs": [],
   "source": [
    "np.c_?"
   ]
  },
  {
   "cell_type": "code",
   "execution_count": 139,
   "metadata": {
    "slideshow": {
     "slide_type": "subslide"
    }
   },
   "outputs": [
    {
     "data": {
      "image/png": "[encoded data removed]",
      "text/plain": [
       "<matplotlib.figure.Figure at 0x11b4457d0>"
      ]
     },
     "metadata": {},
     "output_type": "display_data"
    }
   ],
   "source": [
    "clf = neighbors.KNeighborsClassifier(n_neighbors)\n",
    "clf.fit(X, y)\n",
    "\n",
    "# Plot the decision boundary. For that, we will assign a color to each\n",
    "# point in the mesh [x_min, x_max]x[y_min, y_max].\n",
    "x_min, x_max = X[:, 0].min() - 1, X[:, 0].max() + 1\n",
    "y_min, y_max = X[:, 1].min() - 1, X[:, 1].max() + 1\n",
    "xx, yy = np.meshgrid(np.arange(x_min, x_max, h), np.arange(y_min, y_max, h))\n",
    "Z = clf.predict(np.c_[xx.ravel(), yy.ravel()])\n",
    "\n",
    "# Put the result into a color plot\n",
    "Z = Z.reshape(xx.shape)\n",
    "plt.figure(figsize=(10,10))\n",
    "plt.pcolormesh(xx, yy, Z, cmap=cmap_light)\n",
    "\n",
    "# Plot also the training points\n",
    "plt.scatter(X[:, 0], X[:, 1], c=y, cmap=cmap_bold, edgecolor='k', s=20)\n",
    "plt.xlim(xx.min(), xx.max())\n",
    "plt.ylim(yy.min(), yy.max())\n",
    "plt.title(\"3-Class classification (k = %i)\" % (n_neighbors))\n",
    "\n",
    "plt.show()"
   ]
  },
  {
   "cell_type": "markdown",
   "metadata": {
    "slideshow": {
     "slide_type": "slide"
    }
   },
   "source": [
    "### Proviamo ora con il dataset dei movimenti....\n",
    "\n",
    "#### Import delle librerie"
   ]
  },
  {
   "cell_type": "code",
   "execution_count": 170,
   "metadata": {
    "slideshow": {
     "slide_type": "fragment"
    }
   },
   "outputs": [],
   "source": [
    "from sklearn.preprocessing import StandardScaler\n",
    "from sklearn import neighbors"
   ]
  },
  {
   "cell_type": "markdown",
   "metadata": {
    "slideshow": {
     "slide_type": "slide"
    }
   },
   "source": [
    "Estraiamo i nomi delle features:"
   ]
  },
  {
   "cell_type": "code",
   "execution_count": 171,
   "metadata": {
    "slideshow": {
     "slide_type": "fragment"
    }
   },
   "outputs": [
    {
     "name": "stdout",
     "output_type": "stream",
     "text": [
      "['Ax_1', 'Ax_2', 'Ax_3', 'Ax_4', 'Ax_5', 'Ax_6', 'Ax_7', 'Ax_8', 'Ax_9', 'Ax_10', 'Ax_11', 'Ax_12', 'Ax_13', 'Ax_14', 'Ax_15', 'Ax_16', 'Ax_17', 'Ax_18', 'Ax_19', 'Ax_20', 'Ay_1', 'Ay_2', 'Ay_3', 'Ay_4', 'Ay_5', 'Ay_6', 'Ay_7', 'Ay_8', 'Ay_9', 'Ay_10', 'Ay_11', 'Ay_12', 'Ay_13', 'Ay_14', 'Ay_15', 'Ay_16', 'Ay_17', 'Ay_18', 'Ay_19', 'Ay_20', 'Az_1', 'Az_2', 'Az_3', 'Az_4', 'Az_5', 'Az_6', 'Az_7', 'Az_8', 'Az_9', 'Az_10', 'Az_11', 'Az_12', 'Az_13', 'Az_14', 'Az_15', 'Az_16', 'Az_17', 'Az_18', 'Az_19', 'Az_20', 'Gx_1', 'Gx_2', 'Gx_3', 'Gx_4', 'Gx_5', 'Gx_6', 'Gx_7', 'Gx_8', 'Gx_9', 'Gx_10', 'Gx_11', 'Gx_12', 'Gx_13', 'Gx_14', 'Gx_15', 'Gx_16', 'Gx_17', 'Gx_18', 'Gx_19', 'Gx_20', 'Gy_1', 'Gy_2', 'Gy_3', 'Gy_4', 'Gy_5', 'Gy_6', 'Gy_7', 'Gy_8', 'Gy_9', 'Gy_10', 'Gy_11', 'Gy_12', 'Gy_13', 'Gy_14', 'Gy_15', 'Gy_16', 'Gy_17', 'Gy_18', 'Gy_19', 'Gy_20', 'Gz_1', 'Gz_2', 'Gz_3', 'Gz_4', 'Gz_5', 'Gz_6', 'Gz_7', 'Gz_8', 'Gz_9', 'Gz_10', 'Gz_11', 'Gz_12', 'Gz_13', 'Gz_14', 'Gz_15', 'Gz_16', 'Gz_17', 'Gz_18', 'Gz_19', 'Gz_20']\n"
     ]
    }
   ],
   "source": [
    "features = [col for col in data.columns.tolist() if col!='movement']\n",
    "print features"
   ]
  },
  {
   "cell_type": "markdown",
   "metadata": {
    "slideshow": {
     "slide_type": "slide"
    }
   },
   "source": [
    "Scombiamo a caso l'ordine dei campioni..."
   ]
  },
  {
   "cell_type": "code",
   "execution_count": 172,
   "metadata": {
    "slideshow": {
     "slide_type": "fragment"
    }
   },
   "outputs": [],
   "source": [
    "data.sample?"
   ]
  },
  {
   "cell_type": "code",
   "execution_count": 173,
   "metadata": {
    "slideshow": {
     "slide_type": "fragment"
    }
   },
   "outputs": [
    {
     "data": {
      "text/html": [
       "<div>\n",
       "<style>\n",
       "    .dataframe thead tr:only-child th {\n",
       "        text-align: right;\n",
       "    }\n",
       "\n",
       "    .dataframe thead th {\n",
       "        text-align: left;\n",
       "    }\n",
       "\n",
       "    .dataframe tbody tr th {\n",
       "        vertical-align: top;\n",
       "    }\n",
       "</style>\n",
       "<table border=\"1\" class=\"dataframe\">\n",
       "  <thead>\n",
       "    <tr style=\"text-align: right;\">\n",
       "      <th></th>\n",
       "      <th>Ax_1</th>\n",
       "      <th>Ax_2</th>\n",
       "      <th>Ax_3</th>\n",
       "      <th>Ax_4</th>\n",
       "      <th>Ax_5</th>\n",
       "      <th>Ax_6</th>\n",
       "      <th>Ax_7</th>\n",
       "      <th>Ax_8</th>\n",
       "      <th>Ax_9</th>\n",
       "      <th>Ax_10</th>\n",
       "      <th>...</th>\n",
       "      <th>Gz_12</th>\n",
       "      <th>Gz_13</th>\n",
       "      <th>Gz_14</th>\n",
       "      <th>Gz_15</th>\n",
       "      <th>Gz_16</th>\n",
       "      <th>Gz_17</th>\n",
       "      <th>Gz_18</th>\n",
       "      <th>Gz_19</th>\n",
       "      <th>Gz_20</th>\n",
       "      <th>movement</th>\n",
       "    </tr>\n",
       "  </thead>\n",
       "  <tbody>\n",
       "    <tr>\n",
       "      <th>1.524893e+09</th>\n",
       "      <td>-0.159912</td>\n",
       "      <td>0.027588</td>\n",
       "      <td>0.177734</td>\n",
       "      <td>0.386963</td>\n",
       "      <td>0.759277</td>\n",
       "      <td>1.115479</td>\n",
       "      <td>1.458984</td>\n",
       "      <td>1.947754</td>\n",
       "      <td>1.999939</td>\n",
       "      <td>1.999939</td>\n",
       "      <td>...</td>\n",
       "      <td>-12.229008</td>\n",
       "      <td>-15.893130</td>\n",
       "      <td>-16.503817</td>\n",
       "      <td>-20.755725</td>\n",
       "      <td>-27.832061</td>\n",
       "      <td>-31.923664</td>\n",
       "      <td>-36.893130</td>\n",
       "      <td>-41.564885</td>\n",
       "      <td>-42.145038</td>\n",
       "      <td>3</td>\n",
       "    </tr>\n",
       "    <tr>\n",
       "      <th>1.524893e+09</th>\n",
       "      <td>1.272217</td>\n",
       "      <td>1.270264</td>\n",
       "      <td>1.162598</td>\n",
       "      <td>1.096436</td>\n",
       "      <td>1.100098</td>\n",
       "      <td>1.004150</td>\n",
       "      <td>0.967041</td>\n",
       "      <td>0.934814</td>\n",
       "      <td>0.950928</td>\n",
       "      <td>0.964600</td>\n",
       "      <td>...</td>\n",
       "      <td>9.167939</td>\n",
       "      <td>5.610687</td>\n",
       "      <td>2.198473</td>\n",
       "      <td>-0.748092</td>\n",
       "      <td>-3.671756</td>\n",
       "      <td>-6.320611</td>\n",
       "      <td>-9.274809</td>\n",
       "      <td>-10.816794</td>\n",
       "      <td>-10.786260</td>\n",
       "      <td>4</td>\n",
       "    </tr>\n",
       "    <tr>\n",
       "      <th>1.524893e+09</th>\n",
       "      <td>0.988281</td>\n",
       "      <td>1.055176</td>\n",
       "      <td>1.127930</td>\n",
       "      <td>1.131836</td>\n",
       "      <td>1.174072</td>\n",
       "      <td>1.170898</td>\n",
       "      <td>1.184326</td>\n",
       "      <td>1.184082</td>\n",
       "      <td>1.217285</td>\n",
       "      <td>1.272217</td>\n",
       "      <td>...</td>\n",
       "      <td>-4.557252</td>\n",
       "      <td>-1.236641</td>\n",
       "      <td>1.381679</td>\n",
       "      <td>5.221374</td>\n",
       "      <td>7.748092</td>\n",
       "      <td>9.183206</td>\n",
       "      <td>9.954198</td>\n",
       "      <td>10.183206</td>\n",
       "      <td>10.809160</td>\n",
       "      <td>4</td>\n",
       "    </tr>\n",
       "    <tr>\n",
       "      <th>1.524893e+09</th>\n",
       "      <td>0.972656</td>\n",
       "      <td>1.055908</td>\n",
       "      <td>1.117920</td>\n",
       "      <td>1.107422</td>\n",
       "      <td>1.103516</td>\n",
       "      <td>1.096924</td>\n",
       "      <td>1.077148</td>\n",
       "      <td>1.130127</td>\n",
       "      <td>1.195312</td>\n",
       "      <td>1.217529</td>\n",
       "      <td>...</td>\n",
       "      <td>-8.702290</td>\n",
       "      <td>-5.702290</td>\n",
       "      <td>-2.358779</td>\n",
       "      <td>0.343511</td>\n",
       "      <td>3.083969</td>\n",
       "      <td>5.572519</td>\n",
       "      <td>7.358779</td>\n",
       "      <td>8.435115</td>\n",
       "      <td>9.389313</td>\n",
       "      <td>4</td>\n",
       "    </tr>\n",
       "    <tr>\n",
       "      <th>1.524893e+09</th>\n",
       "      <td>1.697754</td>\n",
       "      <td>1.332031</td>\n",
       "      <td>1.235107</td>\n",
       "      <td>1.311768</td>\n",
       "      <td>1.523438</td>\n",
       "      <td>1.599121</td>\n",
       "      <td>1.566650</td>\n",
       "      <td>1.530273</td>\n",
       "      <td>1.425781</td>\n",
       "      <td>1.227295</td>\n",
       "      <td>...</td>\n",
       "      <td>-36.580153</td>\n",
       "      <td>-30.106870</td>\n",
       "      <td>-18.427481</td>\n",
       "      <td>-4.381679</td>\n",
       "      <td>4.358779</td>\n",
       "      <td>12.106870</td>\n",
       "      <td>21.145038</td>\n",
       "      <td>30.488550</td>\n",
       "      <td>37.778626</td>\n",
       "      <td>3</td>\n",
       "    </tr>\n",
       "    <tr>\n",
       "      <th>1.524893e+09</th>\n",
       "      <td>0.249023</td>\n",
       "      <td>0.521973</td>\n",
       "      <td>0.852539</td>\n",
       "      <td>1.500244</td>\n",
       "      <td>1.743408</td>\n",
       "      <td>1.999939</td>\n",
       "      <td>1.999939</td>\n",
       "      <td>1.988037</td>\n",
       "      <td>1.604248</td>\n",
       "      <td>1.273438</td>\n",
       "      <td>...</td>\n",
       "      <td>-17.824427</td>\n",
       "      <td>-20.534351</td>\n",
       "      <td>-31.038168</td>\n",
       "      <td>-40.145038</td>\n",
       "      <td>-42.320611</td>\n",
       "      <td>-42.946565</td>\n",
       "      <td>-40.030534</td>\n",
       "      <td>-34.160305</td>\n",
       "      <td>-25.961832</td>\n",
       "      <td>3</td>\n",
       "    </tr>\n",
       "    <tr>\n",
       "      <th>1.524893e+09</th>\n",
       "      <td>0.000000</td>\n",
       "      <td>0.000000</td>\n",
       "      <td>0.000000</td>\n",
       "      <td>0.000000</td>\n",
       "      <td>0.000000</td>\n",
       "      <td>0.000000</td>\n",
       "      <td>0.000000</td>\n",
       "      <td>0.000000</td>\n",
       "      <td>0.000000</td>\n",
       "      <td>0.000000</td>\n",
       "      <td>...</td>\n",
       "      <td>0.000000</td>\n",
       "      <td>0.000000</td>\n",
       "      <td>0.000000</td>\n",
       "      <td>0.000000</td>\n",
       "      <td>0.000000</td>\n",
       "      <td>12.030534</td>\n",
       "      <td>10.213740</td>\n",
       "      <td>9.786260</td>\n",
       "      <td>13.625954</td>\n",
       "      <td>2</td>\n",
       "    </tr>\n",
       "    <tr>\n",
       "      <th>1.524893e+09</th>\n",
       "      <td>0.000000</td>\n",
       "      <td>0.000000</td>\n",
       "      <td>0.000000</td>\n",
       "      <td>0.000000</td>\n",
       "      <td>0.000000</td>\n",
       "      <td>0.000000</td>\n",
       "      <td>0.000000</td>\n",
       "      <td>0.000000</td>\n",
       "      <td>0.000000</td>\n",
       "      <td>0.000000</td>\n",
       "      <td>...</td>\n",
       "      <td>0.000000</td>\n",
       "      <td>0.000000</td>\n",
       "      <td>0.000000</td>\n",
       "      <td>0.000000</td>\n",
       "      <td>0.000000</td>\n",
       "      <td>0.000000</td>\n",
       "      <td>0.000000</td>\n",
       "      <td>0.000000</td>\n",
       "      <td>48.564885</td>\n",
       "      <td>3</td>\n",
       "    </tr>\n",
       "    <tr>\n",
       "      <th>1.524893e+09</th>\n",
       "      <td>1.221191</td>\n",
       "      <td>1.031738</td>\n",
       "      <td>1.030029</td>\n",
       "      <td>1.043213</td>\n",
       "      <td>1.072998</td>\n",
       "      <td>1.101807</td>\n",
       "      <td>1.035156</td>\n",
       "      <td>0.962646</td>\n",
       "      <td>0.980957</td>\n",
       "      <td>0.977539</td>\n",
       "      <td>...</td>\n",
       "      <td>-4.213740</td>\n",
       "      <td>-2.587786</td>\n",
       "      <td>-1.702290</td>\n",
       "      <td>-1.213740</td>\n",
       "      <td>-1.290076</td>\n",
       "      <td>-1.709924</td>\n",
       "      <td>-2.679389</td>\n",
       "      <td>-3.572519</td>\n",
       "      <td>-4.068702</td>\n",
       "      <td>5</td>\n",
       "    </tr>\n",
       "    <tr>\n",
       "      <th>1.524893e+09</th>\n",
       "      <td>1.178711</td>\n",
       "      <td>1.202637</td>\n",
       "      <td>1.102783</td>\n",
       "      <td>1.057617</td>\n",
       "      <td>1.070312</td>\n",
       "      <td>1.054443</td>\n",
       "      <td>1.035889</td>\n",
       "      <td>1.025635</td>\n",
       "      <td>1.088135</td>\n",
       "      <td>1.095947</td>\n",
       "      <td>...</td>\n",
       "      <td>-2.984733</td>\n",
       "      <td>-3.748092</td>\n",
       "      <td>-4.488550</td>\n",
       "      <td>-4.977099</td>\n",
       "      <td>-5.267176</td>\n",
       "      <td>-7.022901</td>\n",
       "      <td>-8.877863</td>\n",
       "      <td>-8.038168</td>\n",
       "      <td>-7.931298</td>\n",
       "      <td>5</td>\n",
       "    </tr>\n",
       "  </tbody>\n",
       "</table>\n",
       "<p>10 rows × 121 columns</p>\n",
       "</div>"
      ],
      "text/plain": [
       "                  Ax_1      Ax_2      Ax_3      Ax_4      Ax_5      Ax_6  \\\n",
       "1.524893e+09 -0.159912  0.027588  0.177734  0.386963  0.759277  1.115479   \n",
       "1.524893e+09  1.272217  1.270264  1.162598  1.096436  1.100098  1.004150   \n",
       "1.524893e+09  0.988281  1.055176  1.127930  1.131836  1.174072  1.170898   \n",
       "1.524893e+09  0.972656  1.055908  1.117920  1.107422  1.103516  1.096924   \n",
       "1.524893e+09  1.697754  1.332031  1.235107  1.311768  1.523438  1.599121   \n",
       "1.524893e+09  0.249023  0.521973  0.852539  1.500244  1.743408  1.999939   \n",
       "1.524893e+09  0.000000  0.000000  0.000000  0.000000  0.000000  0.000000   \n",
       "1.524893e+09  0.000000  0.000000  0.000000  0.000000  0.000000  0.000000   \n",
       "1.524893e+09  1.221191  1.031738  1.030029  1.043213  1.072998  1.101807   \n",
       "1.524893e+09  1.178711  1.202637  1.102783  1.057617  1.070312  1.054443   \n",
       "\n",
       "                  Ax_7      Ax_8      Ax_9     Ax_10    ...         Gz_12  \\\n",
       "1.524893e+09  1.458984  1.947754  1.999939  1.999939    ...    -12.229008   \n",
       "1.524893e+09  0.967041  0.934814  0.950928  0.964600    ...      9.167939   \n",
       "1.524893e+09  1.184326  1.184082  1.217285  1.272217    ...     -4.557252   \n",
       "1.524893e+09  1.077148  1.130127  1.195312  1.217529    ...     -8.702290   \n",
       "1.524893e+09  1.566650  1.530273  1.425781  1.227295    ...    -36.580153   \n",
       "1.524893e+09  1.999939  1.988037  1.604248  1.273438    ...    -17.824427   \n",
       "1.524893e+09  0.000000  0.000000  0.000000  0.000000    ...      0.000000   \n",
       "1.524893e+09  0.000000  0.000000  0.000000  0.000000    ...      0.000000   \n",
       "1.524893e+09  1.035156  0.962646  0.980957  0.977539    ...     -4.213740   \n",
       "1.524893e+09  1.035889  1.025635  1.088135  1.095947    ...     -2.984733   \n",
       "\n",
       "                  Gz_13      Gz_14      Gz_15      Gz_16      Gz_17  \\\n",
       "1.524893e+09 -15.893130 -16.503817 -20.755725 -27.832061 -31.923664   \n",
       "1.524893e+09   5.610687   2.198473  -0.748092  -3.671756  -6.320611   \n",
       "1.524893e+09  -1.236641   1.381679   5.221374   7.748092   9.183206   \n",
       "1.524893e+09  -5.702290  -2.358779   0.343511   3.083969   5.572519   \n",
       "1.524893e+09 -30.106870 -18.427481  -4.381679   4.358779  12.106870   \n",
       "1.524893e+09 -20.534351 -31.038168 -40.145038 -42.320611 -42.946565   \n",
       "1.524893e+09   0.000000   0.000000   0.000000   0.000000  12.030534   \n",
       "1.524893e+09   0.000000   0.000000   0.000000   0.000000   0.000000   \n",
       "1.524893e+09  -2.587786  -1.702290  -1.213740  -1.290076  -1.709924   \n",
       "1.524893e+09  -3.748092  -4.488550  -4.977099  -5.267176  -7.022901   \n",
       "\n",
       "                  Gz_18      Gz_19      Gz_20  movement  \n",
       "1.524893e+09 -36.893130 -41.564885 -42.145038         3  \n",
       "1.524893e+09  -9.274809 -10.816794 -10.786260         4  \n",
       "1.524893e+09   9.954198  10.183206  10.809160         4  \n",
       "1.524893e+09   7.358779   8.435115   9.389313         4  \n",
       "1.524893e+09  21.145038  30.488550  37.778626         3  \n",
       "1.524893e+09 -40.030534 -34.160305 -25.961832         3  \n",
       "1.524893e+09  10.213740   9.786260  13.625954         2  \n",
       "1.524893e+09   0.000000   0.000000  48.564885         3  \n",
       "1.524893e+09  -2.679389  -3.572519  -4.068702         5  \n",
       "1.524893e+09  -8.877863  -8.038168  -7.931298         5  \n",
       "\n",
       "[10 rows x 121 columns]"
      ]
     },
     "execution_count": 173,
     "metadata": {},
     "output_type": "execute_result"
    }
   ],
   "source": [
    "shuffled_data = data.sample(frac=1)\n",
    "shuffled_data.head(10)"
   ]
  },
  {
   "cell_type": "markdown",
   "metadata": {
    "slideshow": {
     "slide_type": "slide"
    }
   },
   "source": [
    "** Ora proviamo a costruire un classificatore a primi vicini! **\n",
    "\n",
    "In fase di sviluppo è buona norma suddividere il dataset in due parti il più possibile scorrelate tra di loro:\n",
    "* training data\n",
    "* test data\n",
    "\n",
    "Questa situazione emula la situazione reale del sistema in produzione in cui si ha la suddivisione:\n",
    "* dati in-sample: dati usati per fare il training dell'algortimo una volta per tutte\n",
    "* dati out-of-sample: dati reali che stimolano l'algoritmo nei casi non noti"
   ]
  },
  {
   "cell_type": "code",
   "execution_count": 174,
   "metadata": {
    "slideshow": {
     "slide_type": "fragment"
    }
   },
   "outputs": [
    {
     "name": "stdout",
     "output_type": "stream",
     "text": [
      "N of train samples = 500,  N of test samples = 251\n"
     ]
    }
   ],
   "source": [
    "n_of_train_samples = 500\n",
    "n_of_test_samples = len(data) - n_of_train_samples\n",
    "\n",
    "train_data = shuffled_data.iloc[0:n_of_train_samples]\n",
    "test_data = shuffled_data.iloc[n_of_train_samples:len(shuffled_data)]\n",
    "\n",
    "print \"N of train samples = %i,  N of test samples = %i\"%(n_of_train_samples, n_of_test_samples)"
   ]
  },
  {
   "cell_type": "markdown",
   "metadata": {
    "slideshow": {
     "slide_type": "slide"
    }
   },
   "source": [
    "### Creazione dei dataset di test e di training\n"
   ]
  },
  {
   "cell_type": "code",
   "execution_count": 175,
   "metadata": {
    "slideshow": {
     "slide_type": "fragment"
    }
   },
   "outputs": [],
   "source": [
    "X_train = train_data[features].values\n",
    "X_test = test_data[features].values\n",
    "\n",
    "y_train = train_data['movement'].values\n",
    "y_test = test_data['movement'].values"
   ]
  },
  {
   "cell_type": "markdown",
   "metadata": {
    "slideshow": {
     "slide_type": "slide"
    }
   },
   "source": [
    "### Standardizzare le feature rimuovendo la media e scalando a varianza unitaria"
   ]
  },
  {
   "cell_type": "code",
   "execution_count": 176,
   "metadata": {
    "slideshow": {
     "slide_type": "fragment"
    }
   },
   "outputs": [],
   "source": [
    "sc = StandardScaler()\n",
    "sc.fit(X_train)\n",
    "X_train_scaled = sc.transform(X_train)\n",
    "X_test_scaled = sc.transform(X_test)"
   ]
  },
  {
   "cell_type": "code",
   "execution_count": 177,
   "metadata": {
    "slideshow": {
     "slide_type": "fragment"
    }
   },
   "outputs": [
    {
     "data": {
      "text/plain": [
       "array([[-1.93015731, -1.60847912, -1.34689725, ..., -1.71635234,\n",
       "        -1.9260353 , -1.93746872],\n",
       "       [ 0.74135015,  0.73037697,  0.53036302, ..., -0.43712146,\n",
       "        -0.50013963, -0.49211747],\n",
       "       [ 0.21169397,  0.32555728,  0.46428197, ...,  0.45353154,\n",
       "         0.47370322,  0.50323274],\n",
       "       ..., \n",
       "       [ 1.22273157,  1.0230786 ,  0.65368329, ...,  1.90707442,\n",
       "         1.50064546, -0.06920798],\n",
       "       [-1.63185567, -1.66040264, -1.68567897, ...,  0.13248631,\n",
       "        -0.02507707, -0.17405576],\n",
       "       [ 0.05275157,  0.09213117,  0.10130155, ..., -0.02167197,\n",
       "        -0.07923845, -0.1311315 ]])"
      ]
     },
     "execution_count": 177,
     "metadata": {},
     "output_type": "execute_result"
    }
   ],
   "source": [
    "X_train_scaled"
   ]
  },
  {
   "cell_type": "markdown",
   "metadata": {
    "slideshow": {
     "slide_type": "slide"
    }
   },
   "source": [
    "### Creiamo l'algoritmo\n",
    "\n",
    "http://scikit-learn.org/stable/modules/generated/sklearn.ensemble.RandomForestClassifier.html#sklearn.ensemble.RandomForestClassifier"
   ]
  },
  {
   "cell_type": "code",
   "execution_count": 178,
   "metadata": {
    "slideshow": {
     "slide_type": "fragment"
    }
   },
   "outputs": [
    {
     "data": {
      "text/plain": [
       "KNeighborsClassifier(algorithm='auto', leaf_size=30, metric='minkowski',\n",
       "           metric_params=None, n_jobs=1, n_neighbors=20, p=2,\n",
       "           weights='uniform')"
      ]
     },
     "execution_count": 178,
     "metadata": {},
     "output_type": "execute_result"
    }
   ],
   "source": [
    "n_neighbors = 20\n",
    "clf = neighbors.KNeighborsClassifier(n_neighbors)\n",
    "clf.fit(X_train_scaled, y_train)"
   ]
  },
  {
   "cell_type": "markdown",
   "metadata": {
    "slideshow": {
     "slide_type": "fragment"
    }
   },
   "source": [
    "Utilizzando questo modello calcoliamo la percentuale di movimenti classificati correttamente all'interno del test dataset..."
   ]
  },
  {
   "cell_type": "code",
   "execution_count": 179,
   "metadata": {
    "slideshow": {
     "slide_type": "fragment"
    }
   },
   "outputs": [
    {
     "data": {
      "text/plain": [
       "0.94820717131474108"
      ]
     },
     "execution_count": 179,
     "metadata": {},
     "output_type": "execute_result"
    }
   ],
   "source": [
    "clf.score(X_test_scaled, y_test)"
   ]
  },
  {
   "cell_type": "markdown",
   "metadata": {
    "slideshow": {
     "slide_type": "fragment"
    }
   },
   "source": [
    "## Funziona!"
   ]
  },
  {
   "cell_type": "code",
   "execution_count": 180,
   "metadata": {
    "slideshow": {
     "slide_type": "subslide"
    }
   },
   "outputs": [
    {
     "data": {
      "text/plain": [
       "array([5, 5, 4, 1, 5, 1, 4, 4, 1, 4, 1, 3, 2, 5, 4, 4, 1, 5, 5, 4, 1, 3, 1,\n",
       "       5, 2, 1, 3, 5, 4, 4, 5, 4, 1, 3, 5, 1, 3, 3, 3, 3, 4, 3, 1, 4, 4, 4,\n",
       "       3, 4, 1, 4, 4, 4, 3, 3, 3, 5, 1, 1, 1, 4, 4, 1, 4, 5, 4, 1, 3, 4, 4,\n",
       "       3, 4, 5, 1, 5, 1, 3, 3, 4, 1, 5, 4, 4, 1, 3, 1, 5, 5, 1, 5, 4, 3, 1,\n",
       "       5, 1, 5, 3, 2, 4, 1, 1, 5, 5, 5, 3, 5, 4, 3, 4, 3, 3, 4, 4, 5, 5, 3,\n",
       "       5, 5, 1, 1, 2, 4, 2, 3, 3, 3, 1, 1, 3, 4, 5, 1, 4, 2, 4, 3, 3, 4, 4,\n",
       "       2, 4, 5, 1, 1, 1, 5, 3, 2, 4, 1, 5, 4, 1, 4, 3, 4, 3, 5, 5, 5, 3, 1,\n",
       "       2, 4, 3, 4, 3, 4, 4, 4, 4, 4, 4, 1, 3, 3, 4, 4, 3, 3, 1, 4, 5, 4, 1,\n",
       "       4, 3, 5, 1, 1, 5, 2, 3, 4, 4, 1, 1, 5, 4, 1, 4, 1, 1, 5, 3, 3, 3, 3,\n",
       "       1, 1, 5, 1, 1, 5, 3, 4, 5, 1, 4, 1, 5, 4, 3, 1, 5, 3, 1, 3, 3, 3, 3,\n",
       "       4, 4, 4, 5, 4, 5, 3, 5, 2, 5, 1, 4, 2, 4, 5, 4, 5, 4, 4, 4, 5])"
      ]
     },
     "execution_count": 180,
     "metadata": {},
     "output_type": "execute_result"
    }
   ],
   "source": [
    "y_test"
   ]
  },
  {
   "cell_type": "code",
   "execution_count": 181,
   "metadata": {},
   "outputs": [
    {
     "data": {
      "text/plain": [
       "array([5, 5, 4, 1, 5, 1, 4, 4, 1, 4, 1, 3, 2, 5, 4, 4, 1, 5, 5, 4, 1, 3, 1,\n",
       "       5, 2, 1, 3, 5, 4, 5, 5, 4, 1, 4, 5, 1, 3, 3, 3, 3, 4, 3, 1, 4, 4, 4,\n",
       "       3, 4, 1, 4, 4, 4, 3, 3, 3, 5, 1, 1, 1, 4, 4, 1, 4, 5, 4, 1, 3, 4, 4,\n",
       "       3, 4, 5, 1, 5, 1, 3, 3, 4, 1, 5, 4, 4, 1, 3, 1, 5, 5, 1, 5, 4, 3, 1,\n",
       "       5, 1, 5, 3, 4, 4, 1, 1, 4, 5, 5, 3, 5, 4, 3, 4, 3, 3, 4, 4, 4, 5, 3,\n",
       "       5, 5, 1, 4, 2, 4, 5, 3, 3, 3, 1, 1, 3, 4, 5, 1, 4, 2, 4, 3, 3, 4, 4,\n",
       "       2, 4, 5, 1, 1, 1, 4, 3, 4, 4, 1, 5, 4, 1, 4, 3, 4, 3, 4, 5, 5, 3, 1,\n",
       "       4, 4, 3, 4, 3, 4, 4, 4, 4, 4, 4, 1, 3, 3, 4, 4, 3, 3, 1, 4, 5, 4, 1,\n",
       "       4, 3, 5, 1, 1, 5, 2, 3, 4, 4, 1, 1, 5, 4, 1, 4, 1, 1, 5, 3, 3, 3, 4,\n",
       "       4, 1, 5, 1, 1, 5, 3, 4, 5, 1, 4, 1, 5, 4, 3, 1, 5, 3, 1, 3, 3, 3, 3,\n",
       "       4, 4, 4, 5, 4, 5, 3, 5, 2, 5, 1, 4, 2, 4, 5, 4, 5, 4, 4, 4, 5])"
      ]
     },
     "execution_count": 181,
     "metadata": {},
     "output_type": "execute_result"
    }
   ],
   "source": [
    "clf.predict(X_test_scaled)"
   ]
  },
  {
   "cell_type": "markdown",
   "metadata": {
    "slideshow": {
     "slide_type": "slide"
    }
   },
   "source": [
    "### Ricreiamo lo stesso algoritmo ma...\n",
    "\n",
    "Con sole due feature scelte a caso tra le 120: la 3 e la 106"
   ]
  },
  {
   "cell_type": "code",
   "execution_count": 182,
   "metadata": {
    "slideshow": {
     "slide_type": "fragment"
    }
   },
   "outputs": [],
   "source": [
    "X_train_scaled_reduced = X_train_scaled[:,[3,106]]\n",
    "X_test_scaled_reduced = X_test_scaled[:,[3,106]]"
   ]
  },
  {
   "cell_type": "code",
   "execution_count": 183,
   "metadata": {
    "slideshow": {
     "slide_type": "fragment"
    }
   },
   "outputs": [
    {
     "data": {
      "text/plain": [
       "KNeighborsClassifier(algorithm='auto', leaf_size=30, metric='minkowski',\n",
       "           metric_params=None, n_jobs=1, n_neighbors=20, p=2,\n",
       "           weights='uniform')"
      ]
     },
     "execution_count": 183,
     "metadata": {},
     "output_type": "execute_result"
    }
   ],
   "source": [
    "n_neighbors = 20\n",
    "clf_reduced = neighbors.KNeighborsClassifier(n_neighbors)\n",
    "clf_reduced.fit(X_train_scaled_reduced, y_train)"
   ]
  },
  {
   "cell_type": "code",
   "execution_count": 184,
   "metadata": {
    "slideshow": {
     "slide_type": "fragment"
    }
   },
   "outputs": [
    {
     "data": {
      "text/plain": [
       "0.64940239043824699"
      ]
     },
     "execution_count": 184,
     "metadata": {},
     "output_type": "execute_result"
    }
   ],
   "source": [
    "clf_reduced.score(X_test_scaled_reduced, y_test)"
   ]
  },
  {
   "cell_type": "code",
   "execution_count": 185,
   "metadata": {
    "slideshow": {
     "slide_type": "slide"
    }
   },
   "outputs": [
    {
     "data": {
      "image/png": "[encoded data removed]",
      "text/plain": [
       "<matplotlib.figure.Figure at 0x117517890>"
      ]
     },
     "metadata": {},
     "output_type": "display_data"
    }
   ],
   "source": [
    "cmap_light = ListedColormap(['#FFAAAA', '#AAFFAA', '#AAAAFF'])\n",
    "cmap_bold = ListedColormap(['#FF0000', '#00FF00', '#0000FF', '#0FF000', '#000FF0'])\n",
    "\n",
    "# Plot the decision boundary. For that, we will assign a color to each\n",
    "# point in the mesh [x_min, x_max]x[y_min, y_max].\n",
    "x_min, x_max = X_train_scaled_reduced[:, 0].min() - 1, X_train_scaled_reduced[:, 0].max() + 1\n",
    "y_min, y_max = X_train_scaled_reduced[:, 1].min() - 1, X_train_scaled_reduced[:, 1].max() + 1\n",
    "xx, yy = np.meshgrid(np.arange(x_min, x_max, h), np.arange(y_min, y_max, h))\n",
    "Z = clf_reduced.predict(np.c_[xx.ravel(), yy.ravel()])\n",
    "\n",
    "# Put the result into a color plot\n",
    "Z = Z.reshape(xx.shape)\n",
    "plt.figure(figsize=(10,10))\n",
    "plt.pcolormesh(xx, yy, Z)\n",
    "\n",
    "# Plot also the training points\n",
    "plt.scatter(X_train_scaled_reduced[:, 0], X_train_scaled_reduced[:, 1], c=y_train-1, edgecolor='k', s=20)\n",
    "plt.xlim(xx.min(), xx.max())\n",
    "plt.ylim(yy.min(), yy.max())\n",
    "plt.show()"
   ]
  },
  {
   "cell_type": "markdown",
   "metadata": {
    "slideshow": {
     "slide_type": "slide"
    }
   },
   "source": [
    "### Passiamo ad un algortimo più sofisticato: Random Forest!\n",
    "\n",
    "Si tratta di un algoritmo di tipo ensemble: l'idea è di combinare le predizioni di molti estimatori semplici in modo da migliorare la robustezza e la la capacità di generalizzare.\n",
    "\n",
    "Consideriamo la famiglia * averaging ensembe methods *, ovvero quegli algoritmi in cui si costruiscono tanti singoli modelli indipendenti e poi di prende la media delle loro predizioni!\n",
    "\n",
    "Notebook: *WhatAreRandomForest.ipynb*"
   ]
  },
  {
   "cell_type": "code",
   "execution_count": 186,
   "metadata": {},
   "outputs": [],
   "source": [
    "### Applichiamo Random Forest ai movimenti"
   ]
  },
  {
   "cell_type": "code",
   "execution_count": 187,
   "metadata": {
    "slideshow": {
     "slide_type": "slide"
    }
   },
   "outputs": [
    {
     "data": {
      "text/html": [
       "<div>\n",
       "<style>\n",
       "    .dataframe thead tr:only-child th {\n",
       "        text-align: right;\n",
       "    }\n",
       "\n",
       "    .dataframe thead th {\n",
       "        text-align: left;\n",
       "    }\n",
       "\n",
       "    .dataframe tbody tr th {\n",
       "        vertical-align: top;\n",
       "    }\n",
       "</style>\n",
       "<table border=\"1\" class=\"dataframe\">\n",
       "  <thead>\n",
       "    <tr style=\"text-align: right;\">\n",
       "      <th></th>\n",
       "      <th>Ax_1</th>\n",
       "      <th>Ax_2</th>\n",
       "      <th>Ax_3</th>\n",
       "      <th>Ax_4</th>\n",
       "      <th>Ax_5</th>\n",
       "      <th>Ax_6</th>\n",
       "      <th>Ax_7</th>\n",
       "      <th>Ax_8</th>\n",
       "      <th>Ax_9</th>\n",
       "      <th>Ax_10</th>\n",
       "      <th>...</th>\n",
       "      <th>Gz_12</th>\n",
       "      <th>Gz_13</th>\n",
       "      <th>Gz_14</th>\n",
       "      <th>Gz_15</th>\n",
       "      <th>Gz_16</th>\n",
       "      <th>Gz_17</th>\n",
       "      <th>Gz_18</th>\n",
       "      <th>Gz_19</th>\n",
       "      <th>Gz_20</th>\n",
       "      <th>movement</th>\n",
       "    </tr>\n",
       "  </thead>\n",
       "  <tbody>\n",
       "    <tr>\n",
       "      <th>1.524893e+09</th>\n",
       "      <td>0.0</td>\n",
       "      <td>0.0</td>\n",
       "      <td>0.0</td>\n",
       "      <td>0.0</td>\n",
       "      <td>0.0</td>\n",
       "      <td>0.0</td>\n",
       "      <td>0.0</td>\n",
       "      <td>0.0</td>\n",
       "      <td>0.0</td>\n",
       "      <td>0.0</td>\n",
       "      <td>...</td>\n",
       "      <td>0.0</td>\n",
       "      <td>0.0</td>\n",
       "      <td>0.0</td>\n",
       "      <td>0.0</td>\n",
       "      <td>0.000000</td>\n",
       "      <td>0.000000</td>\n",
       "      <td>0.000000</td>\n",
       "      <td>0.000000</td>\n",
       "      <td>-22.458015</td>\n",
       "      <td>1</td>\n",
       "    </tr>\n",
       "    <tr>\n",
       "      <th>1.524893e+09</th>\n",
       "      <td>0.0</td>\n",
       "      <td>0.0</td>\n",
       "      <td>0.0</td>\n",
       "      <td>0.0</td>\n",
       "      <td>0.0</td>\n",
       "      <td>0.0</td>\n",
       "      <td>0.0</td>\n",
       "      <td>0.0</td>\n",
       "      <td>0.0</td>\n",
       "      <td>0.0</td>\n",
       "      <td>...</td>\n",
       "      <td>0.0</td>\n",
       "      <td>0.0</td>\n",
       "      <td>0.0</td>\n",
       "      <td>0.0</td>\n",
       "      <td>0.000000</td>\n",
       "      <td>0.000000</td>\n",
       "      <td>0.000000</td>\n",
       "      <td>-22.458015</td>\n",
       "      <td>-29.381679</td>\n",
       "      <td>1</td>\n",
       "    </tr>\n",
       "    <tr>\n",
       "      <th>1.524893e+09</th>\n",
       "      <td>0.0</td>\n",
       "      <td>0.0</td>\n",
       "      <td>0.0</td>\n",
       "      <td>0.0</td>\n",
       "      <td>0.0</td>\n",
       "      <td>0.0</td>\n",
       "      <td>0.0</td>\n",
       "      <td>0.0</td>\n",
       "      <td>0.0</td>\n",
       "      <td>0.0</td>\n",
       "      <td>...</td>\n",
       "      <td>0.0</td>\n",
       "      <td>0.0</td>\n",
       "      <td>0.0</td>\n",
       "      <td>0.0</td>\n",
       "      <td>0.000000</td>\n",
       "      <td>0.000000</td>\n",
       "      <td>-22.458015</td>\n",
       "      <td>-29.381679</td>\n",
       "      <td>-24.106870</td>\n",
       "      <td>1</td>\n",
       "    </tr>\n",
       "    <tr>\n",
       "      <th>1.524893e+09</th>\n",
       "      <td>0.0</td>\n",
       "      <td>0.0</td>\n",
       "      <td>0.0</td>\n",
       "      <td>0.0</td>\n",
       "      <td>0.0</td>\n",
       "      <td>0.0</td>\n",
       "      <td>0.0</td>\n",
       "      <td>0.0</td>\n",
       "      <td>0.0</td>\n",
       "      <td>0.0</td>\n",
       "      <td>...</td>\n",
       "      <td>0.0</td>\n",
       "      <td>0.0</td>\n",
       "      <td>0.0</td>\n",
       "      <td>0.0</td>\n",
       "      <td>0.000000</td>\n",
       "      <td>-22.458015</td>\n",
       "      <td>-29.381679</td>\n",
       "      <td>-24.106870</td>\n",
       "      <td>-14.061069</td>\n",
       "      <td>1</td>\n",
       "    </tr>\n",
       "    <tr>\n",
       "      <th>1.524893e+09</th>\n",
       "      <td>0.0</td>\n",
       "      <td>0.0</td>\n",
       "      <td>0.0</td>\n",
       "      <td>0.0</td>\n",
       "      <td>0.0</td>\n",
       "      <td>0.0</td>\n",
       "      <td>0.0</td>\n",
       "      <td>0.0</td>\n",
       "      <td>0.0</td>\n",
       "      <td>0.0</td>\n",
       "      <td>...</td>\n",
       "      <td>0.0</td>\n",
       "      <td>0.0</td>\n",
       "      <td>0.0</td>\n",
       "      <td>0.0</td>\n",
       "      <td>-22.458015</td>\n",
       "      <td>-29.381679</td>\n",
       "      <td>-24.106870</td>\n",
       "      <td>-14.061069</td>\n",
       "      <td>-1.458015</td>\n",
       "      <td>1</td>\n",
       "    </tr>\n",
       "  </tbody>\n",
       "</table>\n",
       "<p>5 rows × 121 columns</p>\n",
       "</div>"
      ],
      "text/plain": [
       "              Ax_1  Ax_2  Ax_3  Ax_4  Ax_5  Ax_6  Ax_7  Ax_8  Ax_9  Ax_10  \\\n",
       "1.524893e+09   0.0   0.0   0.0   0.0   0.0   0.0   0.0   0.0   0.0    0.0   \n",
       "1.524893e+09   0.0   0.0   0.0   0.0   0.0   0.0   0.0   0.0   0.0    0.0   \n",
       "1.524893e+09   0.0   0.0   0.0   0.0   0.0   0.0   0.0   0.0   0.0    0.0   \n",
       "1.524893e+09   0.0   0.0   0.0   0.0   0.0   0.0   0.0   0.0   0.0    0.0   \n",
       "1.524893e+09   0.0   0.0   0.0   0.0   0.0   0.0   0.0   0.0   0.0    0.0   \n",
       "\n",
       "                ...     Gz_12  Gz_13  Gz_14  Gz_15      Gz_16      Gz_17  \\\n",
       "1.524893e+09    ...       0.0    0.0    0.0    0.0   0.000000   0.000000   \n",
       "1.524893e+09    ...       0.0    0.0    0.0    0.0   0.000000   0.000000   \n",
       "1.524893e+09    ...       0.0    0.0    0.0    0.0   0.000000   0.000000   \n",
       "1.524893e+09    ...       0.0    0.0    0.0    0.0   0.000000 -22.458015   \n",
       "1.524893e+09    ...       0.0    0.0    0.0    0.0 -22.458015 -29.381679   \n",
       "\n",
       "                  Gz_18      Gz_19      Gz_20  movement  \n",
       "1.524893e+09   0.000000   0.000000 -22.458015         1  \n",
       "1.524893e+09   0.000000 -22.458015 -29.381679         1  \n",
       "1.524893e+09 -22.458015 -29.381679 -24.106870         1  \n",
       "1.524893e+09 -29.381679 -24.106870 -14.061069         1  \n",
       "1.524893e+09 -24.106870 -14.061069  -1.458015         1  \n",
       "\n",
       "[5 rows x 121 columns]"
      ]
     },
     "execution_count": 187,
     "metadata": {},
     "output_type": "execute_result"
    }
   ],
   "source": [
    "header = [name + '_' + str(i) for name in ['Ax','Ay','Az','Gx','Gy','Gz'] for i in range(1,21)]+['movement']\n",
    "data = pd.read_csv('movements.csv', header=None, index_col=0, names=header)\n",
    "data.head()"
   ]
  },
  {
   "cell_type": "code",
   "execution_count": 188,
   "metadata": {
    "slideshow": {
     "slide_type": "fragment"
    }
   },
   "outputs": [],
   "source": [
    "from sklearn.ensemble import RandomForestClassifier"
   ]
  },
  {
   "cell_type": "markdown",
   "metadata": {
    "slideshow": {
     "slide_type": "slide"
    }
   },
   "source": [
    "Estraiamo i nomi delle features:"
   ]
  },
  {
   "cell_type": "code",
   "execution_count": 189,
   "metadata": {
    "slideshow": {
     "slide_type": "fragment"
    }
   },
   "outputs": [
    {
     "name": "stdout",
     "output_type": "stream",
     "text": [
      "['Ax_1', 'Ax_2', 'Ax_3', 'Ax_4', 'Ax_5', 'Ax_6', 'Ax_7', 'Ax_8', 'Ax_9', 'Ax_10', 'Ax_11', 'Ax_12', 'Ax_13', 'Ax_14', 'Ax_15', 'Ax_16', 'Ax_17', 'Ax_18', 'Ax_19', 'Ax_20', 'Ay_1', 'Ay_2', 'Ay_3', 'Ay_4', 'Ay_5', 'Ay_6', 'Ay_7', 'Ay_8', 'Ay_9', 'Ay_10', 'Ay_11', 'Ay_12', 'Ay_13', 'Ay_14', 'Ay_15', 'Ay_16', 'Ay_17', 'Ay_18', 'Ay_19', 'Ay_20', 'Az_1', 'Az_2', 'Az_3', 'Az_4', 'Az_5', 'Az_6', 'Az_7', 'Az_8', 'Az_9', 'Az_10', 'Az_11', 'Az_12', 'Az_13', 'Az_14', 'Az_15', 'Az_16', 'Az_17', 'Az_18', 'Az_19', 'Az_20', 'Gx_1', 'Gx_2', 'Gx_3', 'Gx_4', 'Gx_5', 'Gx_6', 'Gx_7', 'Gx_8', 'Gx_9', 'Gx_10', 'Gx_11', 'Gx_12', 'Gx_13', 'Gx_14', 'Gx_15', 'Gx_16', 'Gx_17', 'Gx_18', 'Gx_19', 'Gx_20', 'Gy_1', 'Gy_2', 'Gy_3', 'Gy_4', 'Gy_5', 'Gy_6', 'Gy_7', 'Gy_8', 'Gy_9', 'Gy_10', 'Gy_11', 'Gy_12', 'Gy_13', 'Gy_14', 'Gy_15', 'Gy_16', 'Gy_17', 'Gy_18', 'Gy_19', 'Gy_20', 'Gz_1', 'Gz_2', 'Gz_3', 'Gz_4', 'Gz_5', 'Gz_6', 'Gz_7', 'Gz_8', 'Gz_9', 'Gz_10', 'Gz_11', 'Gz_12', 'Gz_13', 'Gz_14', 'Gz_15', 'Gz_16', 'Gz_17', 'Gz_18', 'Gz_19', 'Gz_20']\n"
     ]
    }
   ],
   "source": [
    "features = [col for col in data.columns.tolist() if col!='movement']\n",
    "print features"
   ]
  },
  {
   "cell_type": "markdown",
   "metadata": {
    "slideshow": {
     "slide_type": "slide"
    }
   },
   "source": [
    "Scombiamo a caso l'ordine dei campioni..."
   ]
  },
  {
   "cell_type": "code",
   "execution_count": 190,
   "metadata": {
    "slideshow": {
     "slide_type": "fragment"
    }
   },
   "outputs": [
    {
     "data": {
      "text/html": [
       "<div>\n",
       "<style>\n",
       "    .dataframe thead tr:only-child th {\n",
       "        text-align: right;\n",
       "    }\n",
       "\n",
       "    .dataframe thead th {\n",
       "        text-align: left;\n",
       "    }\n",
       "\n",
       "    .dataframe tbody tr th {\n",
       "        vertical-align: top;\n",
       "    }\n",
       "</style>\n",
       "<table border=\"1\" class=\"dataframe\">\n",
       "  <thead>\n",
       "    <tr style=\"text-align: right;\">\n",
       "      <th></th>\n",
       "      <th>Ax_1</th>\n",
       "      <th>Ax_2</th>\n",
       "      <th>Ax_3</th>\n",
       "      <th>Ax_4</th>\n",
       "      <th>Ax_5</th>\n",
       "      <th>Ax_6</th>\n",
       "      <th>Ax_7</th>\n",
       "      <th>Ax_8</th>\n",
       "      <th>Ax_9</th>\n",
       "      <th>Ax_10</th>\n",
       "      <th>...</th>\n",
       "      <th>Gz_12</th>\n",
       "      <th>Gz_13</th>\n",
       "      <th>Gz_14</th>\n",
       "      <th>Gz_15</th>\n",
       "      <th>Gz_16</th>\n",
       "      <th>Gz_17</th>\n",
       "      <th>Gz_18</th>\n",
       "      <th>Gz_19</th>\n",
       "      <th>Gz_20</th>\n",
       "      <th>movement</th>\n",
       "    </tr>\n",
       "  </thead>\n",
       "  <tbody>\n",
       "    <tr>\n",
       "      <th>1.524893e+09</th>\n",
       "      <td>1.190430</td>\n",
       "      <td>1.000244</td>\n",
       "      <td>0.942139</td>\n",
       "      <td>0.949707</td>\n",
       "      <td>1.032227</td>\n",
       "      <td>1.035889</td>\n",
       "      <td>1.137451</td>\n",
       "      <td>0.971436</td>\n",
       "      <td>0.849121</td>\n",
       "      <td>0.544678</td>\n",
       "      <td>...</td>\n",
       "      <td>-22.213740</td>\n",
       "      <td>-6.557252</td>\n",
       "      <td>5.809160</td>\n",
       "      <td>15.778626</td>\n",
       "      <td>26.419847</td>\n",
       "      <td>32.595420</td>\n",
       "      <td>35.374046</td>\n",
       "      <td>37.274809</td>\n",
       "      <td>39.854962</td>\n",
       "      <td>1</td>\n",
       "    </tr>\n",
       "    <tr>\n",
       "      <th>1.524893e+09</th>\n",
       "      <td>1.988037</td>\n",
       "      <td>1.604248</td>\n",
       "      <td>1.273438</td>\n",
       "      <td>1.159424</td>\n",
       "      <td>1.280273</td>\n",
       "      <td>1.456543</td>\n",
       "      <td>1.594971</td>\n",
       "      <td>1.659668</td>\n",
       "      <td>1.358154</td>\n",
       "      <td>1.071045</td>\n",
       "      <td>...</td>\n",
       "      <td>-34.160305</td>\n",
       "      <td>-25.961832</td>\n",
       "      <td>-15.099237</td>\n",
       "      <td>-6.282443</td>\n",
       "      <td>2.045802</td>\n",
       "      <td>15.358779</td>\n",
       "      <td>23.862595</td>\n",
       "      <td>32.572519</td>\n",
       "      <td>37.496183</td>\n",
       "      <td>3</td>\n",
       "    </tr>\n",
       "    <tr>\n",
       "      <th>1.524893e+09</th>\n",
       "      <td>0.000000</td>\n",
       "      <td>0.000000</td>\n",
       "      <td>0.000000</td>\n",
       "      <td>0.000000</td>\n",
       "      <td>0.000000</td>\n",
       "      <td>0.000000</td>\n",
       "      <td>0.000000</td>\n",
       "      <td>0.000000</td>\n",
       "      <td>0.000000</td>\n",
       "      <td>0.932617</td>\n",
       "      <td>...</td>\n",
       "      <td>8.664122</td>\n",
       "      <td>6.419847</td>\n",
       "      <td>3.022901</td>\n",
       "      <td>-0.572519</td>\n",
       "      <td>-3.885496</td>\n",
       "      <td>-6.854962</td>\n",
       "      <td>-8.129771</td>\n",
       "      <td>-8.900763</td>\n",
       "      <td>-10.175573</td>\n",
       "      <td>4</td>\n",
       "    </tr>\n",
       "    <tr>\n",
       "      <th>1.524893e+09</th>\n",
       "      <td>1.126221</td>\n",
       "      <td>1.125732</td>\n",
       "      <td>1.154297</td>\n",
       "      <td>1.109619</td>\n",
       "      <td>1.174805</td>\n",
       "      <td>1.140869</td>\n",
       "      <td>1.072754</td>\n",
       "      <td>1.075439</td>\n",
       "      <td>0.962158</td>\n",
       "      <td>0.917480</td>\n",
       "      <td>...</td>\n",
       "      <td>9.366412</td>\n",
       "      <td>9.343511</td>\n",
       "      <td>9.198473</td>\n",
       "      <td>5.458015</td>\n",
       "      <td>1.213740</td>\n",
       "      <td>-1.450382</td>\n",
       "      <td>-4.702290</td>\n",
       "      <td>-7.312977</td>\n",
       "      <td>-9.106870</td>\n",
       "      <td>4</td>\n",
       "    </tr>\n",
       "    <tr>\n",
       "      <th>1.524893e+09</th>\n",
       "      <td>0.120605</td>\n",
       "      <td>0.335693</td>\n",
       "      <td>0.548096</td>\n",
       "      <td>0.668457</td>\n",
       "      <td>0.740479</td>\n",
       "      <td>0.989990</td>\n",
       "      <td>1.286865</td>\n",
       "      <td>1.386719</td>\n",
       "      <td>1.487061</td>\n",
       "      <td>1.361084</td>\n",
       "      <td>...</td>\n",
       "      <td>-13.053435</td>\n",
       "      <td>-21.320611</td>\n",
       "      <td>-28.068702</td>\n",
       "      <td>-33.007634</td>\n",
       "      <td>-37.671756</td>\n",
       "      <td>-41.213740</td>\n",
       "      <td>-40.419847</td>\n",
       "      <td>-39.687023</td>\n",
       "      <td>-35.419847</td>\n",
       "      <td>1</td>\n",
       "    </tr>\n",
       "    <tr>\n",
       "      <th>1.524893e+09</th>\n",
       "      <td>1.604248</td>\n",
       "      <td>1.273438</td>\n",
       "      <td>1.159424</td>\n",
       "      <td>1.280273</td>\n",
       "      <td>1.456543</td>\n",
       "      <td>1.594971</td>\n",
       "      <td>1.659668</td>\n",
       "      <td>1.358154</td>\n",
       "      <td>1.071045</td>\n",
       "      <td>0.768799</td>\n",
       "      <td>...</td>\n",
       "      <td>-25.961832</td>\n",
       "      <td>-15.099237</td>\n",
       "      <td>-6.282443</td>\n",
       "      <td>2.045802</td>\n",
       "      <td>15.358779</td>\n",
       "      <td>23.862595</td>\n",
       "      <td>32.572519</td>\n",
       "      <td>37.496183</td>\n",
       "      <td>40.664122</td>\n",
       "      <td>3</td>\n",
       "    </tr>\n",
       "    <tr>\n",
       "      <th>1.524893e+09</th>\n",
       "      <td>0.000000</td>\n",
       "      <td>0.000000</td>\n",
       "      <td>0.000000</td>\n",
       "      <td>0.000000</td>\n",
       "      <td>0.000000</td>\n",
       "      <td>0.997559</td>\n",
       "      <td>1.009277</td>\n",
       "      <td>1.000488</td>\n",
       "      <td>1.046631</td>\n",
       "      <td>1.133301</td>\n",
       "      <td>...</td>\n",
       "      <td>-5.404580</td>\n",
       "      <td>-5.793893</td>\n",
       "      <td>-6.496183</td>\n",
       "      <td>-7.465649</td>\n",
       "      <td>-7.274809</td>\n",
       "      <td>-5.656489</td>\n",
       "      <td>-3.969466</td>\n",
       "      <td>-2.221374</td>\n",
       "      <td>-1.007634</td>\n",
       "      <td>5</td>\n",
       "    </tr>\n",
       "    <tr>\n",
       "      <th>1.524893e+09</th>\n",
       "      <td>0.496826</td>\n",
       "      <td>0.417969</td>\n",
       "      <td>0.373047</td>\n",
       "      <td>0.265625</td>\n",
       "      <td>0.007080</td>\n",
       "      <td>0.082520</td>\n",
       "      <td>0.128662</td>\n",
       "      <td>-0.130371</td>\n",
       "      <td>-0.205566</td>\n",
       "      <td>-0.119141</td>\n",
       "      <td>...</td>\n",
       "      <td>14.801527</td>\n",
       "      <td>12.343511</td>\n",
       "      <td>16.137405</td>\n",
       "      <td>14.557252</td>\n",
       "      <td>16.961832</td>\n",
       "      <td>18.496183</td>\n",
       "      <td>7.251908</td>\n",
       "      <td>0.801527</td>\n",
       "      <td>-2.961832</td>\n",
       "      <td>2</td>\n",
       "    </tr>\n",
       "    <tr>\n",
       "      <th>1.524893e+09</th>\n",
       "      <td>0.928467</td>\n",
       "      <td>0.947510</td>\n",
       "      <td>0.980225</td>\n",
       "      <td>1.073975</td>\n",
       "      <td>1.138428</td>\n",
       "      <td>1.135986</td>\n",
       "      <td>1.153320</td>\n",
       "      <td>1.163574</td>\n",
       "      <td>1.135742</td>\n",
       "      <td>1.054443</td>\n",
       "      <td>...</td>\n",
       "      <td>3.832061</td>\n",
       "      <td>4.381679</td>\n",
       "      <td>4.557252</td>\n",
       "      <td>4.213740</td>\n",
       "      <td>3.908397</td>\n",
       "      <td>4.000000</td>\n",
       "      <td>4.404580</td>\n",
       "      <td>5.419847</td>\n",
       "      <td>7.633588</td>\n",
       "      <td>5</td>\n",
       "    </tr>\n",
       "    <tr>\n",
       "      <th>1.524893e+09</th>\n",
       "      <td>0.000000</td>\n",
       "      <td>0.000000</td>\n",
       "      <td>0.000000</td>\n",
       "      <td>0.000000</td>\n",
       "      <td>0.000000</td>\n",
       "      <td>0.000000</td>\n",
       "      <td>0.000000</td>\n",
       "      <td>0.000000</td>\n",
       "      <td>0.000000</td>\n",
       "      <td>0.000000</td>\n",
       "      <td>...</td>\n",
       "      <td>0.000000</td>\n",
       "      <td>0.000000</td>\n",
       "      <td>0.000000</td>\n",
       "      <td>0.000000</td>\n",
       "      <td>0.000000</td>\n",
       "      <td>0.000000</td>\n",
       "      <td>0.000000</td>\n",
       "      <td>-22.458015</td>\n",
       "      <td>-29.381679</td>\n",
       "      <td>1</td>\n",
       "    </tr>\n",
       "  </tbody>\n",
       "</table>\n",
       "<p>10 rows × 121 columns</p>\n",
       "</div>"
      ],
      "text/plain": [
       "                  Ax_1      Ax_2      Ax_3      Ax_4      Ax_5      Ax_6  \\\n",
       "1.524893e+09  1.190430  1.000244  0.942139  0.949707  1.032227  1.035889   \n",
       "1.524893e+09  1.988037  1.604248  1.273438  1.159424  1.280273  1.456543   \n",
       "1.524893e+09  0.000000  0.000000  0.000000  0.000000  0.000000  0.000000   \n",
       "1.524893e+09  1.126221  1.125732  1.154297  1.109619  1.174805  1.140869   \n",
       "1.524893e+09  0.120605  0.335693  0.548096  0.668457  0.740479  0.989990   \n",
       "1.524893e+09  1.604248  1.273438  1.159424  1.280273  1.456543  1.594971   \n",
       "1.524893e+09  0.000000  0.000000  0.000000  0.000000  0.000000  0.997559   \n",
       "1.524893e+09  0.496826  0.417969  0.373047  0.265625  0.007080  0.082520   \n",
       "1.524893e+09  0.928467  0.947510  0.980225  1.073975  1.138428  1.135986   \n",
       "1.524893e+09  0.000000  0.000000  0.000000  0.000000  0.000000  0.000000   \n",
       "\n",
       "                  Ax_7      Ax_8      Ax_9     Ax_10    ...         Gz_12  \\\n",
       "1.524893e+09  1.137451  0.971436  0.849121  0.544678    ...    -22.213740   \n",
       "1.524893e+09  1.594971  1.659668  1.358154  1.071045    ...    -34.160305   \n",
       "1.524893e+09  0.000000  0.000000  0.000000  0.932617    ...      8.664122   \n",
       "1.524893e+09  1.072754  1.075439  0.962158  0.917480    ...      9.366412   \n",
       "1.524893e+09  1.286865  1.386719  1.487061  1.361084    ...    -13.053435   \n",
       "1.524893e+09  1.659668  1.358154  1.071045  0.768799    ...    -25.961832   \n",
       "1.524893e+09  1.009277  1.000488  1.046631  1.133301    ...     -5.404580   \n",
       "1.524893e+09  0.128662 -0.130371 -0.205566 -0.119141    ...     14.801527   \n",
       "1.524893e+09  1.153320  1.163574  1.135742  1.054443    ...      3.832061   \n",
       "1.524893e+09  0.000000  0.000000  0.000000  0.000000    ...      0.000000   \n",
       "\n",
       "                  Gz_13      Gz_14      Gz_15      Gz_16      Gz_17  \\\n",
       "1.524893e+09  -6.557252   5.809160  15.778626  26.419847  32.595420   \n",
       "1.524893e+09 -25.961832 -15.099237  -6.282443   2.045802  15.358779   \n",
       "1.524893e+09   6.419847   3.022901  -0.572519  -3.885496  -6.854962   \n",
       "1.524893e+09   9.343511   9.198473   5.458015   1.213740  -1.450382   \n",
       "1.524893e+09 -21.320611 -28.068702 -33.007634 -37.671756 -41.213740   \n",
       "1.524893e+09 -15.099237  -6.282443   2.045802  15.358779  23.862595   \n",
       "1.524893e+09  -5.793893  -6.496183  -7.465649  -7.274809  -5.656489   \n",
       "1.524893e+09  12.343511  16.137405  14.557252  16.961832  18.496183   \n",
       "1.524893e+09   4.381679   4.557252   4.213740   3.908397   4.000000   \n",
       "1.524893e+09   0.000000   0.000000   0.000000   0.000000   0.000000   \n",
       "\n",
       "                  Gz_18      Gz_19      Gz_20  movement  \n",
       "1.524893e+09  35.374046  37.274809  39.854962         1  \n",
       "1.524893e+09  23.862595  32.572519  37.496183         3  \n",
       "1.524893e+09  -8.129771  -8.900763 -10.175573         4  \n",
       "1.524893e+09  -4.702290  -7.312977  -9.106870         4  \n",
       "1.524893e+09 -40.419847 -39.687023 -35.419847         1  \n",
       "1.524893e+09  32.572519  37.496183  40.664122         3  \n",
       "1.524893e+09  -3.969466  -2.221374  -1.007634         5  \n",
       "1.524893e+09   7.251908   0.801527  -2.961832         2  \n",
       "1.524893e+09   4.404580   5.419847   7.633588         5  \n",
       "1.524893e+09   0.000000 -22.458015 -29.381679         1  \n",
       "\n",
       "[10 rows x 121 columns]"
      ]
     },
     "execution_count": 190,
     "metadata": {},
     "output_type": "execute_result"
    }
   ],
   "source": [
    "shuffled_data = data.sample(frac=1)\n",
    "shuffled_data.head(10)"
   ]
  },
  {
   "cell_type": "markdown",
   "metadata": {
    "slideshow": {
     "slide_type": "slide"
    }
   },
   "source": [
    "** Ora proviamo a costruire un classificatore Random Forest! **\n",
    "\n",
    "Essendo nella fase di sviluppo del modello per prima cosa occorre separare i dati in:\n",
    "* training data\n",
    "* test data"
   ]
  },
  {
   "cell_type": "code",
   "execution_count": 191,
   "metadata": {
    "slideshow": {
     "slide_type": "fragment"
    }
   },
   "outputs": [
    {
     "name": "stdout",
     "output_type": "stream",
     "text": [
      "N of train samples = 500,  N of test samples = 251\n"
     ]
    }
   ],
   "source": [
    "n_of_train_samples = 500\n",
    "n_of_test_samples = len(data) - n_of_train_samples\n",
    "\n",
    "train_data = shuffled_data.iloc[0:n_of_train_samples]\n",
    "test_data = shuffled_data.iloc[n_of_train_samples:len(shuffled_data)]\n",
    "\n",
    "print \"N of train samples = %i,  N of test samples = %i\"%(n_of_train_samples, n_of_test_samples)"
   ]
  },
  {
   "cell_type": "markdown",
   "metadata": {
    "slideshow": {
     "slide_type": "slide"
    }
   },
   "source": [
    "### Creazione dei dataset di test e di training"
   ]
  },
  {
   "cell_type": "code",
   "execution_count": 192,
   "metadata": {
    "slideshow": {
     "slide_type": "fragment"
    }
   },
   "outputs": [],
   "source": [
    "X_train = train_data[features].values\n",
    "X_test = test_data[features].values\n",
    "\n",
    "y_train = train_data['movement'].values\n",
    "y_test = test_data['movement'].values"
   ]
  },
  {
   "cell_type": "markdown",
   "metadata": {
    "slideshow": {
     "slide_type": "slide"
    }
   },
   "source": [
    "### Creiamo l'algoritmo"
   ]
  },
  {
   "cell_type": "code",
   "execution_count": 193,
   "metadata": {
    "slideshow": {
     "slide_type": "fragment"
    }
   },
   "outputs": [
    {
     "data": {
      "text/plain": [
       "RandomForestClassifier(bootstrap=True, class_weight=None, criterion='gini',\n",
       "            max_depth=3, max_features='auto', max_leaf_nodes=None,\n",
       "            min_impurity_decrease=0.0, min_impurity_split=None,\n",
       "            min_samples_leaf=1, min_samples_split=2,\n",
       "            min_weight_fraction_leaf=0.0, n_estimators=100, n_jobs=1,\n",
       "            oob_score=False, random_state=0, verbose=0, warm_start=False)"
      ]
     },
     "execution_count": 193,
     "metadata": {},
     "output_type": "execute_result"
    }
   ],
   "source": [
    "max_depth=3\n",
    "n_estimators=100\n",
    "clf = RandomForestClassifier(max_depth=max_depth, n_estimators=n_estimators, random_state=0)\n",
    "clf.fit(X_train, y_train)"
   ]
  },
  {
   "cell_type": "markdown",
   "metadata": {
    "slideshow": {
     "slide_type": "fragment"
    }
   },
   "source": [
    "Utilizzando questo modello calcoliamo la percentuale di movimenti classificati correttamente all'interno del test dataset..."
   ]
  },
  {
   "cell_type": "code",
   "execution_count": 194,
   "metadata": {
    "slideshow": {
     "slide_type": "fragment"
    }
   },
   "outputs": [
    {
     "data": {
      "text/plain": [
       "0.9322709163346613"
      ]
     },
     "execution_count": 194,
     "metadata": {},
     "output_type": "execute_result"
    }
   ],
   "source": [
    "clf.score(X_test, y_test)"
   ]
  },
  {
   "cell_type": "markdown",
   "metadata": {
    "slideshow": {
     "slide_type": "fragment"
    }
   },
   "source": [
    "## Funziona!"
   ]
  },
  {
   "cell_type": "code",
   "execution_count": 199,
   "metadata": {},
   "outputs": [
    {
     "data": {
      "text/html": [
       "<div>\n",
       "<style>\n",
       "    .dataframe thead tr:only-child th {\n",
       "        text-align: right;\n",
       "    }\n",
       "\n",
       "    .dataframe thead th {\n",
       "        text-align: left;\n",
       "    }\n",
       "\n",
       "    .dataframe tbody tr th {\n",
       "        vertical-align: top;\n",
       "    }\n",
       "</style>\n",
       "<table border=\"1\" class=\"dataframe\">\n",
       "  <thead>\n",
       "    <tr style=\"text-align: right;\">\n",
       "      <th></th>\n",
       "      <th>Importance</th>\n",
       "    </tr>\n",
       "  </thead>\n",
       "  <tbody>\n",
       "    <tr>\n",
       "      <th>Az_20</th>\n",
       "      <td>0.061325</td>\n",
       "    </tr>\n",
       "    <tr>\n",
       "      <th>Az_16</th>\n",
       "      <td>0.045365</td>\n",
       "    </tr>\n",
       "    <tr>\n",
       "      <th>Az_13</th>\n",
       "      <td>0.042696</td>\n",
       "    </tr>\n",
       "    <tr>\n",
       "      <th>Az_18</th>\n",
       "      <td>0.041579</td>\n",
       "    </tr>\n",
       "    <tr>\n",
       "      <th>Az_12</th>\n",
       "      <td>0.036949</td>\n",
       "    </tr>\n",
       "    <tr>\n",
       "      <th>Az_5</th>\n",
       "      <td>0.033504</td>\n",
       "    </tr>\n",
       "    <tr>\n",
       "      <th>Az_19</th>\n",
       "      <td>0.033115</td>\n",
       "    </tr>\n",
       "    <tr>\n",
       "      <th>Az_9</th>\n",
       "      <td>0.029419</td>\n",
       "    </tr>\n",
       "    <tr>\n",
       "      <th>Az_14</th>\n",
       "      <td>0.029165</td>\n",
       "    </tr>\n",
       "    <tr>\n",
       "      <th>Az_6</th>\n",
       "      <td>0.029029</td>\n",
       "    </tr>\n",
       "    <tr>\n",
       "      <th>Az_7</th>\n",
       "      <td>0.028534</td>\n",
       "    </tr>\n",
       "    <tr>\n",
       "      <th>Az_1</th>\n",
       "      <td>0.028331</td>\n",
       "    </tr>\n",
       "    <tr>\n",
       "      <th>Az_17</th>\n",
       "      <td>0.027398</td>\n",
       "    </tr>\n",
       "    <tr>\n",
       "      <th>Az_8</th>\n",
       "      <td>0.024070</td>\n",
       "    </tr>\n",
       "    <tr>\n",
       "      <th>Az_15</th>\n",
       "      <td>0.023431</td>\n",
       "    </tr>\n",
       "    <tr>\n",
       "      <th>Az_4</th>\n",
       "      <td>0.020640</td>\n",
       "    </tr>\n",
       "    <tr>\n",
       "      <th>Az_11</th>\n",
       "      <td>0.019085</td>\n",
       "    </tr>\n",
       "    <tr>\n",
       "      <th>Ax_16</th>\n",
       "      <td>0.017327</td>\n",
       "    </tr>\n",
       "    <tr>\n",
       "      <th>Az_10</th>\n",
       "      <td>0.017198</td>\n",
       "    </tr>\n",
       "    <tr>\n",
       "      <th>Az_3</th>\n",
       "      <td>0.016747</td>\n",
       "    </tr>\n",
       "    <tr>\n",
       "      <th>Az_2</th>\n",
       "      <td>0.014713</td>\n",
       "    </tr>\n",
       "    <tr>\n",
       "      <th>Ax_18</th>\n",
       "      <td>0.014346</td>\n",
       "    </tr>\n",
       "    <tr>\n",
       "      <th>Ay_18</th>\n",
       "      <td>0.012902</td>\n",
       "    </tr>\n",
       "    <tr>\n",
       "      <th>Ay_9</th>\n",
       "      <td>0.012867</td>\n",
       "    </tr>\n",
       "    <tr>\n",
       "      <th>Gz_16</th>\n",
       "      <td>0.012507</td>\n",
       "    </tr>\n",
       "    <tr>\n",
       "      <th>Ay_17</th>\n",
       "      <td>0.011961</td>\n",
       "    </tr>\n",
       "    <tr>\n",
       "      <th>Ax_17</th>\n",
       "      <td>0.011160</td>\n",
       "    </tr>\n",
       "    <tr>\n",
       "      <th>Gz_5</th>\n",
       "      <td>0.010093</td>\n",
       "    </tr>\n",
       "    <tr>\n",
       "      <th>Gz_3</th>\n",
       "      <td>0.009903</td>\n",
       "    </tr>\n",
       "    <tr>\n",
       "      <th>Gz_18</th>\n",
       "      <td>0.009437</td>\n",
       "    </tr>\n",
       "    <tr>\n",
       "      <th>...</th>\n",
       "      <td>...</td>\n",
       "    </tr>\n",
       "    <tr>\n",
       "      <th>Gy_15</th>\n",
       "      <td>0.001101</td>\n",
       "    </tr>\n",
       "    <tr>\n",
       "      <th>Gy_6</th>\n",
       "      <td>0.001062</td>\n",
       "    </tr>\n",
       "    <tr>\n",
       "      <th>Gy_18</th>\n",
       "      <td>0.001008</td>\n",
       "    </tr>\n",
       "    <tr>\n",
       "      <th>Gx_8</th>\n",
       "      <td>0.000986</td>\n",
       "    </tr>\n",
       "    <tr>\n",
       "      <th>Gy_5</th>\n",
       "      <td>0.000919</td>\n",
       "    </tr>\n",
       "    <tr>\n",
       "      <th>Gx_9</th>\n",
       "      <td>0.000785</td>\n",
       "    </tr>\n",
       "    <tr>\n",
       "      <th>Gx_13</th>\n",
       "      <td>0.000779</td>\n",
       "    </tr>\n",
       "    <tr>\n",
       "      <th>Gy_17</th>\n",
       "      <td>0.000746</td>\n",
       "    </tr>\n",
       "    <tr>\n",
       "      <th>Gz_17</th>\n",
       "      <td>0.000744</td>\n",
       "    </tr>\n",
       "    <tr>\n",
       "      <th>Gx_12</th>\n",
       "      <td>0.000718</td>\n",
       "    </tr>\n",
       "    <tr>\n",
       "      <th>Gy_16</th>\n",
       "      <td>0.000697</td>\n",
       "    </tr>\n",
       "    <tr>\n",
       "      <th>Gx_5</th>\n",
       "      <td>0.000678</td>\n",
       "    </tr>\n",
       "    <tr>\n",
       "      <th>Gy_8</th>\n",
       "      <td>0.000640</td>\n",
       "    </tr>\n",
       "    <tr>\n",
       "      <th>Gx_15</th>\n",
       "      <td>0.000535</td>\n",
       "    </tr>\n",
       "    <tr>\n",
       "      <th>Gx_1</th>\n",
       "      <td>0.000292</td>\n",
       "    </tr>\n",
       "    <tr>\n",
       "      <th>Gy_1</th>\n",
       "      <td>0.000279</td>\n",
       "    </tr>\n",
       "    <tr>\n",
       "      <th>Gx_2</th>\n",
       "      <td>0.000203</td>\n",
       "    </tr>\n",
       "    <tr>\n",
       "      <th>Gx_4</th>\n",
       "      <td>0.000193</td>\n",
       "    </tr>\n",
       "    <tr>\n",
       "      <th>Gy_3</th>\n",
       "      <td>0.000101</td>\n",
       "    </tr>\n",
       "    <tr>\n",
       "      <th>Gx_6</th>\n",
       "      <td>0.000099</td>\n",
       "    </tr>\n",
       "    <tr>\n",
       "      <th>Gx_16</th>\n",
       "      <td>0.000096</td>\n",
       "    </tr>\n",
       "    <tr>\n",
       "      <th>Gy_19</th>\n",
       "      <td>0.000023</td>\n",
       "    </tr>\n",
       "    <tr>\n",
       "      <th>Gx_3</th>\n",
       "      <td>0.000011</td>\n",
       "    </tr>\n",
       "    <tr>\n",
       "      <th>Gx_14</th>\n",
       "      <td>0.000000</td>\n",
       "    </tr>\n",
       "    <tr>\n",
       "      <th>Gx_19</th>\n",
       "      <td>0.000000</td>\n",
       "    </tr>\n",
       "    <tr>\n",
       "      <th>Gx_20</th>\n",
       "      <td>0.000000</td>\n",
       "    </tr>\n",
       "    <tr>\n",
       "      <th>Gx_10</th>\n",
       "      <td>0.000000</td>\n",
       "    </tr>\n",
       "    <tr>\n",
       "      <th>Gx_7</th>\n",
       "      <td>0.000000</td>\n",
       "    </tr>\n",
       "    <tr>\n",
       "      <th>Gy_13</th>\n",
       "      <td>0.000000</td>\n",
       "    </tr>\n",
       "    <tr>\n",
       "      <th>Gx_18</th>\n",
       "      <td>0.000000</td>\n",
       "    </tr>\n",
       "  </tbody>\n",
       "</table>\n",
       "<p>120 rows × 1 columns</p>\n",
       "</div>"
      ],
      "text/plain": [
       "       Importance\n",
       "Az_20    0.061325\n",
       "Az_16    0.045365\n",
       "Az_13    0.042696\n",
       "Az_18    0.041579\n",
       "Az_12    0.036949\n",
       "Az_5     0.033504\n",
       "Az_19    0.033115\n",
       "Az_9     0.029419\n",
       "Az_14    0.029165\n",
       "Az_6     0.029029\n",
       "Az_7     0.028534\n",
       "Az_1     0.028331\n",
       "Az_17    0.027398\n",
       "Az_8     0.024070\n",
       "Az_15    0.023431\n",
       "Az_4     0.020640\n",
       "Az_11    0.019085\n",
       "Ax_16    0.017327\n",
       "Az_10    0.017198\n",
       "Az_3     0.016747\n",
       "Az_2     0.014713\n",
       "Ax_18    0.014346\n",
       "Ay_18    0.012902\n",
       "Ay_9     0.012867\n",
       "Gz_16    0.012507\n",
       "Ay_17    0.011961\n",
       "Ax_17    0.011160\n",
       "Gz_5     0.010093\n",
       "Gz_3     0.009903\n",
       "Gz_18    0.009437\n",
       "...           ...\n",
       "Gy_15    0.001101\n",
       "Gy_6     0.001062\n",
       "Gy_18    0.001008\n",
       "Gx_8     0.000986\n",
       "Gy_5     0.000919\n",
       "Gx_9     0.000785\n",
       "Gx_13    0.000779\n",
       "Gy_17    0.000746\n",
       "Gz_17    0.000744\n",
       "Gx_12    0.000718\n",
       "Gy_16    0.000697\n",
       "Gx_5     0.000678\n",
       "Gy_8     0.000640\n",
       "Gx_15    0.000535\n",
       "Gx_1     0.000292\n",
       "Gy_1     0.000279\n",
       "Gx_2     0.000203\n",
       "Gx_4     0.000193\n",
       "Gy_3     0.000101\n",
       "Gx_6     0.000099\n",
       "Gx_16    0.000096\n",
       "Gy_19    0.000023\n",
       "Gx_3     0.000011\n",
       "Gx_14    0.000000\n",
       "Gx_19    0.000000\n",
       "Gx_20    0.000000\n",
       "Gx_10    0.000000\n",
       "Gx_7     0.000000\n",
       "Gy_13    0.000000\n",
       "Gx_18    0.000000\n",
       "\n",
       "[120 rows x 1 columns]"
      ]
     },
     "execution_count": 199,
     "metadata": {},
     "output_type": "execute_result"
    }
   ],
   "source": [
    "features_importance = pd.DataFrame(index = features,data={'Importance':clf.feature_importances_})\n",
    "features_importance.sort_values('Importance',ascending=False)"
   ]
  },
  {
   "cell_type": "markdown",
   "metadata": {
    "slideshow": {
     "slide_type": "slide"
    }
   },
   "source": [
    "### Ricreiamo lo stesso algoritmo ma...\n",
    "\n",
    "Con le sole due feature più rilevanti: Az_20 e Az_16"
   ]
  },
  {
   "cell_type": "code",
   "execution_count": 200,
   "metadata": {
    "slideshow": {
     "slide_type": "fragment"
    }
   },
   "outputs": [],
   "source": [
    "X_train_reduced = train_data[['Az_20','Az_16']].values\n",
    "X_test_reduced = test_data[['Az_20','Az_16']].values\n",
    "\n",
    "y_train = train_data['movement'].values\n",
    "y_test = test_data['movement'].values"
   ]
  },
  {
   "cell_type": "code",
   "execution_count": 202,
   "metadata": {
    "slideshow": {
     "slide_type": "fragment"
    }
   },
   "outputs": [
    {
     "data": {
      "text/plain": [
       "RandomForestClassifier(bootstrap=True, class_weight=None, criterion='gini',\n",
       "            max_depth=3, max_features='auto', max_leaf_nodes=None,\n",
       "            min_impurity_decrease=0.0, min_impurity_split=None,\n",
       "            min_samples_leaf=1, min_samples_split=2,\n",
       "            min_weight_fraction_leaf=0.0, n_estimators=100, n_jobs=1,\n",
       "            oob_score=False, random_state=0, verbose=0, warm_start=False)"
      ]
     },
     "execution_count": 202,
     "metadata": {},
     "output_type": "execute_result"
    }
   ],
   "source": [
    "max_depth=3\n",
    "n_estimators=100\n",
    "clf_reduced = RandomForestClassifier(max_depth=max_depth, n_estimators=n_estimators, random_state=0)\n",
    "clf_reduced.fit(X_train_reduced, y_train)"
   ]
  },
  {
   "cell_type": "code",
   "execution_count": 204,
   "metadata": {
    "slideshow": {
     "slide_type": "fragment"
    }
   },
   "outputs": [
    {
     "data": {
      "text/plain": [
       "0.7211155378486056"
      ]
     },
     "execution_count": 204,
     "metadata": {},
     "output_type": "execute_result"
    }
   ],
   "source": [
    "clf_reduced.score(X_test_reduced, y_test)"
   ]
  },
  {
   "cell_type": "code",
   "execution_count": 217,
   "metadata": {
    "slideshow": {
     "slide_type": "slide"
    }
   },
   "outputs": [
    {
     "data": {
      "image/png": "[encoded data removed]",
      "text/plain": [
       "<matplotlib.figure.Figure at 0x116f60ad0>"
      ]
     },
     "metadata": {},
     "output_type": "display_data"
    }
   ],
   "source": [
    "cmap_light = ListedColormap(['#FFAAAA', '#AAFFAA', '#AAAAFF', '#AFAAAA', '#AAAFAA'])\n",
    "cmap_bold = ListedColormap(['#FF0000', '#00FF00', '#0000FF', '#0FF000', '#000FF0'])\n",
    "\n",
    "# Plot the decision boundary. For that, we will assign a color to each\n",
    "# point in the mesh [x_min, x_max]x[y_min, y_max].\n",
    "x_min, x_max = X_train_reduced[:, 0].min() - 0.1, X_train_reduced[:, 0].max() + 0.1\n",
    "y_min, y_max = X_train_reduced[:, 1].min() - 0.1, X_train_reduced[:, 1].max() + 0.1\n",
    "xx, yy = np.meshgrid(np.arange(x_min, x_max, h), np.arange(y_min, y_max, h))\n",
    "Z = clf_reduced.predict(np.c_[xx.ravel(), yy.ravel()])\n",
    "\n",
    "# Put the result into a color plot\n",
    "Z = Z.reshape(xx.shape)\n",
    "plt.figure(figsize=(10,10))\n",
    "plt.pcolormesh(xx, yy, Z)#, cmap=cmap_light)\n",
    "\n",
    "# Plot also the training points\n",
    "plt.scatter(X_train_reduced[:, 0], X_train_reduced[:, 1], c=y_train-1, edgecolor='k', s=20)#, cmap=cmap_light)\n",
    "plt.xlim(xx.min(), xx.max())\n",
    "plt.ylim(yy.min(), yy.max())\n",
    "plt.xlabel('Az_20')\n",
    "plt.ylabel('Az_16')\n",
    "plt.show()"
   ]
  },
  {
   "cell_type": "code",
   "execution_count": 215,
   "metadata": {},
   "outputs": [
    {
     "data": {
      "text/plain": [
       "array([1, 4, 1, 4, 4, 1, 4, 3, 3, 4, 5, 4, 3, 5, 4, 3, 5, 3, 4, 5, 4, 2, 4,\n",
       "       1, 1, 3, 5, 3, 4, 4, 3, 2, 3, 3, 1, 1, 3, 4, 1, 1, 4, 5, 1, 4, 4, 1,\n",
       "       1, 5, 4, 1, 1, 4, 3, 4, 5, 3, 5, 4, 1, 4, 4, 3, 3, 3, 4, 2, 5, 3, 4,\n",
       "       3, 4, 4, 3, 2, 4, 5, 4, 4, 3, 3, 1, 5, 1, 4, 1, 1, 4, 3, 4, 1, 1, 2,\n",
       "       3, 3, 1, 5, 4, 3, 3, 4, 1, 3, 3, 4, 4, 3, 1, 4, 3, 5, 1, 1, 3, 1, 3,\n",
       "       3, 4, 1, 5, 3, 4, 5, 5, 3, 2, 5, 1, 3, 5, 1, 5, 1, 5, 4, 5, 1, 3, 3,\n",
       "       5, 3, 5, 5, 1, 5, 3, 3, 1, 1, 4, 3, 4, 4, 4, 5, 4, 4, 4, 1, 3, 2, 4,\n",
       "       2, 2, 4, 3, 4, 4, 3, 5, 3, 1, 4, 2, 3, 4, 4, 5, 1, 1, 5, 4, 5, 3, 3,\n",
       "       4, 1, 5, 3, 5, 2, 5, 2, 2, 5, 5, 1, 1, 3, 5, 3, 4, 3, 4, 5, 4, 4, 2,\n",
       "       5, 4, 1, 5, 5, 1, 1, 4, 3, 1, 3, 3, 3, 3, 3, 3, 3, 4, 5, 4, 4, 2, 3,\n",
       "       1, 3, 5, 3, 1, 4, 3, 3, 4, 3, 1, 1, 5, 3, 5, 2, 4, 3, 5, 4, 3])"
      ]
     },
     "execution_count": 215,
     "metadata": {},
     "output_type": "execute_result"
    }
   ],
   "source": [
    "y_test"
   ]
  },
  {
   "cell_type": "markdown",
   "metadata": {
    "slideshow": {
     "slide_type": "slide"
    }
   },
   "source": [
    "### E ora in produzione!!\n",
    "<img src=\"img/rpi.jpg\">"
   ]
  },
  {
   "cell_type": "code",
   "execution_count": null,
   "metadata": {},
   "outputs": [],
   "source": [
    "'''\n",
    "        Detect movements.\n",
    "\t\tUSAGE: python MovementDetector.py\n",
    "'''\n",
    "import smbus\t\t\t#import SMBus module of I2C\n",
    "import time         \n",
    "import collections\n",
    "import numpy as np\n",
    "import csv\n",
    "import sys\n",
    "import pandas as pd\n",
    "from sklearn.ensemble import RandomForestClassifier\n",
    "import config\n",
    "import socket\n",
    "\n",
    "\n",
    "#some MPU6050 Registers and their Address\n",
    "PWR_MGMT_1   = 0x6B\n",
    "SMPLRT_DIV   = 0x19\n",
    "CONFIG       = 0x1A\n",
    "GYRO_CONFIG  = 0x1B\n",
    "INT_ENABLE   = 0x38\n",
    "ACCEL_XOUT_H = 0x3B\n",
    "ACCEL_YOUT_H = 0x3D\n",
    "ACCEL_ZOUT_H = 0x3F\n",
    "GYRO_XOUT_H  = 0x43\n",
    "GYRO_YOUT_H  = 0x45\n",
    "GYRO_ZOUT_H  = 0x47\n",
    "\n",
    "\n",
    "def MPU_Init():\n",
    "\t#write to sample rate register\n",
    "\tbus.write_byte_data(Device_Address, SMPLRT_DIV, 7)\n",
    "\t\n",
    "\t#Write to power management register\n",
    "\tbus.write_byte_data(Device_Address, PWR_MGMT_1, 1)\n",
    "\t\n",
    "\t#Write to Configuration register\n",
    "\tbus.write_byte_data(Device_Address, CONFIG, 0)\n",
    "\t\n",
    "\t#Write to Gyro configuration register\n",
    "\tbus.write_byte_data(Device_Address, GYRO_CONFIG, 24)\n",
    "\t\n",
    "\t#Write to interrupt enable register\n",
    "\tbus.write_byte_data(Device_Address, INT_ENABLE, 1)\n",
    "\n",
    "def read_raw_data(addr):\n",
    "\t#Accelero and Gyro value are 16-bit\n",
    "    high = bus.read_byte_data(Device_Address, addr)\n",
    "    low = bus.read_byte_data(Device_Address, addr+1)\n",
    "    \n",
    "    #concatenate higher and lower value\n",
    "    value = ((high << 8) | low)\n",
    "        \n",
    "    #to get signed value from mpu6050\n",
    "    if(value > 32768):\n",
    "        value = value - 65536\n",
    "    return value\n",
    "\n",
    "\n",
    "\n",
    "bus = smbus.SMBus(1) \t# or bus = smbus.SMBus(0) for older version boards\n",
    "Device_Address = 0x68   # MPU6050 device address\n",
    "\n",
    "MPU_Init()\n",
    "\n",
    "LenFifo = config.LenFifo\n",
    "Athr = config.Athr\n",
    "tCycle = config.tCycle\n",
    "tDelay = config.tDelay\n",
    "ricorrenze = config.ricorrenze\n",
    "sogliaRic = config.sogliaRic\n",
    "minMovRec = config.minMovRec\n",
    "\n",
    "AxFifo = collections.deque(LenFifo*[0], LenFifo)\n",
    "AyFifo = collections.deque(LenFifo*[0], LenFifo)\n",
    "AzFifo = collections.deque(LenFifo*[0], LenFifo)\n",
    "GxFifo = collections.deque(LenFifo*[0], LenFifo)\n",
    "GyFifo = collections.deque(LenFifo*[0], LenFifo)\n",
    "GzFifo = collections.deque(LenFifo*[0], LenFifo)\n",
    "MvFifo = collections.deque(LenFifo*[0], LenFifo)\n",
    "\n",
    "#Model training\n",
    "print 'Training AI model'\n",
    "n_col = LenFifo * 6 \n",
    "train_data = pd.read_csv('movements.csv', index_col=0, header=None)\n",
    "X_train = train_data.iloc[:,0:n_col].values\n",
    "y_train = train_data.iloc[:,n_col].values\n",
    "\n",
    "algorithm = RandomForestClassifier(n_estimators=100, random_state=0) #max_depth=10,\n",
    "algorithm.fit(X_train, y_train)\n",
    "print 'AI model trained'\n",
    "print \"Inizio client\"\n",
    "\n",
    "\n",
    "host = '192.168.1.192'\n",
    "port = 1026\n",
    "countGen = 0\n",
    "\n",
    "while True:\n",
    "    #sock.bind((host, port))\n",
    "    #sock.listen(1)\n",
    "\n",
    "    #c, add = sock.accept()\n",
    "    count = 0\n",
    "    volte = 0 \n",
    "    while True:\n",
    "        #print 'Reading Data of Gyroscope and Accelerometer'\n",
    "        #Read Accelerometer raw value\n",
    "        acc_x = read_raw_data(ACCEL_XOUT_H)\n",
    "        acc_y = read_raw_data(ACCEL_YOUT_H)\n",
    "        acc_z = read_raw_data(ACCEL_ZOUT_H)\n",
    "\t\n",
    "\t    #Read Gyroscope raw value\n",
    "        gyro_x = read_raw_data(GYRO_XOUT_H)\n",
    "        gyro_y = read_raw_data(GYRO_YOUT_H)\n",
    "        gyro_z = read_raw_data(GYRO_ZOUT_H)\n",
    "\t\n",
    "\t    #Full scale range +/- 250 degree/C as per sensitivity scale factor\n",
    "        Ax = acc_x/16384.0\n",
    "        Ay = acc_y/16384.0\n",
    "        Az = acc_z/16384.0\n",
    "\n",
    "        Gx = gyro_x/131.0\n",
    "        Gy = gyro_y/131.0\n",
    "        Gz = gyro_z/131.0\n",
    "\n",
    "        AxFifo.append(Ax)\n",
    "        AyFifo.append(Ay)\n",
    "        AzFifo.append(Az)\n",
    "        GxFifo.append(Gx)\n",
    "        GyFifo.append(Gy)\n",
    "        GzFifo.append(Gz)\n",
    "\n",
    "        movement_detected = (np.abs(AxFifo[LenFifo-1]-AxFifo[LenFifo-2])>Athr) | (np.abs(AyFifo[LenFifo-1]-AyFifo[LenFifo-2])>Athr) | (np.abs(AzFifo[LenFifo-1]-AzFifo[LenFifo-2])>Athr)\n",
    "\n",
    "        if movement_detected:\n",
    "            count += 1\n",
    "            countGen += 1\n",
    "            X = np.array(list(AxFifo) + list(AyFifo) + list(AzFifo) + list(GxFifo) + list(GyFifo) + list(GzFifo)).reshape(-1,n_col)\n",
    "            y_predict = algorithm.predict(X)\n",
    "            predict_proba = algorithm.predict_proba(X)\n",
    "            print y_predict\n",
    "\t\t    #print ('Detected movement %d, probabilities :' % y_predict) + str(predict_proba)\n",
    "            MvFifo.append(y_predict)\n",
    "            if (count > minMovRec) and (countGen > LenFifo):\n",
    "                #print str(MvFifo[LenFifo - 1]) \n",
    "                for x in MvFifo:\n",
    "                    v = x[0] - 1\n",
    "                    #print v\n",
    "                    #print ricorrenze\n",
    "                    ricorrenze[v] += 1\n",
    "                        \n",
    "                massimo = max(ricorrenze)\n",
    "                numMax = ricorrenze.index(massimo)\n",
    "                if numMax != 5 and massimo >= sogliaRic:\n",
    "                    toSend = (ricorrenze.index(massimo)) + 1\n",
    "                    print toSend\n",
    "                    sock = socket.socket(socket.AF_INET,socket.SOCK_STREAM)    \n",
    "                    sock.connect((host, port))\n",
    "                    sock.send(str(toSend))\n",
    "                    count = 0\n",
    "                    for i,r in enumerate(ricorrenze):\n",
    "                        ricorrenze[i] = 0\n",
    "                    sock.close()\n",
    "                    time.sleep(tDelay)\n",
    "\n",
    "                '''else:\n",
    "                    print \"999\"\n",
    "                    c.send(\"999\") '''\n",
    "                \n",
    "\t    time.sleep(tCycle)\n",
    "close(csvfile)"
   ]
  }
 ],
 "metadata": {
  "celltoolbar": "Slideshow",
  "kernelspec": {
   "display_name": "Python 2",
   "language": "python",
   "name": "python2"
  },
  "language_info": {
   "codemirror_mode": {
    "name": "ipython",
    "version": 2
   },
   "file_extension": ".py",
   "mimetype": "text/x-python",
   "name": "python",
   "nbconvert_exporter": "python",
   "pygments_lexer": "ipython2",
   "version": "2.7.13"
  }
 },
 "nbformat": 4,
 "nbformat_minor": 2
}
